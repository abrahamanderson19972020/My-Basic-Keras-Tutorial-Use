{
 "cells": [
  {
   "cell_type": "code",
   "execution_count": 1,
   "metadata": {
    "_cell_guid": "b1076dfc-b9ad-4769-8c92-a6c4dae69d19",
    "_uuid": "8f2839f25d086af736a60e9eeb907d3b93b6e0e5",
    "execution": {
     "iopub.execute_input": "2020-12-19T14:34:25.249235Z",
     "iopub.status.busy": "2020-12-19T14:34:25.248336Z",
     "iopub.status.idle": "2020-12-19T14:34:25.265527Z",
     "shell.execute_reply": "2020-12-19T14:34:25.266143Z"
    },
    "papermill": {
     "duration": 0.090564,
     "end_time": "2020-12-19T14:34:25.266346",
     "exception": false,
     "start_time": "2020-12-19T14:34:25.175782",
     "status": "completed"
    },
    "tags": []
   },
   "outputs": [
    {
     "name": "stdout",
     "output_type": "stream",
     "text": [
      "/kaggle/input/regression-data/fake_reg.csv\n"
     ]
    }
   ],
   "source": [
    "# This Python 3 environment comes with many helpful analytics libraries installed\n",
    "# It is defined by the kaggle/python Docker image: https://github.com/kaggle/docker-python\n",
    "# For example, here's several helpful packages to load\n",
    "\n",
    "import numpy as np # linear algebra\n",
    "import pandas as pd # data processing, CSV file I/O (e.g. pd.read_csv)\n",
    "\n",
    "# Input data files are available in the read-only \"../input/\" directory\n",
    "# For example, running this (by clicking run or pressing Shift+Enter) will list all files under the input directory\n",
    "\n",
    "import os\n",
    "for dirname, _, filenames in os.walk('/kaggle/input'):\n",
    "    for filename in filenames:\n",
    "        print(os.path.join(dirname, filename))\n",
    "\n",
    "# You can write up to 20GB to the current directory (/kaggle/working/) that gets preserved as output when you create a version using \"Save & Run All\" \n",
    "# You can also write temporary files to /kaggle/temp/, but they won't be saved outside of the current session"
   ]
  },
  {
   "cell_type": "code",
   "execution_count": 2,
   "metadata": {
    "execution": {
     "iopub.execute_input": "2020-12-19T14:34:25.398347Z",
     "iopub.status.busy": "2020-12-19T14:34:25.395985Z",
     "iopub.status.idle": "2020-12-19T14:34:26.751462Z",
     "shell.execute_reply": "2020-12-19T14:34:26.750887Z"
    },
    "papermill": {
     "duration": 1.420899,
     "end_time": "2020-12-19T14:34:26.751601",
     "exception": false,
     "start_time": "2020-12-19T14:34:25.330702",
     "status": "completed"
    },
    "tags": []
   },
   "outputs": [],
   "source": [
    "import seaborn as sns"
   ]
  },
  {
   "cell_type": "code",
   "execution_count": 3,
   "metadata": {
    "execution": {
     "iopub.execute_input": "2020-12-19T14:34:26.879618Z",
     "iopub.status.busy": "2020-12-19T14:34:26.878857Z",
     "iopub.status.idle": "2020-12-19T14:34:26.920981Z",
     "shell.execute_reply": "2020-12-19T14:34:26.920260Z"
    },
    "papermill": {
     "duration": 0.109146,
     "end_time": "2020-12-19T14:34:26.921102",
     "exception": false,
     "start_time": "2020-12-19T14:34:26.811956",
     "status": "completed"
    },
    "tags": []
   },
   "outputs": [
    {
     "data": {
      "text/html": [
       "<div>\n",
       "<style scoped>\n",
       "    .dataframe tbody tr th:only-of-type {\n",
       "        vertical-align: middle;\n",
       "    }\n",
       "\n",
       "    .dataframe tbody tr th {\n",
       "        vertical-align: top;\n",
       "    }\n",
       "\n",
       "    .dataframe thead th {\n",
       "        text-align: right;\n",
       "    }\n",
       "</style>\n",
       "<table border=\"1\" class=\"dataframe\">\n",
       "  <thead>\n",
       "    <tr style=\"text-align: right;\">\n",
       "      <th></th>\n",
       "      <th>price</th>\n",
       "      <th>feature1</th>\n",
       "      <th>feature2</th>\n",
       "    </tr>\n",
       "  </thead>\n",
       "  <tbody>\n",
       "    <tr>\n",
       "      <th>0</th>\n",
       "      <td>461.527929</td>\n",
       "      <td>999.787558</td>\n",
       "      <td>999.766096</td>\n",
       "    </tr>\n",
       "    <tr>\n",
       "      <th>1</th>\n",
       "      <td>548.130011</td>\n",
       "      <td>998.861615</td>\n",
       "      <td>1001.042403</td>\n",
       "    </tr>\n",
       "    <tr>\n",
       "      <th>2</th>\n",
       "      <td>410.297162</td>\n",
       "      <td>1000.070267</td>\n",
       "      <td>998.844015</td>\n",
       "    </tr>\n",
       "    <tr>\n",
       "      <th>3</th>\n",
       "      <td>540.382220</td>\n",
       "      <td>999.952251</td>\n",
       "      <td>1000.440940</td>\n",
       "    </tr>\n",
       "    <tr>\n",
       "      <th>4</th>\n",
       "      <td>546.024553</td>\n",
       "      <td>1000.446011</td>\n",
       "      <td>1000.338531</td>\n",
       "    </tr>\n",
       "  </tbody>\n",
       "</table>\n",
       "</div>"
      ],
      "text/plain": [
       "        price     feature1     feature2\n",
       "0  461.527929   999.787558   999.766096\n",
       "1  548.130011   998.861615  1001.042403\n",
       "2  410.297162  1000.070267   998.844015\n",
       "3  540.382220   999.952251  1000.440940\n",
       "4  546.024553  1000.446011  1000.338531"
      ]
     },
     "execution_count": 3,
     "metadata": {},
     "output_type": "execute_result"
    }
   ],
   "source": [
    "df=pd.read_csv(\"../input/regression-data/fake_reg.csv\")\n",
    "df.head()"
   ]
  },
  {
   "cell_type": "markdown",
   "metadata": {
    "papermill": {
     "duration": 0.063843,
     "end_time": "2020-12-19T14:34:27.045436",
     "exception": false,
     "start_time": "2020-12-19T14:34:26.981593",
     "status": "completed"
    },
    "tags": []
   },
   "source": [
    "In this data set we will try to predict price according to two feature that are not specified\n",
    "\n",
    "So it is a supervised learning problem"
   ]
  },
  {
   "cell_type": "markdown",
   "metadata": {
    "papermill": {
     "duration": 0.061735,
     "end_time": "2020-12-19T14:34:27.172934",
     "exception": false,
     "start_time": "2020-12-19T14:34:27.111199",
     "status": "completed"
    },
    "tags": []
   },
   "source": [
    "# 1. Exploratory Data Analysis:"
   ]
  },
  {
   "cell_type": "code",
   "execution_count": 4,
   "metadata": {
    "execution": {
     "iopub.execute_input": "2020-12-19T14:34:27.302132Z",
     "iopub.status.busy": "2020-12-19T14:34:27.301358Z",
     "iopub.status.idle": "2020-12-19T14:34:30.145556Z",
     "shell.execute_reply": "2020-12-19T14:34:30.144931Z"
    },
    "papermill": {
     "duration": 2.911559,
     "end_time": "2020-12-19T14:34:30.145681",
     "exception": false,
     "start_time": "2020-12-19T14:34:27.234122",
     "status": "completed"
    },
    "tags": []
   },
   "outputs": [
    {
     "data": {
      "text/plain": [
       "<seaborn.axisgrid.PairGrid at 0x7fb1065690d0>"
      ]
     },
     "execution_count": 4,
     "metadata": {},
     "output_type": "execute_result"
    },
    {
     "data": {
      "image/png": "[encoded data removed]",
      "text/plain": [
       "<Figure size 540x540 with 12 Axes>"
      ]
     },
     "metadata": {
      "needs_background": "light"
     },
     "output_type": "display_data"
    }
   ],
   "source": [
    "sns.pairplot(df)"
   ]
  },
  {
   "cell_type": "markdown",
   "metadata": {
    "papermill": {
     "duration": 0.067753,
     "end_time": "2020-12-19T14:34:30.280588",
     "exception": false,
     "start_time": "2020-12-19T14:34:30.212835",
     "status": "completed"
    },
    "tags": []
   },
   "source": [
    "From the plots above, we understand that all the data is normally distributed and there is strong positive correlation between feature 2 and price"
   ]
  },
  {
   "cell_type": "markdown",
   "metadata": {
    "papermill": {
     "duration": 0.079351,
     "end_time": "2020-12-19T14:34:30.428554",
     "exception": false,
     "start_time": "2020-12-19T14:34:30.349203",
     "status": "completed"
    },
    "tags": []
   },
   "source": [
    "First we will use normal machine learning algortihms before deep learning in order to compare results"
   ]
  },
  {
   "cell_type": "code",
   "execution_count": 5,
   "metadata": {
    "execution": {
     "iopub.execute_input": "2020-12-19T14:34:30.582929Z",
     "iopub.status.busy": "2020-12-19T14:34:30.581876Z",
     "iopub.status.idle": "2020-12-19T14:34:30.596351Z",
     "shell.execute_reply": "2020-12-19T14:34:30.595486Z"
    },
    "papermill": {
     "duration": 0.089228,
     "end_time": "2020-12-19T14:34:30.596502",
     "exception": false,
     "start_time": "2020-12-19T14:34:30.507274",
     "status": "completed"
    },
    "tags": []
   },
   "outputs": [
    {
     "data": {
      "text/html": [
       "<div>\n",
       "<style scoped>\n",
       "    .dataframe tbody tr th:only-of-type {\n",
       "        vertical-align: middle;\n",
       "    }\n",
       "\n",
       "    .dataframe tbody tr th {\n",
       "        vertical-align: top;\n",
       "    }\n",
       "\n",
       "    .dataframe thead th {\n",
       "        text-align: right;\n",
       "    }\n",
       "</style>\n",
       "<table border=\"1\" class=\"dataframe\">\n",
       "  <thead>\n",
       "    <tr style=\"text-align: right;\">\n",
       "      <th></th>\n",
       "      <th>feature1</th>\n",
       "      <th>feature2</th>\n",
       "    </tr>\n",
       "  </thead>\n",
       "  <tbody>\n",
       "    <tr>\n",
       "      <th>0</th>\n",
       "      <td>999.787558</td>\n",
       "      <td>999.766096</td>\n",
       "    </tr>\n",
       "    <tr>\n",
       "      <th>1</th>\n",
       "      <td>998.861615</td>\n",
       "      <td>1001.042403</td>\n",
       "    </tr>\n",
       "    <tr>\n",
       "      <th>2</th>\n",
       "      <td>1000.070267</td>\n",
       "      <td>998.844015</td>\n",
       "    </tr>\n",
       "    <tr>\n",
       "      <th>3</th>\n",
       "      <td>999.952251</td>\n",
       "      <td>1000.440940</td>\n",
       "    </tr>\n",
       "    <tr>\n",
       "      <th>4</th>\n",
       "      <td>1000.446011</td>\n",
       "      <td>1000.338531</td>\n",
       "    </tr>\n",
       "    <tr>\n",
       "      <th>...</th>\n",
       "      <td>...</td>\n",
       "      <td>...</td>\n",
       "    </tr>\n",
       "    <tr>\n",
       "      <th>995</th>\n",
       "      <td>1000.018988</td>\n",
       "      <td>999.672732</td>\n",
       "    </tr>\n",
       "    <tr>\n",
       "      <th>996</th>\n",
       "      <td>998.855379</td>\n",
       "      <td>1000.020026</td>\n",
       "    </tr>\n",
       "    <tr>\n",
       "      <th>997</th>\n",
       "      <td>1001.451646</td>\n",
       "      <td>998.847606</td>\n",
       "    </tr>\n",
       "    <tr>\n",
       "      <th>998</th>\n",
       "      <td>1000.771023</td>\n",
       "      <td>998.562851</td>\n",
       "    </tr>\n",
       "    <tr>\n",
       "      <th>999</th>\n",
       "      <td>999.232244</td>\n",
       "      <td>1001.451407</td>\n",
       "    </tr>\n",
       "  </tbody>\n",
       "</table>\n",
       "<p>1000 rows × 2 columns</p>\n",
       "</div>"
      ],
      "text/plain": [
       "        feature1     feature2\n",
       "0     999.787558   999.766096\n",
       "1     998.861615  1001.042403\n",
       "2    1000.070267   998.844015\n",
       "3     999.952251  1000.440940\n",
       "4    1000.446011  1000.338531\n",
       "..           ...          ...\n",
       "995  1000.018988   999.672732\n",
       "996   998.855379  1000.020026\n",
       "997  1001.451646   998.847606\n",
       "998  1000.771023   998.562851\n",
       "999   999.232244  1001.451407\n",
       "\n",
       "[1000 rows x 2 columns]"
      ]
     },
     "execution_count": 5,
     "metadata": {},
     "output_type": "execute_result"
    }
   ],
   "source": [
    "X=df[[\"feature1\",\"feature2\"]]\n",
    "X"
   ]
  },
  {
   "cell_type": "code",
   "execution_count": 6,
   "metadata": {
    "execution": {
     "iopub.execute_input": "2020-12-19T14:34:30.754034Z",
     "iopub.status.busy": "2020-12-19T14:34:30.753030Z",
     "iopub.status.idle": "2020-12-19T14:34:30.758577Z",
     "shell.execute_reply": "2020-12-19T14:34:30.759517Z"
    },
    "papermill": {
     "duration": 0.080954,
     "end_time": "2020-12-19T14:34:30.759742",
     "exception": false,
     "start_time": "2020-12-19T14:34:30.678788",
     "status": "completed"
    },
    "tags": []
   },
   "outputs": [
    {
     "data": {
      "text/plain": [
       "0      461.527929\n",
       "1      548.130011\n",
       "2      410.297162\n",
       "3      540.382220\n",
       "4      546.024553\n",
       "          ...    \n",
       "995    476.526078\n",
       "996    457.313186\n",
       "997    456.720992\n",
       "998    403.315576\n",
       "999    599.367093\n",
       "Name: price, Length: 1000, dtype: float64"
      ]
     },
     "execution_count": 6,
     "metadata": {},
     "output_type": "execute_result"
    }
   ],
   "source": [
    "y=df[\"price\"] #This is our target value to predict\n",
    "y"
   ]
  },
  {
   "cell_type": "code",
   "execution_count": 7,
   "metadata": {
    "execution": {
     "iopub.execute_input": "2020-12-19T14:34:30.900237Z",
     "iopub.status.busy": "2020-12-19T14:34:30.899260Z",
     "iopub.status.idle": "2020-12-19T14:34:31.048461Z",
     "shell.execute_reply": "2020-12-19T14:34:31.046625Z"
    },
    "papermill": {
     "duration": 0.218278,
     "end_time": "2020-12-19T14:34:31.048599",
     "exception": false,
     "start_time": "2020-12-19T14:34:30.830321",
     "status": "completed"
    },
    "tags": []
   },
   "outputs": [],
   "source": [
    "from sklearn.model_selection import train_test_split"
   ]
  },
  {
   "cell_type": "code",
   "execution_count": 8,
   "metadata": {
    "execution": {
     "iopub.execute_input": "2020-12-19T14:34:31.189596Z",
     "iopub.status.busy": "2020-12-19T14:34:31.188069Z",
     "iopub.status.idle": "2020-12-19T14:34:31.193490Z",
     "shell.execute_reply": "2020-12-19T14:34:31.192935Z"
    },
    "papermill": {
     "duration": 0.079832,
     "end_time": "2020-12-19T14:34:31.193621",
     "exception": false,
     "start_time": "2020-12-19T14:34:31.113789",
     "status": "completed"
    },
    "tags": []
   },
   "outputs": [],
   "source": [
    "X_train, X_test, y_train, y_test=train_test_split(X,y, test_size=0.3)\n",
    "#here we divide our data as %70 train set and %30 test set"
   ]
  },
  {
   "cell_type": "code",
   "execution_count": 9,
   "metadata": {
    "execution": {
     "iopub.execute_input": "2020-12-19T14:34:31.329596Z",
     "iopub.status.busy": "2020-12-19T14:34:31.328783Z",
     "iopub.status.idle": "2020-12-19T14:34:31.424582Z",
     "shell.execute_reply": "2020-12-19T14:34:31.423767Z"
    },
    "papermill": {
     "duration": 0.165079,
     "end_time": "2020-12-19T14:34:31.424710",
     "exception": false,
     "start_time": "2020-12-19T14:34:31.259631",
     "status": "completed"
    },
    "tags": []
   },
   "outputs": [],
   "source": [
    "from sklearn.linear_model import LinearRegression\n",
    "#First we will use linear regression and examine its performance"
   ]
  },
  {
   "cell_type": "code",
   "execution_count": 10,
   "metadata": {
    "execution": {
     "iopub.execute_input": "2020-12-19T14:34:31.569080Z",
     "iopub.status.busy": "2020-12-19T14:34:31.568130Z",
     "iopub.status.idle": "2020-12-19T14:34:31.571989Z",
     "shell.execute_reply": "2020-12-19T14:34:31.571438Z"
    },
    "papermill": {
     "duration": 0.078484,
     "end_time": "2020-12-19T14:34:31.572111",
     "exception": false,
     "start_time": "2020-12-19T14:34:31.493627",
     "status": "completed"
    },
    "tags": []
   },
   "outputs": [],
   "source": [
    "model1=LinearRegression()"
   ]
  },
  {
   "cell_type": "code",
   "execution_count": 11,
   "metadata": {
    "execution": {
     "iopub.execute_input": "2020-12-19T14:34:31.710167Z",
     "iopub.status.busy": "2020-12-19T14:34:31.709379Z",
     "iopub.status.idle": "2020-12-19T14:34:31.752038Z",
     "shell.execute_reply": "2020-12-19T14:34:31.752863Z"
    },
    "papermill": {
     "duration": 0.116245,
     "end_time": "2020-12-19T14:34:31.753060",
     "exception": false,
     "start_time": "2020-12-19T14:34:31.636815",
     "status": "completed"
    },
    "tags": []
   },
   "outputs": [
    {
     "data": {
      "text/plain": [
       "LinearRegression()"
      ]
     },
     "execution_count": 11,
     "metadata": {},
     "output_type": "execute_result"
    }
   ],
   "source": [
    "model1.fit(X_train,y_train)\n",
    "# Here we make our model fit the train data"
   ]
  },
  {
   "cell_type": "code",
   "execution_count": 12,
   "metadata": {
    "execution": {
     "iopub.execute_input": "2020-12-19T14:34:31.929526Z",
     "iopub.status.busy": "2020-12-19T14:34:31.928263Z",
     "iopub.status.idle": "2020-12-19T14:34:31.938713Z",
     "shell.execute_reply": "2020-12-19T14:34:31.939329Z"
    },
    "papermill": {
     "duration": 0.101318,
     "end_time": "2020-12-19T14:34:31.939494",
     "exception": false,
     "start_time": "2020-12-19T14:34:31.838176",
     "status": "completed"
    },
    "tags": []
   },
   "outputs": [],
   "source": [
    "predictions1=model1.predict(X_test)"
   ]
  },
  {
   "cell_type": "code",
   "execution_count": 13,
   "metadata": {
    "execution": {
     "iopub.execute_input": "2020-12-19T14:34:32.076017Z",
     "iopub.status.busy": "2020-12-19T14:34:32.075296Z",
     "iopub.status.idle": "2020-12-19T14:34:32.086207Z",
     "shell.execute_reply": "2020-12-19T14:34:32.086731Z"
    },
    "papermill": {
     "duration": 0.081405,
     "end_time": "2020-12-19T14:34:32.086900",
     "exception": false,
     "start_time": "2020-12-19T14:34:32.005495",
     "status": "completed"
    },
    "tags": []
   },
   "outputs": [
    {
     "data": {
      "text/plain": [
       "array([505.11301707, 430.16341064, 523.59030783, 530.32590278,\n",
       "       437.54734116, 550.19027441, 570.21662778, 442.49910837,\n",
       "       511.54153444, 416.73480941, 562.96961958, 770.77443388,\n",
       "       480.69796045, 611.01518296, 459.56654393, 474.16617009,\n",
       "       630.31951711, 432.99513004, 358.60271296, 573.74251285,\n",
       "       251.20546374, 550.55757852, 607.6684737 , 579.13411073,\n",
       "       563.66522135, 452.61210691, 463.54774104, 682.79512027,\n",
       "       541.57090642, 371.17138191, 526.84076386, 337.44754698,\n",
       "       550.91294251, 446.20738198, 372.19330271, 482.38420887,\n",
       "       573.97819687, 447.81963965, 455.61362207, 645.74130274,\n",
       "       417.06944922, 495.70153233, 530.56315328, 410.91518504,\n",
       "       541.86848532, 449.2562289 , 609.69591637, 409.08906937,\n",
       "       679.14451065, 509.53865168, 720.82176857, 361.35804624,\n",
       "       503.43259365, 446.4585715 , 498.90329202, 502.53857027,\n",
       "       599.07378276, 540.81494291, 379.58822463, 514.74754076,\n",
       "       460.53240933, 378.3397701 , 402.44629561, 425.40158549,\n",
       "       562.63784663, 547.17274419, 523.66446287, 296.56909352,\n",
       "       651.59010265, 643.84432445, 602.23078271, 346.79914019,\n",
       "       577.63439434, 475.71039486, 495.91905435, 598.24177368,\n",
       "       258.37785492, 550.68699401, 493.29165575, 411.78877685,\n",
       "       579.15318062, 396.16063343, 621.27345975, 502.19836294,\n",
       "       329.65605341, 551.68498894, 398.89601203, 518.97898335,\n",
       "       510.55327   , 576.44926561, 519.60421955, 505.23834232,\n",
       "       691.62961811, 638.14475669, 621.07687971, 481.02045617,\n",
       "       565.79449319, 666.99875283, 578.02518622, 669.24805897,\n",
       "       391.15917809, 541.02642888, 534.45184417, 641.59215414,\n",
       "       372.60920831, 505.64592216, 467.48470221, 405.43530805,\n",
       "       552.14866055, 534.15161202, 642.87955474, 368.38243367,\n",
       "       576.69728568, 641.3525224 , 443.42997385, 524.79362713,\n",
       "       341.479526  , 350.20642198, 512.84381097, 416.48324881,\n",
       "       614.49973849, 471.67288371, 438.76498348, 515.44711294,\n",
       "       512.80707307, 616.97157276, 595.43649209, 439.58612965,\n",
       "       575.66235891, 606.672844  , 325.45332912, 567.32232437,\n",
       "       742.27642092, 499.32556579, 436.45147029, 627.22860262,\n",
       "       500.70809263, 517.30243423, 294.25254857, 327.5623043 ,\n",
       "       665.18328651, 705.73251315, 549.49987555, 312.00947422,\n",
       "       321.70975415, 570.55553496, 424.58674753, 486.55602786,\n",
       "       677.75977782, 545.38391593, 542.28779235, 466.39938783,\n",
       "       618.66726458, 473.35499435, 569.4724675 , 577.1546629 ,\n",
       "       513.26403874, 503.05996315, 395.19152014, 587.55614949,\n",
       "       444.34939603, 491.70775183, 525.29814123, 329.12953825,\n",
       "       565.23397359, 534.15404398, 579.30930443, 438.58633754,\n",
       "       422.90664634, 537.44241584, 660.16100138, 471.89500834,\n",
       "       350.00401283, 627.17104515, 542.14217261, 455.40335669,\n",
       "       404.71976451, 538.06822864, 564.5298842 , 489.20081369,\n",
       "       591.27441666, 519.23745403, 431.56282776, 456.34149962,\n",
       "       470.10074909, 583.36625991, 589.71912919, 635.22360732,\n",
       "       602.67433108, 610.04530715, 322.23847466, 490.64654739,\n",
       "       558.79904298, 327.70298406, 550.69138381, 576.6025823 ,\n",
       "       487.12130492, 543.02070368, 509.64833949, 543.35991946,\n",
       "       619.12909772, 564.86358525, 548.37108577, 491.11296586,\n",
       "       321.84636467, 510.36096036, 724.83173612, 449.95338064,\n",
       "       419.56055912, 318.98792875, 479.81191123, 458.75148257,\n",
       "       662.40938711, 410.14981527, 604.83499745, 430.23438592,\n",
       "       483.47415474, 440.86983333, 365.72421436, 482.74094839,\n",
       "       579.37418582, 598.92087408, 550.51384036, 424.66080607,\n",
       "       596.7541475 , 585.0996127 , 605.52300406, 440.61677757,\n",
       "       490.42853785, 610.43879204, 395.94524155, 586.28541149,\n",
       "       378.96517374, 425.65543988, 444.79815732, 671.05589745,\n",
       "       449.50796266, 560.76456509, 423.17790983, 518.72993215,\n",
       "       466.28807605, 357.79066667, 489.42703613, 586.32360152,\n",
       "       382.57927983, 516.4715298 , 495.50385778, 382.38744542,\n",
       "       506.86674396, 521.93695299, 505.05281588, 472.85462053,\n",
       "       469.79541199, 378.89316771, 514.77974242, 524.11418672,\n",
       "       556.23677579, 378.65083215, 447.88708531, 437.1826578 ,\n",
       "       631.08152859, 407.8204484 , 446.73597367, 420.3469164 ,\n",
       "       348.30209071, 510.37227071, 465.40463423, 307.09673266,\n",
       "       615.16473741, 654.51474461, 420.11856966, 327.34926195,\n",
       "       530.72771779, 421.09918378, 439.10061255, 463.1240779 ,\n",
       "       465.08260275, 572.64536807, 490.68915521, 607.39416132,\n",
       "       592.03967309, 453.91852806, 614.43198779, 357.50857808,\n",
       "       369.28463065, 549.54870741, 342.46681682, 456.9323099 ,\n",
       "       419.23279918, 592.51389665, 478.79085377, 423.75699811,\n",
       "       503.40147329, 610.32346958, 426.58249008, 484.4681092 ,\n",
       "       698.46576651, 607.73878067, 490.25098261, 416.89739604])"
      ]
     },
     "execution_count": 13,
     "metadata": {},
     "output_type": "execute_result"
    }
   ],
   "source": [
    "predictions1 #This is predictions of the linear regression algorithm"
   ]
  },
  {
   "cell_type": "markdown",
   "metadata": {
    "papermill": {
     "duration": 0.065179,
     "end_time": "2020-12-19T14:34:32.218588",
     "exception": false,
     "start_time": "2020-12-19T14:34:32.153409",
     "status": "completed"
    },
    "tags": []
   },
   "source": [
    "Now we will evaluate the performance of the linear regression"
   ]
  },
  {
   "cell_type": "code",
   "execution_count": 14,
   "metadata": {
    "execution": {
     "iopub.execute_input": "2020-12-19T14:34:32.353960Z",
     "iopub.status.busy": "2020-12-19T14:34:32.353150Z",
     "iopub.status.idle": "2020-12-19T14:34:32.358568Z",
     "shell.execute_reply": "2020-12-19T14:34:32.358031Z"
    },
    "papermill": {
     "duration": 0.074023,
     "end_time": "2020-12-19T14:34:32.358689",
     "exception": false,
     "start_time": "2020-12-19T14:34:32.284666",
     "status": "completed"
    },
    "tags": []
   },
   "outputs": [],
   "source": [
    "from sklearn import metrics"
   ]
  },
  {
   "cell_type": "code",
   "execution_count": 15,
   "metadata": {
    "execution": {
     "iopub.execute_input": "2020-12-19T14:34:32.501115Z",
     "iopub.status.busy": "2020-12-19T14:34:32.500069Z",
     "iopub.status.idle": "2020-12-19T14:34:32.504355Z",
     "shell.execute_reply": "2020-12-19T14:34:32.504886Z"
    },
    "papermill": {
     "duration": 0.080833,
     "end_time": "2020-12-19T14:34:32.505094",
     "exception": false,
     "start_time": "2020-12-19T14:34:32.424261",
     "status": "completed"
    },
    "tags": []
   },
   "outputs": [
    {
     "data": {
      "text/plain": [
       "3.990615316182315"
      ]
     },
     "execution_count": 15,
     "metadata": {},
     "output_type": "execute_result"
    }
   ],
   "source": [
    "metrics.mean_absolute_error(y_test,predictions1)"
   ]
  },
  {
   "cell_type": "code",
   "execution_count": 16,
   "metadata": {
    "execution": {
     "iopub.execute_input": "2020-12-19T14:34:32.645640Z",
     "iopub.status.busy": "2020-12-19T14:34:32.644566Z",
     "iopub.status.idle": "2020-12-19T14:34:32.649574Z",
     "shell.execute_reply": "2020-12-19T14:34:32.648943Z"
    },
    "papermill": {
     "duration": 0.078643,
     "end_time": "2020-12-19T14:34:32.649828",
     "exception": false,
     "start_time": "2020-12-19T14:34:32.571185",
     "status": "completed"
    },
    "tags": []
   },
   "outputs": [
    {
     "data": {
      "text/plain": [
       "24.51243920706268"
      ]
     },
     "execution_count": 16,
     "metadata": {},
     "output_type": "execute_result"
    }
   ],
   "source": [
    "metrics.mean_squared_error(y_test,predictions1)"
   ]
  },
  {
   "cell_type": "code",
   "execution_count": 17,
   "metadata": {
    "execution": {
     "iopub.execute_input": "2020-12-19T14:34:32.794183Z",
     "iopub.status.busy": "2020-12-19T14:34:32.792976Z",
     "iopub.status.idle": "2020-12-19T14:34:32.798482Z",
     "shell.execute_reply": "2020-12-19T14:34:32.797796Z"
    },
    "papermill": {
     "duration": 0.08215,
     "end_time": "2020-12-19T14:34:32.798609",
     "exception": false,
     "start_time": "2020-12-19T14:34:32.716459",
     "status": "completed"
    },
    "tags": []
   },
   "outputs": [
    {
     "data": {
      "text/plain": [
       "4.951003858518258"
      ]
     },
     "execution_count": 17,
     "metadata": {},
     "output_type": "execute_result"
    }
   ],
   "source": [
    "np.sqrt(metrics.mean_squared_error(y_test,predictions1))"
   ]
  },
  {
   "cell_type": "markdown",
   "metadata": {
    "papermill": {
     "duration": 0.06777,
     "end_time": "2020-12-19T14:34:32.934451",
     "exception": false,
     "start_time": "2020-12-19T14:34:32.866681",
     "status": "completed"
    },
    "tags": []
   },
   "source": [
    "Now we will visualize to understand our model's performance"
   ]
  },
  {
   "cell_type": "code",
   "execution_count": 18,
   "metadata": {
    "execution": {
     "iopub.execute_input": "2020-12-19T14:34:33.088837Z",
     "iopub.status.busy": "2020-12-19T14:34:33.087808Z",
     "iopub.status.idle": "2020-12-19T14:34:33.286660Z",
     "shell.execute_reply": "2020-12-19T14:34:33.287188Z"
    },
    "papermill": {
     "duration": 0.283693,
     "end_time": "2020-12-19T14:34:33.287348",
     "exception": false,
     "start_time": "2020-12-19T14:34:33.003655",
     "status": "completed"
    },
    "tags": []
   },
   "outputs": [
    {
     "data": {
      "text/plain": [
       "<matplotlib.axes._subplots.AxesSubplot at 0x7fb10013ae90>"
      ]
     },
     "execution_count": 18,
     "metadata": {},
     "output_type": "execute_result"
    },
    {
     "data": {
      "image/png": "[encoded data removed]",
      "text/plain": [
       "<Figure size 432x288 with 1 Axes>"
      ]
     },
     "metadata": {
      "needs_background": "light"
     },
     "output_type": "display_data"
    }
   ],
   "source": [
    "sns.distplot((y_test-predictions1))"
   ]
  },
  {
   "cell_type": "code",
   "execution_count": 19,
   "metadata": {
    "execution": {
     "iopub.execute_input": "2020-12-19T14:34:33.432904Z",
     "iopub.status.busy": "2020-12-19T14:34:33.432200Z",
     "iopub.status.idle": "2020-12-19T14:34:33.435779Z",
     "shell.execute_reply": "2020-12-19T14:34:33.435184Z"
    },
    "papermill": {
     "duration": 0.078918,
     "end_time": "2020-12-19T14:34:33.435895",
     "exception": false,
     "start_time": "2020-12-19T14:34:33.356977",
     "status": "completed"
    },
    "tags": []
   },
   "outputs": [],
   "source": [
    "sns.set_style(\"whitegrid\")"
   ]
  },
  {
   "cell_type": "code",
   "execution_count": 20,
   "metadata": {
    "execution": {
     "iopub.execute_input": "2020-12-19T14:34:33.587239Z",
     "iopub.status.busy": "2020-12-19T14:34:33.586468Z",
     "iopub.status.idle": "2020-12-19T14:34:33.869483Z",
     "shell.execute_reply": "2020-12-19T14:34:33.870088Z"
    },
    "papermill": {
     "duration": 0.355529,
     "end_time": "2020-12-19T14:34:33.870242",
     "exception": false,
     "start_time": "2020-12-19T14:34:33.514713",
     "status": "completed"
    },
    "tags": []
   },
   "outputs": [
    {
     "data": {
      "text/plain": [
       "<matplotlib.axes._subplots.AxesSubplot at 0x7fb10005cb10>"
      ]
     },
     "execution_count": 20,
     "metadata": {},
     "output_type": "execute_result"
    },
    {
     "data": {
      "image/png": "[encoded data removed]",
      "text/plain": [
       "<Figure size 432x288 with 1 Axes>"
      ]
     },
     "metadata": {},
     "output_type": "display_data"
    }
   ],
   "source": [
    "sns.scatterplot(y_test,predictions1)"
   ]
  },
  {
   "cell_type": "code",
   "execution_count": 21,
   "metadata": {
    "execution": {
     "iopub.execute_input": "2020-12-19T14:34:34.018467Z",
     "iopub.status.busy": "2020-12-19T14:34:34.017782Z",
     "iopub.status.idle": "2020-12-19T14:34:34.023342Z",
     "shell.execute_reply": "2020-12-19T14:34:34.022638Z"
    },
    "papermill": {
     "duration": 0.079951,
     "end_time": "2020-12-19T14:34:34.023459",
     "exception": false,
     "start_time": "2020-12-19T14:34:33.943508",
     "status": "completed"
    },
    "tags": []
   },
   "outputs": [],
   "source": [
    "import matplotlib.pyplot as plt"
   ]
  },
  {
   "cell_type": "code",
   "execution_count": 22,
   "metadata": {
    "execution": {
     "iopub.execute_input": "2020-12-19T14:34:34.169237Z",
     "iopub.status.busy": "2020-12-19T14:34:34.168433Z",
     "iopub.status.idle": "2020-12-19T14:34:34.433331Z",
     "shell.execute_reply": "2020-12-19T14:34:34.433890Z"
    },
    "papermill": {
     "duration": 0.33974,
     "end_time": "2020-12-19T14:34:34.434044",
     "exception": false,
     "start_time": "2020-12-19T14:34:34.094304",
     "status": "completed"
    },
    "tags": []
   },
   "outputs": [
    {
     "data": {
      "text/plain": [
       "<matplotlib.collections.PathCollection at 0x7fb10001d350>"
      ]
     },
     "execution_count": 22,
     "metadata": {},
     "output_type": "execute_result"
    },
    {
     "data": {
      "image/png": "[encoded data removed]",
      "text/plain": [
       "<Figure size 432x288 with 1 Axes>"
      ]
     },
     "metadata": {},
     "output_type": "display_data"
    }
   ],
   "source": [
    "plt.scatter(y_test,predictions1)"
   ]
  },
  {
   "cell_type": "markdown",
   "metadata": {
    "papermill": {
     "duration": 0.070526,
     "end_time": "2020-12-19T14:34:34.579659",
     "exception": false,
     "start_time": "2020-12-19T14:34:34.509133",
     "status": "completed"
    },
    "tags": []
   },
   "source": [
    "As we can see from the plots above, the predictions of linear regression is very good"
   ]
  },
  {
   "cell_type": "code",
   "execution_count": 23,
   "metadata": {
    "execution": {
     "iopub.execute_input": "2020-12-19T14:34:34.726741Z",
     "iopub.status.busy": "2020-12-19T14:34:34.726047Z",
     "iopub.status.idle": "2020-12-19T14:34:34.830159Z",
     "shell.execute_reply": "2020-12-19T14:34:34.829369Z"
    },
    "papermill": {
     "duration": 0.179657,
     "end_time": "2020-12-19T14:34:34.830325",
     "exception": false,
     "start_time": "2020-12-19T14:34:34.650668",
     "status": "completed"
    },
    "tags": []
   },
   "outputs": [],
   "source": [
    "from sklearn.tree import DecisionTreeRegressor"
   ]
  },
  {
   "cell_type": "code",
   "execution_count": 24,
   "metadata": {
    "execution": {
     "iopub.execute_input": "2020-12-19T14:34:34.983412Z",
     "iopub.status.busy": "2020-12-19T14:34:34.982710Z",
     "iopub.status.idle": "2020-12-19T14:34:34.986193Z",
     "shell.execute_reply": "2020-12-19T14:34:34.985671Z"
    },
    "papermill": {
     "duration": 0.083184,
     "end_time": "2020-12-19T14:34:34.986309",
     "exception": false,
     "start_time": "2020-12-19T14:34:34.903125",
     "status": "completed"
    },
    "tags": []
   },
   "outputs": [],
   "source": [
    "model2=DecisionTreeRegressor()"
   ]
  },
  {
   "cell_type": "code",
   "execution_count": 25,
   "metadata": {
    "execution": {
     "iopub.execute_input": "2020-12-19T14:34:35.140201Z",
     "iopub.status.busy": "2020-12-19T14:34:35.139502Z",
     "iopub.status.idle": "2020-12-19T14:34:35.147134Z",
     "shell.execute_reply": "2020-12-19T14:34:35.147636Z"
    },
    "papermill": {
     "duration": 0.089121,
     "end_time": "2020-12-19T14:34:35.147809",
     "exception": false,
     "start_time": "2020-12-19T14:34:35.058688",
     "status": "completed"
    },
    "tags": []
   },
   "outputs": [
    {
     "data": {
      "text/plain": [
       "DecisionTreeRegressor()"
      ]
     },
     "execution_count": 25,
     "metadata": {},
     "output_type": "execute_result"
    }
   ],
   "source": [
    "model2.fit(X_train, y_train)"
   ]
  },
  {
   "cell_type": "code",
   "execution_count": 26,
   "metadata": {
    "execution": {
     "iopub.execute_input": "2020-12-19T14:34:35.307711Z",
     "iopub.status.busy": "2020-12-19T14:34:35.306799Z",
     "iopub.status.idle": "2020-12-19T14:34:35.311583Z",
     "shell.execute_reply": "2020-12-19T14:34:35.312120Z"
    },
    "papermill": {
     "duration": 0.091165,
     "end_time": "2020-12-19T14:34:35.312301",
     "exception": false,
     "start_time": "2020-12-19T14:34:35.221136",
     "status": "completed"
    },
    "tags": []
   },
   "outputs": [
    {
     "data": {
      "text/plain": [
       "array([501.81396346, 433.99838446, 524.38393835, 529.71971585,\n",
       "       441.90522674, 558.87741587, 565.19184559, 439.09025956,\n",
       "       507.09798982, 413.87226234, 562.00257647, 760.65101669,\n",
       "       476.52607826, 610.29650189, 443.80983891, 477.25839763,\n",
       "       646.42137115, 441.38724011, 367.88456147, 579.43065472,\n",
       "       239.65626376, 542.99539996, 625.08018462, 570.6460653 ,\n",
       "       565.07689035, 451.8041724 , 461.49048992, 670.21237633,\n",
       "       533.55074599, 357.11605236, 536.59066876, 352.28258718,\n",
       "       544.49878325, 452.73449935, 371.22410361, 475.17585767,\n",
       "       577.58298501, 450.85178618, 456.89995237, 646.42137115,\n",
       "       408.12200074, 487.7379163 , 528.12861343, 396.05573683,\n",
       "       545.58520276, 425.84365096, 603.66990347, 408.12200074,\n",
       "       617.61509904, 502.90170221, 711.65777328, 357.82557519,\n",
       "       514.69378589, 450.85178618, 503.39000141, 505.69270877,\n",
       "       602.12024979, 532.62879772, 397.62059618, 512.04979227,\n",
       "       456.98761551, 378.79339707, 396.04998476, 429.47259522,\n",
       "       565.9362005 , 546.02455292, 515.32519058, 296.98984675,\n",
       "       643.55257205, 630.61363933, 591.86909195, 369.78582541,\n",
       "       577.29292367, 484.01952653, 494.25163915, 610.29650189,\n",
       "       275.33337527, 546.20393322, 479.70887661, 396.05573683,\n",
       "       584.92843756, 402.78860922, 625.08018462, 487.7379163 ,\n",
       "       360.23212493, 570.16851237, 410.29716167, 519.46055247,\n",
       "       514.47906638, 559.96108847, 522.35358676, 506.74032509,\n",
       "       685.21654079, 637.27161099, 622.03205011, 476.52607826,\n",
       "       563.67781737, 662.92504623, 570.06729543, 667.4812481 ,\n",
       "       397.62059618, 555.99978702, 528.12861343, 646.8239136 ,\n",
       "       368.90204456, 511.29824533, 469.8028243 , 411.05157782,\n",
       "       552.91452026, 523.53312776, 648.49853653, 364.03501381,\n",
       "       559.96108847, 655.42619806, 449.02606966, 524.96702947,\n",
       "       361.96928555, 367.88456147, 507.44318662, 425.10615848,\n",
       "       612.50533943, 474.08634639, 424.60840775, 518.36039543,\n",
       "       514.69378589, 594.68664574, 595.38094652, 433.51753016,\n",
       "       564.9556813 , 608.12804021, 342.05906592, 570.06729543,\n",
       "       700.98368025, 491.55128715, 423.70001699, 622.03205011,\n",
       "       502.35831316, 511.89276394, 239.65626376, 325.05852217,\n",
       "       661.16436862, 667.4812481 , 546.20393322, 316.63684801,\n",
       "       339.21223298, 574.74001083, 412.90687671, 475.94699622,\n",
       "       661.16436862, 567.88189283, 545.58520276, 464.9944057 ,\n",
       "       625.07938608, 472.89142434, 571.18829179, 575.68656759,\n",
       "       516.28603756, 511.29824533, 415.44298463, 591.86909195,\n",
       "       448.55357219, 481.86280607, 524.38393835, 358.85061321,\n",
       "       562.05793604, 539.68399729, 585.15669192, 434.62971003,\n",
       "       433.51753016, 530.00104432, 662.92504623, 469.8028243 ,\n",
       "       367.16096642, 637.85870827, 540.74381886, 452.71044444,\n",
       "       410.35912407, 532.83295175, 565.19184559, 485.67140382,\n",
       "       599.36709348, 537.92888483, 433.51753016, 449.22797293,\n",
       "       473.14373027, 575.68656759, 587.74308283, 633.45125327,\n",
       "       594.68664574, 604.57261409, 296.98984675, 489.12458007,\n",
       "       544.49878325, 353.78339461, 552.35874313, 600.04329091,\n",
       "       497.41251837, 546.20393322, 506.50370548, 542.9836716 ,\n",
       "       616.51060101, 554.6620585 , 539.68399729, 478.44486619,\n",
       "       296.98984675, 502.90947332, 700.98368025, 448.63240577,\n",
       "       420.76621323, 325.05852217, 478.04811801, 461.17944502,\n",
       "       666.06222545, 405.40016562, 593.6677957 , 414.85687715,\n",
       "       475.17585767, 414.754452  , 367.76354239, 484.229812  ,\n",
       "       578.58860646, 583.06598409, 546.20393322, 420.23890075,\n",
       "       599.90573138, 579.49800824, 613.95995262, 433.41514433,\n",
       "       490.78489309, 626.69427794, 396.04998476, 587.10134867,\n",
       "       380.13984916, 433.51753016, 434.62971003, 685.21654079,\n",
       "       449.32814488, 565.07689035, 433.99838446, 527.61587693,\n",
       "       469.8028243 , 365.88328071, 479.70887661, 595.43348561,\n",
       "       364.03501381, 511.89276394, 475.94699622, 378.79339707,\n",
       "       503.27065876, 526.44751951, 497.72274826, 474.2054026 ,\n",
       "       462.00480189, 375.95938044, 527.05754159, 536.59066876,\n",
       "       549.93636627, 375.95938044, 446.6617038 , 451.92641532,\n",
       "       617.61509904, 417.56972453, 458.52789767, 413.84178036,\n",
       "       343.73541799, 498.19000033, 449.79721212, 296.98984675,\n",
       "       616.51060101, 657.71868008, 418.45717839, 311.87137765,\n",
       "       532.83295175, 425.10615848, 442.17202786, 460.4308638 ,\n",
       "       461.49048992, 562.05793604, 478.44486619, 594.68664574,\n",
       "       585.16821441, 450.85178618, 612.47025609, 355.35228879,\n",
       "       367.7919044 , 547.12901446, 358.85061321, 444.9447339 ,\n",
       "       420.35676968, 587.10134867, 476.07122974, 412.90687671,\n",
       "       499.94830987, 610.4553519 , 442.17202786, 497.41251837,\n",
       "       698.41041396, 604.57261409, 476.07122974, 396.05573683])"
      ]
     },
     "execution_count": 26,
     "metadata": {},
     "output_type": "execute_result"
    }
   ],
   "source": [
    "predictions2=model2.predict(X_test)\n",
    "predictions2"
   ]
  },
  {
   "cell_type": "code",
   "execution_count": 27,
   "metadata": {
    "execution": {
     "iopub.execute_input": "2020-12-19T14:34:35.479636Z",
     "iopub.status.busy": "2020-12-19T14:34:35.478576Z",
     "iopub.status.idle": "2020-12-19T14:34:35.482321Z",
     "shell.execute_reply": "2020-12-19T14:34:35.483193Z"
    },
    "papermill": {
     "duration": 0.096567,
     "end_time": "2020-12-19T14:34:35.483396",
     "exception": false,
     "start_time": "2020-12-19T14:34:35.386829",
     "status": "completed"
    },
    "tags": []
   },
   "outputs": [
    {
     "name": "stdout",
     "output_type": "stream",
     "text": [
      "Predictions of Decision Tree Regression: 8.99344094651434\n",
      "Predictions of Linear Regression: 3.990615316182315\n"
     ]
    }
   ],
   "source": [
    "print(\"Predictions of Decision Tree Regression:\",metrics.mean_absolute_error(y_test,predictions2))\n",
    "\n",
    "print(\"Predictions of Linear Regression:\",metrics.mean_absolute_error(y_test,predictions1))"
   ]
  },
  {
   "cell_type": "code",
   "execution_count": 28,
   "metadata": {
    "execution": {
     "iopub.execute_input": "2020-12-19T14:34:35.647767Z",
     "iopub.status.busy": "2020-12-19T14:34:35.646894Z",
     "iopub.status.idle": "2020-12-19T14:34:35.655477Z",
     "shell.execute_reply": "2020-12-19T14:34:35.656105Z"
    },
    "papermill": {
     "duration": 0.086996,
     "end_time": "2020-12-19T14:34:35.656257",
     "exception": false,
     "start_time": "2020-12-19T14:34:35.569261",
     "status": "completed"
    },
    "tags": []
   },
   "outputs": [
    {
     "name": "stdout",
     "output_type": "stream",
     "text": [
      "Predictions of Decision Tree Regression: 149.27975438781561\n",
      "Predictions of Linear Regression: 24.51243920706268\n"
     ]
    }
   ],
   "source": [
    "print(\"Predictions of Decision Tree Regression:\",metrics.mean_squared_error(y_test,predictions2))\n",
    "\n",
    "print(\"Predictions of Linear Regression:\",metrics.mean_squared_error(y_test,predictions1))"
   ]
  },
  {
   "cell_type": "markdown",
   "metadata": {
    "papermill": {
     "duration": 0.074672,
     "end_time": "2020-12-19T14:34:35.804893",
     "exception": false,
     "start_time": "2020-12-19T14:34:35.730221",
     "status": "completed"
    },
    "tags": []
   },
   "source": [
    "Linear regression algorithm performs better than decision tree regression algorithm"
   ]
  },
  {
   "cell_type": "code",
   "execution_count": 29,
   "metadata": {
    "execution": {
     "iopub.execute_input": "2020-12-19T14:34:35.958101Z",
     "iopub.status.busy": "2020-12-19T14:34:35.957246Z",
     "iopub.status.idle": "2020-12-19T14:34:36.248102Z",
     "shell.execute_reply": "2020-12-19T14:34:36.248632Z"
    },
    "papermill": {
     "duration": 0.368954,
     "end_time": "2020-12-19T14:34:36.248794",
     "exception": false,
     "start_time": "2020-12-19T14:34:35.879840",
     "status": "completed"
    },
    "tags": []
   },
   "outputs": [
    {
     "data": {
      "text/plain": [
       "<matplotlib.axes._subplots.AxesSubplot at 0x7fb0f9e21750>"
      ]
     },
     "execution_count": 29,
     "metadata": {},
     "output_type": "execute_result"
    },
    {
     "data": {
      "image/png": "[encoded data removed]",
      "text/plain": [
       "<Figure size 432x288 with 1 Axes>"
      ]
     },
     "metadata": {},
     "output_type": "display_data"
    }
   ],
   "source": [
    "sns.scatterplot(y_test,predictions2)\n",
    "sns.scatterplot(y_test,predictions1)"
   ]
  },
  {
   "cell_type": "markdown",
   "metadata": {
    "papermill": {
     "duration": 0.075661,
     "end_time": "2020-12-19T14:34:36.399611",
     "exception": false,
     "start_time": "2020-12-19T14:34:36.323950",
     "status": "completed"
    },
    "tags": []
   },
   "source": [
    "Now we will use deep learning algortihm and will compare results with the previous one"
   ]
  },
  {
   "cell_type": "code",
   "execution_count": 30,
   "metadata": {
    "execution": {
     "iopub.execute_input": "2020-12-19T14:34:36.560509Z",
     "iopub.status.busy": "2020-12-19T14:34:36.559809Z",
     "iopub.status.idle": "2020-12-19T14:34:36.565439Z",
     "shell.execute_reply": "2020-12-19T14:34:36.566147Z"
    },
    "papermill": {
     "duration": 0.08554,
     "end_time": "2020-12-19T14:34:36.566292",
     "exception": false,
     "start_time": "2020-12-19T14:34:36.480752",
     "status": "completed"
    },
    "tags": []
   },
   "outputs": [
    {
     "data": {
      "text/plain": [
       "array([[ 999.78755752,  999.7660962 ],\n",
       "       [ 998.86161491, 1001.04240315],\n",
       "       [1000.07026691,  998.84401463],\n",
       "       ...,\n",
       "       [1001.45164617,  998.84760554],\n",
       "       [1000.77102275,  998.56285086],\n",
       "       [ 999.2322436 , 1001.45140713]])"
      ]
     },
     "execution_count": 30,
     "metadata": {},
     "output_type": "execute_result"
    }
   ],
   "source": [
    "#Before using deep learning algorithms we have to transform our data into numpy arrays\n",
    "X_deep=X.values\n",
    "X_deep"
   ]
  },
  {
   "cell_type": "code",
   "execution_count": 31,
   "metadata": {
    "execution": {
     "iopub.execute_input": "2020-12-19T14:34:36.728654Z",
     "iopub.status.busy": "2020-12-19T14:34:36.727966Z",
     "iopub.status.idle": "2020-12-19T14:34:36.753922Z",
     "shell.execute_reply": "2020-12-19T14:34:36.753301Z"
    },
    "papermill": {
     "duration": 0.106777,
     "end_time": "2020-12-19T14:34:36.754054",
     "exception": false,
     "start_time": "2020-12-19T14:34:36.647277",
     "status": "completed"
    },
    "tags": []
   },
   "outputs": [
    {
     "data": {
      "text/plain": [
       "array([461.52792939, 548.13001146, 410.29716167, 540.38221981,\n",
       "       546.02455292, 542.9836716 , 555.48566416, 417.56972453,\n",
       "       373.14653122, 633.35029248, 624.24709206, 475.37241721,\n",
       "       600.36844486, 532.83295175, 472.8353628 , 506.31229096,\n",
       "       508.414406  , 610.4553519 , 323.65776198, 446.21230389,\n",
       "       362.12270299, 433.41064026, 562.00257647, 637.30962074,\n",
       "       522.80800754, 469.8028243 , 543.10992778, 565.43416994,\n",
       "       530.03285381, 610.58016503, 482.55641188, 327.56004052,\n",
       "       579.73083872, 448.42981468, 628.97709187, 536.79737216,\n",
       "       570.06729543, 357.82557519, 612.08492732, 444.67970846,\n",
       "       600.1186364 , 523.53312776, 512.94994495, 614.8813169 ,\n",
       "       404.35303251, 643.68851807, 488.95660398, 443.20468572,\n",
       "       514.47906638, 514.88174058, 325.05852217, 554.6620585 ,\n",
       "       451.39140001, 587.67887726, 477.73749721, 574.51560687,\n",
       "       548.9107991 , 528.69088356, 443.21100482, 397.88209319,\n",
       "       355.79535223, 460.69478138, 534.7673737 , 537.6067329 ,\n",
       "       603.66990347, 547.27579153, 567.30862153, 454.32901321,\n",
       "       492.60451447, 643.13593178, 477.4305163 , 497.41251837,\n",
       "       559.04378534, 576.67843837, 292.1917811 , 542.99539996,\n",
       "       547.73198239, 507.43439141, 408.12200074, 595.43348561,\n",
       "       463.3552036 , 468.35698045, 462.00480189, 410.35912407,\n",
       "       467.46059552, 497.23978613, 411.63794464, 583.06598409,\n",
       "       441.95036691, 536.04090915, 530.98717439, 364.50842093,\n",
       "       626.06865169, 434.62971003, 523.02344198, 484.10880902,\n",
       "       411.57560703, 722.26394433, 519.46299177, 558.50321048,\n",
       "       526.24297782, 531.27754687, 470.89067007, 459.92494538,\n",
       "       577.58298501, 599.90573138, 584.92843756, 357.34223391,\n",
       "       392.04726871, 515.77844597, 390.2092368 , 497.49148239,\n",
       "       506.74032509, 395.51477512, 239.65626376, 507.6052943 ,\n",
       "       628.84940437, 468.07324688, 444.9447339 , 527.31719596,\n",
       "       415.44298463, 363.4303791 , 591.86909195, 391.12466656,\n",
       "       526.1019196 , 402.00959595, 563.67781737, 362.24018346,\n",
       "       514.31349869, 322.31435197, 513.519732  , 340.05814212,\n",
       "       560.79471778, 489.79459784, 381.07367881, 558.34939279,\n",
       "       451.8041724 , 451.79140134, 442.17202786, 488.78691774,\n",
       "       433.09376956, 518.00709658, 511.69454654, 334.89459622,\n",
       "       490.78489309, 510.46356567, 565.02540892, 542.30140508,\n",
       "       655.42619806, 433.51753016, 373.06190748, 517.32199998,\n",
       "       609.96955536, 401.28033698, 540.74381886, 410.53824963,\n",
       "       441.7417974 , 448.70138654, 377.57042607, 450.85178618,\n",
       "       695.08064351, 548.94851249, 479.70887661, 345.01181992,\n",
       "       576.85255167, 337.95129476, 466.8394786 , 429.91541295,\n",
       "       567.88189283, 422.77852605, 559.7847254 , 503.75687251,\n",
       "       355.35228879, 622.37147383, 450.9760715 , 591.71413509,\n",
       "       522.42993416, 474.08634639, 423.05243386, 466.70445806,\n",
       "       481.92547045, 362.91867606, 566.05763935, 457.05958811,\n",
       "       580.88060484, 497.33921897, 519.17237518, 640.40485258,\n",
       "       477.25839763, 506.50370548, 634.2482933 , 311.87137765,\n",
       "       556.61215428, 446.36031515, 543.83027912, 617.61509904,\n",
       "       491.55128715, 441.90522674, 418.45717839, 524.47348399,\n",
       "       483.13482709, 622.99764305, 424.60840775, 515.14753991,\n",
       "       496.89047668, 534.23436696, 627.3802761 , 460.02329028,\n",
       "       338.13384172, 397.62059618, 562.05793604, 504.69389644,\n",
       "       490.99787402, 361.42640522, 608.12804021, 625.07938608,\n",
       "       461.38078609, 533.07210805, 438.26540597, 404.14239475,\n",
       "       458.52789767, 455.13953399, 521.87959462, 507.09798982,\n",
       "       480.80694031, 539.68399729, 376.32625533, 449.458484  ,\n",
       "       457.77794629, 531.16341758, 599.81185581, 526.67361757,\n",
       "       512.1515175 , 510.02950867, 391.26547583, 593.6677957 ,\n",
       "       415.60708684, 469.07283863, 485.22477592, 354.92884232,\n",
       "       316.63684801, 464.44494809, 649.39591652, 474.02501346,\n",
       "       551.56006043, 631.88915741, 597.71257172, 532.62879772,\n",
       "       445.58282142, 599.92382612, 375.95938044, 581.90748483,\n",
       "       464.9944057 , 417.23887206, 570.6460653 , 414.754452  ,\n",
       "       578.22402034, 405.92898949, 626.6797543 , 484.01952653,\n",
       "       275.33337527, 531.66193891, 223.34679276, 637.77896908,\n",
       "       553.87999612, 487.7379163 , 439.09025956, 378.04069831,\n",
       "       379.23669121, 537.12524033, 553.12387811, 505.69270877,\n",
       "       421.53806534, 510.88504979, 567.19470601, 697.70715802,\n",
       "       388.74663225, 578.32901814, 734.2765031 , 449.32814488,\n",
       "       512.04904895, 357.29591446, 360.23212493, 395.12045332,\n",
       "       423.70001699, 443.80983891, 595.96581968, 515.56181283,\n",
       "       531.9290881 , 530.13508628, 448.63240577, 527.61587693,\n",
       "       453.45829752, 417.54122635, 656.97308566, 546.23137991,\n",
       "       492.93591939, 379.90913372, 511.36670783, 503.51419982,\n",
       "       519.46055247, 611.14763688, 411.05157782, 403.41301547,\n",
       "       496.75415064, 466.00440866, 528.12861343, 633.45125327,\n",
       "       567.04497795, 435.09849106, 537.92888483, 452.71044444,\n",
       "       609.3840753 , 396.1965711 , 504.43137263, 626.69427794,\n",
       "       493.01201779, 724.47187575, 713.46667346, 565.19184559,\n",
       "       551.57372795, 451.89764782, 565.96723066, 367.7919044 ,\n",
       "       576.32144345, 579.42843094, 489.09760772, 487.18793877,\n",
       "       621.11885596, 481.90704139, 700.98368025, 599.99118092,\n",
       "       522.35888373, 646.8239136 , 568.61318745, 511.29824533,\n",
       "       760.65101669, 304.43261518, 543.32064222, 399.86651896,\n",
       "       585.16821441, 484.229812  , 425.84365096, 550.47494925,\n",
       "       325.79480263, 364.03501381, 439.49653517, 518.26312427,\n",
       "       693.9884929 , 512.59570173, 257.71199724, 524.32438029,\n",
       "       402.1955134 , 579.85178649, 476.07122974, 411.18423872,\n",
       "       367.76354239, 400.63495186, 609.58070746, 612.47025609,\n",
       "       366.3818868 , 485.50390003, 443.39703561, 479.56906767,\n",
       "       559.69848911, 432.82161991, 328.20550401, 524.37119547,\n",
       "       552.77893509, 630.61363933, 424.81078609, 375.13754715,\n",
       "       338.93370122, 574.74001083, 355.81485125, 378.79339707,\n",
       "       555.99978702, 642.3708192 , 347.87631327, 330.08230225,\n",
       "       392.70436827, 519.32640956, 612.7537015 , 469.24686052,\n",
       "       460.31999098, 646.25928592, 452.73449935, 446.6617038 ,\n",
       "       392.57787377, 419.11235041, 485.67140382, 533.55074599,\n",
       "       558.68796948, 433.41514433, 572.67843212, 474.34929884,\n",
       "       587.45566743, 603.60488162, 679.89502292, 454.02841184,\n",
       "       641.29636111, 523.12643425, 451.86441942, 369.91451298,\n",
       "       602.12024979, 589.28379767, 552.35874313, 497.82077751,\n",
       "       645.7084402 , 299.39441419, 416.37530318, 371.22410361,\n",
       "       305.42221221, 476.19497523, 718.25653986, 481.64581321,\n",
       "       449.79721212, 423.13089618, 487.23276805, 486.74414447,\n",
       "       333.08087339, 560.13543661, 711.65777328, 424.61108821,\n",
       "       367.88499002, 502.8467149 , 661.16436862, 422.44243544,\n",
       "       612.72791033, 526.44751951, 462.88163084, 574.57837765,\n",
       "       477.80625993, 431.18869681, 596.27161677, 367.04561733,\n",
       "       610.29650189, 573.83826959, 561.6815936 , 316.9505926 ,\n",
       "       353.78339461, 462.24239731, 395.74531349, 461.17944502,\n",
       "       265.31883491, 516.28603756, 495.54358534, 655.0298841 ,\n",
       "       361.96928555, 383.93441552, 339.21223298, 438.97699136,\n",
       "       518.36039543, 587.06918986, 513.58851064, 541.1289475 ,\n",
       "       318.2422866 , 407.41050587, 401.53996228, 530.27625921,\n",
       "       421.52951149, 509.05805746, 460.1838563 , 387.89272462,\n",
       "       560.93779062, 586.55980649, 426.36278463, 479.91915661,\n",
       "       525.70465661, 555.42087135, 530.68301453, 469.87238663,\n",
       "       606.31505182, 364.85210784, 360.16078118, 425.10615848,\n",
       "       365.56087755, 480.23012282, 533.48426265, 477.32136011,\n",
       "       685.07306529, 595.85363797, 510.87857855, 403.69954917,\n",
       "       493.96420737, 368.9200954 , 549.84762007, 601.76780838,\n",
       "       508.20389135, 418.93004519, 564.36822362, 604.11066099,\n",
       "       599.28050672, 527.88077226, 547.07286694, 576.8926402 ,\n",
       "       491.80281223, 518.70630218, 532.62653164, 685.21654079,\n",
       "       441.38724011, 315.51892903, 581.51143808, 585.15669192,\n",
       "       481.20614899, 470.46051802, 535.54367583, 489.05755196,\n",
       "       731.50955837, 539.7932304 , 421.26795581, 480.59911503,\n",
       "       530.21039882, 464.11587006, 633.4727288 , 449.41611879,\n",
       "       635.34706613, 537.24922805, 572.38065064, 553.90462877,\n",
       "       616.51060101, 402.29631873, 456.89995237, 505.74726413,\n",
       "       601.63849578, 510.88661196, 556.83209711, 379.10982057,\n",
       "       453.49681218, 594.68664574, 567.46368769, 498.9283394 ,\n",
       "       413.10071452, 437.18179741, 699.73384102, 351.42908062,\n",
       "       593.23051938, 544.18131004, 438.76371594, 446.87698755,\n",
       "       471.99435967, 461.14062423, 689.1734889 , 521.79699247,\n",
       "       603.88757737, 655.39140319, 369.78582541, 509.84188626,\n",
       "       475.17585767, 338.0902386 , 480.80616796, 587.30777032,\n",
       "       503.39000141, 518.12788339, 506.33929863, 647.36155957,\n",
       "       453.13824142, 396.04998476, 612.50533943, 618.93363459,\n",
       "       524.56895456, 666.06222545, 657.95491426, 496.06904958,\n",
       "       524.38393835, 461.49048992, 433.99838446, 572.31305385,\n",
       "       451.92641532, 362.68807582, 514.89474416, 427.36956977,\n",
       "       435.51362445, 566.27172557, 452.37238329, 375.62302356,\n",
       "       466.49020065, 465.17802914, 405.40016562, 427.74126221,\n",
       "       358.85061321, 481.53346268, 358.68011197, 375.31180205,\n",
       "       550.14246248, 556.54397565, 595.38094652, 512.58377753,\n",
       "       665.04739236, 549.29054549, 569.87336031, 550.29340062,\n",
       "       607.41940296, 617.37737732, 613.42662915, 604.57261409,\n",
       "       516.98581378, 401.89505573, 448.55357219, 475.94699622,\n",
       "       501.89188819, 498.6284209 , 474.2054026 , 568.60477798,\n",
       "       698.41041396, 550.89673991, 481.52436972, 498.46359085,\n",
       "       515.90099007, 478.08030334, 562.84736681, 578.52385723,\n",
       "       564.9556813 , 497.46472684, 526.34259721, 568.73205922,\n",
       "       439.65054024, 624.99250404, 370.74177754, 553.07681733,\n",
       "       414.85687715, 448.51914416, 347.1911182 , 631.56069392,\n",
       "       527.05754159, 553.32419751, 514.40564086, 444.05469284,\n",
       "       341.68789552, 565.24995494, 436.55494972, 548.61436053,\n",
       "       501.62206015, 362.24928105, 309.35587863, 435.26155328,\n",
       "       428.31614877, 308.22343125, 536.59066876, 774.40785445,\n",
       "       428.84321279, 552.88912902, 297.29389413, 637.85870827,\n",
       "       564.11153791, 648.01014932, 404.12928655, 508.82552564,\n",
       "       539.54049318, 467.66852221, 489.12458007, 571.18829179,\n",
       "       497.72274826, 396.92876859, 414.11072814, 406.28845394,\n",
       "       579.55848998, 406.6160671 , 515.21520276, 564.18681488,\n",
       "       578.58860646, 408.28620182, 581.54252662, 667.4812481 ,\n",
       "       622.86551828, 500.13304581, 379.13131207, 502.71948002,\n",
       "       343.73541799, 441.48474021, 499.21235117, 542.36204897,\n",
       "       547.62404325, 535.92947542, 461.52076712, 529.4394398 ,\n",
       "       521.61588724, 547.71292837, 584.38110772, 465.99980649,\n",
       "       489.99646515, 634.5322379 , 639.81836225, 500.7218448 ,\n",
       "       514.69378589, 380.13984916, 402.78860922, 507.44318662,\n",
       "       516.66204986, 246.73972006, 345.85149947, 728.54158643,\n",
       "       593.47480723, 623.05449555, 466.78702434, 524.96702947,\n",
       "       695.77282817, 498.19000033, 420.23890075, 449.25967508,\n",
       "       518.34877268, 608.64466352, 476.08427344, 425.4599912 ,\n",
       "       388.0260642 , 595.54443191, 606.21795936, 502.35831316,\n",
       "       470.9635849 , 565.07689035, 570.16851237, 505.63188399,\n",
       "       443.18691766, 387.64605588, 592.7579165 , 528.1454695 ,\n",
       "       610.09170764, 543.3237843 , 651.39612886, 552.91452026,\n",
       "       662.92504623, 571.70626262, 521.7744574 , 565.9362005 ,\n",
       "       526.29247961, 525.55617773, 547.12901446, 556.38156913,\n",
       "       643.55257205, 310.19085317, 316.97373493, 581.24757434,\n",
       "       675.76026898, 637.27161099, 503.27065876, 386.83158001,\n",
       "       449.22797293, 624.15619847, 708.0181058 , 436.66965907,\n",
       "       582.4550663 , 523.15977914, 454.01363039, 458.33002662,\n",
       "       553.13406068, 575.68656759, 399.74690881, 479.03778184,\n",
       "       377.13616236, 611.84754884, 457.69568614, 320.68694051,\n",
       "       607.66473078, 431.47987323, 536.00593624, 487.25310045,\n",
       "       357.11605236, 406.97496006, 367.88456147, 352.28258718,\n",
       "       428.43268624, 674.31102047, 455.03533539, 493.53818767,\n",
       "       323.74660823, 570.87438588, 522.35358676, 512.37078567,\n",
       "       344.445388  , 603.44292484, 494.19769248, 623.10445015,\n",
       "       615.5627227 , 501.09520221, 460.4308638 , 511.19375671,\n",
       "       619.10478486, 425.20422156, 439.38667763, 609.7226948 ,\n",
       "       520.97315983, 564.91022293, 574.57307473, 273.43263798,\n",
       "       416.57967214, 414.00400534, 602.54914671, 501.81396346,\n",
       "       657.25888889, 545.58520276, 363.11433585, 587.10134867,\n",
       "       535.98312568, 357.044414  , 543.91850962, 487.46952396,\n",
       "       491.03773416, 618.12341696, 442.93357949, 528.44015453,\n",
       "       492.87327105, 497.04387645, 606.29736199, 368.90204456,\n",
       "       463.83315596, 411.35636173, 670.21237633, 408.52236362,\n",
       "       484.43638366, 492.6419263 , 381.85298995, 613.95995262,\n",
       "       327.36024129, 491.79240663, 585.44412785, 380.3945669 ,\n",
       "       554.7626666 , 493.85668075, 526.2107462 , 385.39655988,\n",
       "       484.46159148, 332.22764352, 564.67207171, 649.44006825,\n",
       "       424.72778986, 618.08695111, 511.89276394, 331.12168828,\n",
       "       558.16409431, 493.56964948, 396.05573683, 631.37140169,\n",
       "       478.44486619, 628.54499456, 499.75474684, 506.8234736 ,\n",
       "       258.64403747, 478.35823792, 460.54250824, 552.62665953,\n",
       "       519.60816751, 456.98761551, 562.62597526, 560.98721013,\n",
       "       588.24268147, 579.43065472, 490.68891134, 372.77743562,\n",
       "       677.27628686, 420.76621323, 478.08636807, 608.79918051,\n",
       "       498.40036414, 351.09008918, 604.7965235 , 584.29415078,\n",
       "       552.36859639, 514.85636404, 324.75278473, 551.65009963,\n",
       "       646.42137115, 412.01627785, 542.05581314, 376.82027575,\n",
       "       485.65542199, 530.00104432, 531.48237221, 502.90170221,\n",
       "       320.22783441, 410.17228689, 307.49262471, 414.32154328,\n",
       "       429.47259522, 611.37280691, 579.49800824, 645.84815363,\n",
       "       528.21987259, 487.29933081, 530.99314592, 374.19760282,\n",
       "       453.82582684, 535.04562659, 381.36832678, 657.71868008,\n",
       "       403.06256371, 502.40592148, 612.48716221, 473.14373027,\n",
       "       648.49853653, 477.59301587, 478.85719007, 469.11310605,\n",
       "       558.87741587, 560.67805186, 484.56010504, 602.9701103 ,\n",
       "       501.88831717, 296.98984675, 409.95257743, 429.21452014,\n",
       "       529.71971585, 503.21614081, 656.65474461, 378.81430465,\n",
       "       627.64016416, 420.35676968, 347.19521436, 559.96108847,\n",
       "       437.90401436, 382.48198573, 446.61250992, 578.94348317,\n",
       "       427.85700338, 563.58363749, 603.55869587, 445.94046658,\n",
       "       577.31665049, 453.9716661 , 367.16096642, 591.50358214,\n",
       "       404.90316218, 403.90327413, 425.48260511, 657.80019814,\n",
       "       664.50877632, 503.05044876, 518.66756145, 544.49878325,\n",
       "       409.67675815, 338.5727094 , 427.48699506, 349.71799435,\n",
       "       434.38654316, 549.93636627, 524.5896561 , 502.90947332,\n",
       "       342.05906592, 622.03205011, 654.83912076, 434.69375374,\n",
       "       470.5546375 , 380.47707861, 560.3817655 , 549.2573511 ,\n",
       "       494.25163915, 450.42484415, 594.84047708, 412.90687671,\n",
       "       433.42313493, 512.04979227, 478.04811801, 413.29973991,\n",
       "       415.84564074, 511.58583419, 472.89142434, 657.93173622,\n",
       "       560.66409232, 587.74308283, 472.06766427, 390.86267833,\n",
       "       329.06703513, 526.72673086, 452.10238608, 413.87226234,\n",
       "       666.44170815, 487.7692307 , 560.63785511, 449.81047626,\n",
       "       499.94830987, 429.26772106, 508.91176483, 546.20393322,\n",
       "       621.59703226, 413.84178036, 449.02606966, 447.05319043,\n",
       "       595.48648065, 480.87733296, 667.70856487, 594.60958875,\n",
       "       600.04329091, 508.19978205, 359.19507992, 365.88328071,\n",
       "       576.73842525, 515.32519058, 423.65453319, 543.49227764,\n",
       "       577.29292367, 421.05894642, 625.08018462, 434.27528283,\n",
       "       657.73425067, 518.35614426, 481.86280607, 476.52607826,\n",
       "       457.31318609, 456.72099249, 403.31557562, 599.36709348])"
      ]
     },
     "execution_count": 31,
     "metadata": {},
     "output_type": "execute_result"
    }
   ],
   "source": [
    "y_deep=y.values\n",
    "y_deep"
   ]
  },
  {
   "cell_type": "code",
   "execution_count": 32,
   "metadata": {
    "execution": {
     "iopub.execute_input": "2020-12-19T14:34:36.914181Z",
     "iopub.status.busy": "2020-12-19T14:34:36.913496Z",
     "iopub.status.idle": "2020-12-19T14:34:36.922414Z",
     "shell.execute_reply": "2020-12-19T14:34:36.921688Z"
    },
    "papermill": {
     "duration": 0.08955,
     "end_time": "2020-12-19T14:34:36.922546",
     "exception": false,
     "start_time": "2020-12-19T14:34:36.832996",
     "status": "completed"
    },
    "tags": []
   },
   "outputs": [
    {
     "data": {
      "text/plain": [
       "array([[1000.63022276,  999.18669104],\n",
       "       [ 999.62911717,  999.54799684],\n",
       "       [1001.3763618 ,  999.52404506],\n",
       "       ...,\n",
       "       [ 999.03476362, 1001.58003678],\n",
       "       [ 999.09490143, 1000.23959687],\n",
       "       [1000.10489972,  999.99785023]])"
      ]
     },
     "execution_count": 32,
     "metadata": {},
     "output_type": "execute_result"
    }
   ],
   "source": [
    "X_deep_train, X_deep_test, y_deep_train, y_deep_test=train_test_split(X_deep, y_deep,test_size=0.3)\n",
    "X_deep_train"
   ]
  },
  {
   "cell_type": "code",
   "execution_count": 33,
   "metadata": {
    "execution": {
     "iopub.execute_input": "2020-12-19T14:34:37.089335Z",
     "iopub.status.busy": "2020-12-19T14:34:37.088504Z",
     "iopub.status.idle": "2020-12-19T14:34:37.092052Z",
     "shell.execute_reply": "2020-12-19T14:34:37.092644Z"
    },
    "papermill": {
     "duration": 0.089834,
     "end_time": "2020-12-19T14:34:37.092806",
     "exception": false,
     "start_time": "2020-12-19T14:34:37.002972",
     "status": "completed"
    },
    "tags": []
   },
   "outputs": [
    {
     "data": {
      "text/plain": [
       "(300, 2)"
      ]
     },
     "execution_count": 33,
     "metadata": {},
     "output_type": "execute_result"
    }
   ],
   "source": [
    "X_deep_test.shape"
   ]
  },
  {
   "cell_type": "code",
   "execution_count": 34,
   "metadata": {
    "execution": {
     "iopub.execute_input": "2020-12-19T14:34:37.256563Z",
     "iopub.status.busy": "2020-12-19T14:34:37.255841Z",
     "iopub.status.idle": "2020-12-19T14:34:37.260984Z",
     "shell.execute_reply": "2020-12-19T14:34:37.261522Z"
    },
    "papermill": {
     "duration": 0.089196,
     "end_time": "2020-12-19T14:34:37.261665",
     "exception": false,
     "start_time": "2020-12-19T14:34:37.172469",
     "status": "completed"
    },
    "tags": []
   },
   "outputs": [
    {
     "data": {
      "text/plain": [
       "(700, 2)"
      ]
     },
     "execution_count": 34,
     "metadata": {},
     "output_type": "execute_result"
    }
   ],
   "source": [
    "X_deep_train.shape"
   ]
  },
  {
   "cell_type": "markdown",
   "metadata": {
    "papermill": {
     "duration": 0.079452,
     "end_time": "2020-12-19T14:34:37.419394",
     "exception": false,
     "start_time": "2020-12-19T14:34:37.339942",
     "status": "completed"
    },
    "tags": []
   },
   "source": [
    "Because the weights are very important in neural networks, we need to scale our train data in order to standardize it, but we can not standardize our test set because it will be a cheating"
   ]
  },
  {
   "cell_type": "code",
   "execution_count": 35,
   "metadata": {
    "execution": {
     "iopub.execute_input": "2020-12-19T14:34:37.592548Z",
     "iopub.status.busy": "2020-12-19T14:34:37.591840Z",
     "iopub.status.idle": "2020-12-19T14:34:37.596676Z",
     "shell.execute_reply": "2020-12-19T14:34:37.596126Z"
    },
    "papermill": {
     "duration": 0.086189,
     "end_time": "2020-12-19T14:34:37.596819",
     "exception": false,
     "start_time": "2020-12-19T14:34:37.510630",
     "status": "completed"
    },
    "tags": []
   },
   "outputs": [],
   "source": [
    "from sklearn.preprocessing import MinMaxScaler"
   ]
  },
  {
   "cell_type": "markdown",
   "metadata": {
    "papermill": {
     "duration": 0.08037,
     "end_time": "2020-12-19T14:34:37.756195",
     "exception": false,
     "start_time": "2020-12-19T14:34:37.675825",
     "status": "completed"
    },
    "tags": []
   },
   "source": [
    "MinMaxScaler(feature_range=(0, 1), *, copy=True)\n",
    " |  \n",
    " |  Transform features by scaling each feature to a given range.\n",
    " |  \n",
    " |  This estimator scales and translates each feature individually such\n",
    " |  that it is in the given range on the training set, e.g. between\n",
    " |  zero and one."
   ]
  },
  {
   "cell_type": "code",
   "execution_count": 36,
   "metadata": {
    "execution": {
     "iopub.execute_input": "2020-12-19T14:34:37.924642Z",
     "iopub.status.busy": "2020-12-19T14:34:37.923599Z",
     "iopub.status.idle": "2020-12-19T14:34:37.928055Z",
     "shell.execute_reply": "2020-12-19T14:34:37.927235Z"
    },
    "papermill": {
     "duration": 0.08933,
     "end_time": "2020-12-19T14:34:37.928243",
     "exception": false,
     "start_time": "2020-12-19T14:34:37.838913",
     "status": "completed"
    },
    "tags": []
   },
   "outputs": [],
   "source": [
    "scaler=MinMaxScaler()"
   ]
  },
  {
   "cell_type": "code",
   "execution_count": 37,
   "metadata": {
    "execution": {
     "iopub.execute_input": "2020-12-19T14:34:38.101465Z",
     "iopub.status.busy": "2020-12-19T14:34:38.100234Z",
     "iopub.status.idle": "2020-12-19T14:34:38.106589Z",
     "shell.execute_reply": "2020-12-19T14:34:38.106054Z"
    },
    "papermill": {
     "duration": 0.090867,
     "end_time": "2020-12-19T14:34:38.106708",
     "exception": false,
     "start_time": "2020-12-19T14:34:38.015841",
     "status": "completed"
    },
    "tags": []
   },
   "outputs": [
    {
     "data": {
      "text/plain": [
       "MinMaxScaler()"
      ]
     },
     "execution_count": 37,
     "metadata": {},
     "output_type": "execute_result"
    }
   ],
   "source": [
    "scaler.fit(X_deep_train)"
   ]
  },
  {
   "cell_type": "code",
   "execution_count": 38,
   "metadata": {
    "execution": {
     "iopub.execute_input": "2020-12-19T14:34:38.272143Z",
     "iopub.status.busy": "2020-12-19T14:34:38.271374Z",
     "iopub.status.idle": "2020-12-19T14:34:38.275152Z",
     "shell.execute_reply": "2020-12-19T14:34:38.274610Z"
    },
    "papermill": {
     "duration": 0.088377,
     "end_time": "2020-12-19T14:34:38.275268",
     "exception": false,
     "start_time": "2020-12-19T14:34:38.186891",
     "status": "completed"
    },
    "tags": []
   },
   "outputs": [],
   "source": [
    "X_deep_train= scaler.transform(X_deep_train)\n",
    "X_deep_test=scaler.transform(X_deep_test)"
   ]
  },
  {
   "cell_type": "code",
   "execution_count": 39,
   "metadata": {
    "execution": {
     "iopub.execute_input": "2020-12-19T14:34:38.441847Z",
     "iopub.status.busy": "2020-12-19T14:34:38.441035Z",
     "iopub.status.idle": "2020-12-19T14:34:44.760736Z",
     "shell.execute_reply": "2020-12-19T14:34:44.761612Z"
    },
    "papermill": {
     "duration": 6.406646,
     "end_time": "2020-12-19T14:34:44.761828",
     "exception": false,
     "start_time": "2020-12-19T14:34:38.355182",
     "status": "completed"
    },
    "tags": []
   },
   "outputs": [],
   "source": [
    "from tensorflow.keras.models import Sequential\n",
    "# this will create sequential layers\n"
   ]
  },
  {
   "cell_type": "code",
   "execution_count": 40,
   "metadata": {
    "execution": {
     "iopub.execute_input": "2020-12-19T14:34:44.929516Z",
     "iopub.status.busy": "2020-12-19T14:34:44.928721Z",
     "iopub.status.idle": "2020-12-19T14:34:44.930552Z",
     "shell.execute_reply": "2020-12-19T14:34:44.931178Z"
    },
    "papermill": {
     "duration": 0.089171,
     "end_time": "2020-12-19T14:34:44.931324",
     "exception": false,
     "start_time": "2020-12-19T14:34:44.842153",
     "status": "completed"
    },
    "tags": []
   },
   "outputs": [],
   "source": [
    "from tensorflow.keras.layers import Dense\n",
    "#this will add dense layers\n",
    "#In dense layers, every neuron is connected with the other neurons"
   ]
  },
  {
   "cell_type": "markdown",
   "metadata": {
    "papermill": {
     "duration": 0.079517,
     "end_time": "2020-12-19T14:34:45.094197",
     "exception": false,
     "start_time": "2020-12-19T14:34:45.014680",
     "status": "completed"
    },
    "tags": []
   },
   "source": [
    "# 1. Creating Layers:"
   ]
  },
  {
   "cell_type": "code",
   "execution_count": 41,
   "metadata": {
    "execution": {
     "iopub.execute_input": "2020-12-19T14:34:45.258176Z",
     "iopub.status.busy": "2020-12-19T14:34:45.257438Z",
     "iopub.status.idle": "2020-12-19T14:34:45.343009Z",
     "shell.execute_reply": "2020-12-19T14:34:45.343592Z"
    },
    "papermill": {
     "duration": 0.169909,
     "end_time": "2020-12-19T14:34:45.343755",
     "exception": false,
     "start_time": "2020-12-19T14:34:45.173846",
     "status": "completed"
    },
    "tags": []
   },
   "outputs": [],
   "source": [
    "model= Sequential([Dense(4,activation=\"relu\"), Dense(4,activation=\"relu\"),Dense(4,activation=\"relu\"), Dense(1)])\n",
    "#The last sould be assigned with respect to how many ourput we want to have\n",
    "#In our example, because we want to predict hosue prices, we will use just 1 layer as the last layer"
   ]
  },
  {
   "cell_type": "code",
   "execution_count": 42,
   "metadata": {
    "execution": {
     "iopub.execute_input": "2020-12-19T14:34:45.516160Z",
     "iopub.status.busy": "2020-12-19T14:34:45.515409Z",
     "iopub.status.idle": "2020-12-19T14:34:45.524146Z",
     "shell.execute_reply": "2020-12-19T14:34:45.523532Z"
    },
    "papermill": {
     "duration": 0.100219,
     "end_time": "2020-12-19T14:34:45.524272",
     "exception": false,
     "start_time": "2020-12-19T14:34:45.424053",
     "status": "completed"
    },
    "tags": []
   },
   "outputs": [],
   "source": [
    "#There is another way to create the same model as follows:\n",
    "model2=Sequential()\n",
    "model2.add(Dense(4, activation=\"sigmoid\"))\n",
    "model2.add(Dense(4, activation=\"softplus\"))\n",
    "model2.add(Dense(1)) "
   ]
  },
  {
   "cell_type": "markdown",
   "metadata": {
    "papermill": {
     "duration": 0.081312,
     "end_time": "2020-12-19T14:34:45.686161",
     "exception": false,
     "start_time": "2020-12-19T14:34:45.604849",
     "status": "completed"
    },
    "tags": []
   },
   "source": [
    "tf.keras.layers.Dense(\n",
    "    units,\n",
    "    activation=None,\n",
    "    use_bias=True,\n",
    "    kernel_initializer=\"glorot_uniform\",\n",
    "    bias_initializer=\"zeros\",\n",
    "    kernel_regularizer=None,\n",
    "    bias_regularizer=None,\n",
    "    activity_regularizer=None,\n",
    "    kernel_constraint=None,\n",
    "    bias_constraint=None,\n",
    "    **kwargs\n",
    ")\n",
    "\n",
    "\n",
    "units represents how many neurons we want to have\n",
    "\n",
    "activation represents which activation function we want to use\n"
   ]
  },
  {
   "cell_type": "markdown",
   "metadata": {
    "papermill": {
     "duration": 0.08009,
     "end_time": "2020-12-19T14:34:45.847248",
     "exception": false,
     "start_time": "2020-12-19T14:34:45.767158",
     "status": "completed"
    },
    "tags": []
   },
   "source": [
    "# 2. Choosing Right Optimizer and Cost Function:"
   ]
  },
  {
   "cell_type": "markdown",
   "metadata": {
    "papermill": {
     "duration": 0.081707,
     "end_time": "2020-12-19T14:34:46.009611",
     "exception": false,
     "start_time": "2020-12-19T14:34:45.927904",
     "status": "completed"
    },
    "tags": []
   },
   "source": [
    "compile(optimizer='rmsprop', loss=None, metrics=None, loss_weights=None, weighted_metrics=None, run_eagerly=None, **kwargs) method of tensorflow.python.keras.engine.sequential.Sequential instance\n",
    "    Configures the model for training.\n",
    "    \n",
    "    Arguments:\n",
    "        optimizer:this determines how we want to perform the gradient descent like adam optimizer\n",
    "        loss= represents cost function we want to use\n",
    "        "
   ]
  },
  {
   "cell_type": "code",
   "execution_count": 43,
   "metadata": {
    "execution": {
     "iopub.execute_input": "2020-12-19T14:34:46.185105Z",
     "iopub.status.busy": "2020-12-19T14:34:46.184372Z",
     "iopub.status.idle": "2020-12-19T14:34:46.195059Z",
     "shell.execute_reply": "2020-12-19T14:34:46.194373Z"
    },
    "papermill": {
     "duration": 0.104227,
     "end_time": "2020-12-19T14:34:46.195180",
     "exception": false,
     "start_time": "2020-12-19T14:34:46.090953",
     "status": "completed"
    },
    "tags": []
   },
   "outputs": [],
   "source": [
    "model.compile(optimizer=\"rmsprop\", loss=\"mse\")\n",
    "#here we choose rmsprop as our optimizer and Mean Suared Error as our loss function"
   ]
  },
  {
   "cell_type": "code",
   "execution_count": 44,
   "metadata": {
    "execution": {
     "iopub.execute_input": "2020-12-19T14:34:46.368679Z",
     "iopub.status.busy": "2020-12-19T14:34:46.367998Z",
     "iopub.status.idle": "2020-12-19T14:34:46.374215Z",
     "shell.execute_reply": "2020-12-19T14:34:46.373566Z"
    },
    "papermill": {
     "duration": 0.098647,
     "end_time": "2020-12-19T14:34:46.374330",
     "exception": false,
     "start_time": "2020-12-19T14:34:46.275683",
     "status": "completed"
    },
    "tags": []
   },
   "outputs": [],
   "source": [
    "model2.compile(optimizer=\"rmsprop\", loss=\"mse\")"
   ]
  },
  {
   "cell_type": "markdown",
   "metadata": {
    "papermill": {
     "duration": 0.080373,
     "end_time": "2020-12-19T14:34:46.541617",
     "exception": false,
     "start_time": "2020-12-19T14:34:46.461244",
     "status": "completed"
    },
    "tags": []
   },
   "source": [
    "2.1. Choosing an optimizer:\n",
    "Keep in mind what kind of problem we are trying to solve:\n",
    "\n",
    "For a multi-class classification problem:\n",
    "\n",
    "model.compile(optimizer='rmsprop',\n",
    "              loss='categorical_crossentropy',\n",
    "              metrics=['accuracy'])\n",
    "              \n",
    "              \n",
    "For a binary classification problem:\n",
    "\n",
    "model.compile(optimizer='rmsprop',\n",
    "              loss='binary_crossentropy',\n",
    "              metrics=['accuracy'])\n",
    "              \n",
    "              \n",
    "\n",
    "For a mean squared error regression problem:\n",
    "\n",
    "model.compile(optimizer='rmsprop',\n",
    "              loss='mse')\n"
   ]
  },
  {
   "cell_type": "markdown",
   "metadata": {
    "papermill": {
     "duration": 0.080337,
     "end_time": "2020-12-19T14:34:46.701956",
     "exception": false,
     "start_time": "2020-12-19T14:34:46.621619",
     "status": "completed"
    },
    "tags": []
   },
   "source": [
    "2.2. Available optimizers:\n",
    "\n",
    "The loss function is the guide to the terrain, telling the optimizer when it’s moving in the right or wrong direction.\n",
    "\n",
    "2.2.1.SGD:Stochastic gradient descent (often abbreviated SGD) is an iterative method for optimizing an objective function with suitable smoothness properties (e.g. differentiable or subdifferentiable). It can be regarded as a stochastic approximation of gradient descent optimization, since it replaces the actual gradient (calculated from the entire data set) by an estimate thereof (calculated from a randomly selected subset of the data). \n",
    "\n",
    "\n",
    "2.2.2.RMSprop:Optimizer that implements the RMSprop algorithm.\n",
    "\n",
    "The gist of RMSprop is to:\n",
    "\n",
    "Maintain a moving (discounted) average of the square of gradients\n",
    "Divide the gradient by the root of this average\n",
    "\n",
    "2.2.3.Adam:Optimizer that implements the Adam algorithm.\n",
    "\n",
    "Adam optimization is a stochastic gradient descent method that is based on adaptive estimation of first-order and second-order moments.\n",
    "\n",
    "\n",
    "2.2.4.Adadelta: Optimizer that implements the Adadelta algorithm.\n",
    "\n",
    "Adadelta optimization is a stochastic gradient descent method that is based on adaptive learning rate per dimension to address two drawbacks:\n",
    "\n",
    "The continual decay of learning rates throughout training\n",
    "The need for a manually selected global learning rate\n",
    "\n",
    "2.2.5.Adagrad:Optimizer that implements the Adagrad algorithm.\n",
    "\n",
    "Adagrad is an optimizer with parameter-specific learning rates, which are adapted relative to how frequently a parameter gets updated during training. The more updates a parameter receives, the smaller the updates.\n",
    "\n",
    "\n",
    "2.2.6.Adamax:Optimizer that implements the Adamax algorithm.\n",
    "\n",
    "It is a variant of Adam based on the infinity norm. Default parameters follow those provided in the paper. Adamax is sometimes superior to adam, specially in models with embeddings.\n",
    "\n",
    "\n",
    "Nadam:Optimizer that implements the NAdam algorithm.\n",
    "\n",
    "Much like Adam is essentially RMSprop with momentum, Nadam is Adam with Nesterov momentum.\n",
    "\n",
    "Ftrl:Optimizer that implements the FTRL algorithm.\n"
   ]
  },
  {
   "cell_type": "markdown",
   "metadata": {
    "papermill": {
     "duration": 0.080208,
     "end_time": "2020-12-19T14:34:46.863183",
     "exception": false,
     "start_time": "2020-12-19T14:34:46.782975",
     "status": "completed"
    },
    "tags": []
   },
   "source": [
    "2.3. Choosing Right Loss Function\n",
    "\n",
    "Loss function is a mathematical way of measuring how wrong your predictions are.\n",
    "\n",
    "Keep in mind what kind of problem you are trying to solve:\n",
    "\n",
    "# For a multi-class classification problem\n",
    "model.compile(optimizer='rmsprop',\n",
    "              loss='categorical_crossentropy',\n",
    "              metrics=['accuracy'])\n",
    "\n",
    "# For a binary classification problem\n",
    "model.compile(optimizer='rmsprop',\n",
    "              loss='binary_crossentropy',\n",
    "              metrics=['accuracy'])\n",
    "\n",
    "# For a mean squared error regression problem\n",
    "model.compile(optimizer='rmsprop',\n",
    "              loss='mse')"
   ]
  },
  {
   "cell_type": "markdown",
   "metadata": {
    "papermill": {
     "duration": 0.080277,
     "end_time": "2020-12-19T14:34:47.024981",
     "exception": false,
     "start_time": "2020-12-19T14:34:46.944704",
     "status": "completed"
    },
    "tags": []
   },
   "source": [
    "# 3. Fitting Model and Training the Data:"
   ]
  },
  {
   "cell_type": "code",
   "execution_count": 45,
   "metadata": {
    "execution": {
     "iopub.execute_input": "2020-12-19T14:34:47.192861Z",
     "iopub.status.busy": "2020-12-19T14:34:47.192106Z",
     "iopub.status.idle": "2020-12-19T14:34:56.323196Z",
     "shell.execute_reply": "2020-12-19T14:34:56.322433Z"
    },
    "papermill": {
     "duration": 9.217709,
     "end_time": "2020-12-19T14:34:56.323343",
     "exception": false,
     "start_time": "2020-12-19T14:34:47.105634",
     "status": "completed"
    },
    "tags": []
   },
   "outputs": [
    {
     "name": "stdout",
     "output_type": "stream",
     "text": [
      "Epoch 1/300\n",
      "22/22 [==============================] - 0s 1ms/step - loss: 254112.9219\n",
      "Epoch 2/300\n",
      "22/22 [==============================] - 0s 1ms/step - loss: 254053.6875\n",
      "Epoch 3/300\n",
      "22/22 [==============================] - 0s 1ms/step - loss: 253994.6250\n",
      "Epoch 4/300\n",
      "22/22 [==============================] - 0s 1ms/step - loss: 253931.0156\n",
      "Epoch 5/300\n",
      "22/22 [==============================] - 0s 996us/step - loss: 253862.1250\n",
      "Epoch 6/300\n",
      "22/22 [==============================] - 0s 976us/step - loss: 253787.2656\n",
      "Epoch 7/300\n",
      "22/22 [==============================] - 0s 1ms/step - loss: 253706.1562\n",
      "Epoch 8/300\n",
      "22/22 [==============================] - 0s 988us/step - loss: 253617.9688\n",
      "Epoch 9/300\n",
      "22/22 [==============================] - 0s 1ms/step - loss: 253521.8438\n",
      "Epoch 10/300\n",
      "22/22 [==============================] - 0s 1ms/step - loss: 253417.2188\n",
      "Epoch 11/300\n",
      "22/22 [==============================] - 0s 960us/step - loss: 253303.4062\n",
      "Epoch 12/300\n",
      "22/22 [==============================] - 0s 1ms/step - loss: 253179.6094\n",
      "Epoch 13/300\n",
      "22/22 [==============================] - 0s 1ms/step - loss: 253045.2500\n",
      "Epoch 14/300\n",
      "22/22 [==============================] - 0s 1ms/step - loss: 252899.5469\n",
      "Epoch 15/300\n",
      "22/22 [==============================] - 0s 1ms/step - loss: 252741.4688\n",
      "Epoch 16/300\n",
      "22/22 [==============================] - 0s 982us/step - loss: 252571.9531\n",
      "Epoch 17/300\n",
      "22/22 [==============================] - 0s 1ms/step - loss: 252388.4531\n",
      "Epoch 18/300\n",
      "22/22 [==============================] - 0s 1ms/step - loss: 252191.4531\n",
      "Epoch 19/300\n",
      "22/22 [==============================] - 0s 1ms/step - loss: 251978.4688\n",
      "Epoch 20/300\n",
      "22/22 [==============================] - 0s 1ms/step - loss: 251750.6719\n",
      "Epoch 21/300\n",
      "22/22 [==============================] - 0s 1ms/step - loss: 251506.3594\n",
      "Epoch 22/300\n",
      "22/22 [==============================] - 0s 1ms/step - loss: 251245.2188\n",
      "Epoch 23/300\n",
      "22/22 [==============================] - 0s 942us/step - loss: 250965.1719\n",
      "Epoch 24/300\n",
      "22/22 [==============================] - 0s 990us/step - loss: 250665.6719\n",
      "Epoch 25/300\n",
      "22/22 [==============================] - 0s 1ms/step - loss: 250347.7031\n",
      "Epoch 26/300\n",
      "22/22 [==============================] - 0s 1ms/step - loss: 250005.6875\n",
      "Epoch 27/300\n",
      "22/22 [==============================] - 0s 1ms/step - loss: 249643.2656\n",
      "Epoch 28/300\n",
      "22/22 [==============================] - 0s 1ms/step - loss: 249259.9375\n",
      "Epoch 29/300\n",
      "22/22 [==============================] - 0s 1ms/step - loss: 248850.9219\n",
      "Epoch 30/300\n",
      "22/22 [==============================] - 0s 1ms/step - loss: 248413.2812\n",
      "Epoch 31/300\n",
      "22/22 [==============================] - 0s 967us/step - loss: 247939.8125\n",
      "Epoch 32/300\n",
      "22/22 [==============================] - 0s 1ms/step - loss: 247431.4219\n",
      "Epoch 33/300\n",
      "22/22 [==============================] - 0s 966us/step - loss: 246883.6406\n",
      "Epoch 34/300\n",
      "22/22 [==============================] - 0s 1ms/step - loss: 246299.0625\n",
      "Epoch 35/300\n",
      "22/22 [==============================] - 0s 1ms/step - loss: 245671.3594\n",
      "Epoch 36/300\n",
      "22/22 [==============================] - 0s 1ms/step - loss: 244824.9844\n",
      "Epoch 37/300\n",
      "22/22 [==============================] - 0s 1ms/step - loss: 243849.1719\n",
      "Epoch 38/300\n",
      "22/22 [==============================] - 0s 1ms/step - loss: 242820.8438\n",
      "Epoch 39/300\n",
      "22/22 [==============================] - 0s 1ms/step - loss: 241711.3906\n",
      "Epoch 40/300\n",
      "22/22 [==============================] - 0s 1ms/step - loss: 240522.8750\n",
      "Epoch 41/300\n",
      "22/22 [==============================] - 0s 1ms/step - loss: 239247.5156\n",
      "Epoch 42/300\n",
      "22/22 [==============================] - 0s 1ms/step - loss: 237889.4219\n",
      "Epoch 43/300\n",
      "22/22 [==============================] - 0s 1ms/step - loss: 236434.1094\n",
      "Epoch 44/300\n",
      "22/22 [==============================] - 0s 1ms/step - loss: 234895.0469\n",
      "Epoch 45/300\n",
      "22/22 [==============================] - 0s 1ms/step - loss: 233250.3125\n",
      "Epoch 46/300\n",
      "22/22 [==============================] - 0s 1ms/step - loss: 231505.0469\n",
      "Epoch 47/300\n",
      "22/22 [==============================] - 0s 1ms/step - loss: 229652.8281\n",
      "Epoch 48/300\n",
      "22/22 [==============================] - 0s 1ms/step - loss: 227698.6562\n",
      "Epoch 49/300\n",
      "22/22 [==============================] - 0s 1ms/step - loss: 225625.5156\n",
      "Epoch 50/300\n",
      "22/22 [==============================] - 0s 1ms/step - loss: 223446.0625\n",
      "Epoch 51/300\n",
      "22/22 [==============================] - 0s 1ms/step - loss: 221147.4688\n",
      "Epoch 52/300\n",
      "22/22 [==============================] - 0s 1ms/step - loss: 218729.5156\n",
      "Epoch 53/300\n",
      "22/22 [==============================] - 0s 1ms/step - loss: 216192.6875\n",
      "Epoch 54/300\n",
      "22/22 [==============================] - 0s 998us/step - loss: 213541.2188\n",
      "Epoch 55/300\n",
      "22/22 [==============================] - 0s 1ms/step - loss: 210752.7031\n",
      "Epoch 56/300\n",
      "22/22 [==============================] - 0s 1ms/step - loss: 207846.1250\n",
      "Epoch 57/300\n",
      "22/22 [==============================] - 0s 1ms/step - loss: 204796.5781\n",
      "Epoch 58/300\n",
      "22/22 [==============================] - 0s 1ms/step - loss: 201614.4062\n",
      "Epoch 59/300\n",
      "22/22 [==============================] - 0s 1ms/step - loss: 198306.2656\n",
      "Epoch 60/300\n",
      "22/22 [==============================] - 0s 1ms/step - loss: 194868.5938\n",
      "Epoch 61/300\n",
      "22/22 [==============================] - 0s 1ms/step - loss: 191282.9688\n",
      "Epoch 62/300\n",
      "22/22 [==============================] - 0s 1ms/step - loss: 187574.8281\n",
      "Epoch 63/300\n",
      "22/22 [==============================] - 0s 939us/step - loss: 183707.8125\n",
      "Epoch 64/300\n",
      "22/22 [==============================] - 0s 934us/step - loss: 179730.0938\n",
      "Epoch 65/300\n",
      "22/22 [==============================] - 0s 1ms/step - loss: 175609.5156\n",
      "Epoch 66/300\n",
      "22/22 [==============================] - 0s 1ms/step - loss: 171351.4375\n",
      "Epoch 67/300\n",
      "22/22 [==============================] - 0s 1ms/step - loss: 166978.1875\n",
      "Epoch 68/300\n",
      "22/22 [==============================] - 0s 1ms/step - loss: 162474.3594\n",
      "Epoch 69/300\n",
      "22/22 [==============================] - 0s 1ms/step - loss: 157835.5469\n",
      "Epoch 70/300\n",
      "22/22 [==============================] - 0s 1ms/step - loss: 153087.7188\n",
      "Epoch 71/300\n",
      "22/22 [==============================] - 0s 1ms/step - loss: 148225.6875\n",
      "Epoch 72/300\n",
      "22/22 [==============================] - 0s 1ms/step - loss: 143235.1719\n",
      "Epoch 73/300\n",
      "22/22 [==============================] - 0s 1ms/step - loss: 138118.9688\n",
      "Epoch 74/300\n",
      "22/22 [==============================] - 0s 987us/step - loss: 132947.0469\n",
      "Epoch 75/300\n",
      "22/22 [==============================] - 0s 1ms/step - loss: 127667.5781\n",
      "Epoch 76/300\n",
      "22/22 [==============================] - 0s 971us/step - loss: 122264.9688\n",
      "Epoch 77/300\n",
      "22/22 [==============================] - 0s 969us/step - loss: 116750.3047\n",
      "Epoch 78/300\n",
      "22/22 [==============================] - 0s 1ms/step - loss: 111238.1484\n",
      "Epoch 79/300\n",
      "22/22 [==============================] - 0s 1ms/step - loss: 105655.4531\n",
      "Epoch 80/300\n",
      "22/22 [==============================] - 0s 1ms/step - loss: 100031.3516\n",
      "Epoch 81/300\n",
      "22/22 [==============================] - 0s 1ms/step - loss: 94361.2344\n",
      "Epoch 82/300\n",
      "22/22 [==============================] - 0s 1ms/step - loss: 88694.4375\n",
      "Epoch 83/300\n",
      "22/22 [==============================] - 0s 1ms/step - loss: 82992.6094\n",
      "Epoch 84/300\n",
      "22/22 [==============================] - 0s 1ms/step - loss: 77278.3281\n",
      "Epoch 85/300\n",
      "22/22 [==============================] - 0s 1ms/step - loss: 71603.3047\n",
      "Epoch 86/300\n",
      "22/22 [==============================] - 0s 1ms/step - loss: 65994.7109\n",
      "Epoch 87/300\n",
      "22/22 [==============================] - 0s 1ms/step - loss: 60442.3867\n",
      "Epoch 88/300\n",
      "22/22 [==============================] - 0s 1ms/step - loss: 55009.1367\n",
      "Epoch 89/300\n",
      "22/22 [==============================] - 0s 1ms/step - loss: 49657.2070\n",
      "Epoch 90/300\n",
      "22/22 [==============================] - 0s 1ms/step - loss: 44406.4531\n",
      "Epoch 91/300\n",
      "22/22 [==============================] - 0s 1ms/step - loss: 39374.6016\n",
      "Epoch 92/300\n",
      "22/22 [==============================] - 0s 1ms/step - loss: 34512.0391\n",
      "Epoch 93/300\n",
      "22/22 [==============================] - 0s 1ms/step - loss: 29844.5723\n",
      "Epoch 94/300\n",
      "22/22 [==============================] - 0s 1ms/step - loss: 25425.8848\n",
      "Epoch 95/300\n",
      "22/22 [==============================] - 0s 952us/step - loss: 21297.1230\n",
      "Epoch 96/300\n",
      "22/22 [==============================] - 0s 1ms/step - loss: 17459.6816\n",
      "Epoch 97/300\n",
      "22/22 [==============================] - 0s 1ms/step - loss: 14021.7490\n",
      "Epoch 98/300\n",
      "22/22 [==============================] - 0s 1ms/step - loss: 10900.6416\n",
      "Epoch 99/300\n",
      "22/22 [==============================] - 0s 1ms/step - loss: 8212.0342\n",
      "Epoch 100/300\n",
      "22/22 [==============================] - 0s 1ms/step - loss: 5983.0234\n",
      "Epoch 101/300\n",
      "22/22 [==============================] - 0s 1ms/step - loss: 4219.1084\n",
      "Epoch 102/300\n",
      "22/22 [==============================] - 0s 1ms/step - loss: 2936.2073\n",
      "Epoch 103/300\n",
      "22/22 [==============================] - 0s 1ms/step - loss: 2166.8582\n",
      "Epoch 104/300\n",
      "22/22 [==============================] - 0s 1ms/step - loss: 1810.5334\n",
      "Epoch 105/300\n",
      "22/22 [==============================] - 0s 1ms/step - loss: 1713.2014\n",
      "Epoch 106/300\n",
      "22/22 [==============================] - 0s 1ms/step - loss: 1696.5853\n",
      "Epoch 107/300\n",
      "22/22 [==============================] - 0s 1ms/step - loss: 1670.9100\n",
      "Epoch 108/300\n",
      "22/22 [==============================] - 0s 1ms/step - loss: 1648.0703\n",
      "Epoch 109/300\n",
      "22/22 [==============================] - 0s 1ms/step - loss: 1621.7740\n",
      "Epoch 110/300\n",
      "22/22 [==============================] - 0s 1ms/step - loss: 1591.6608\n",
      "Epoch 111/300\n",
      "22/22 [==============================] - 0s 1ms/step - loss: 1576.5211\n",
      "Epoch 112/300\n",
      "22/22 [==============================] - 0s 963us/step - loss: 1549.4684\n",
      "Epoch 113/300\n",
      "22/22 [==============================] - 0s 1ms/step - loss: 1524.6960\n",
      "Epoch 114/300\n",
      "22/22 [==============================] - 0s 1ms/step - loss: 1500.8263\n",
      "Epoch 115/300\n",
      "22/22 [==============================] - 0s 1ms/step - loss: 1472.7983\n",
      "Epoch 116/300\n",
      "22/22 [==============================] - 0s 1ms/step - loss: 1450.5557\n",
      "Epoch 117/300\n",
      "22/22 [==============================] - 0s 997us/step - loss: 1429.1945\n",
      "Epoch 118/300\n",
      "22/22 [==============================] - 0s 1ms/step - loss: 1405.7886\n",
      "Epoch 119/300\n",
      "22/22 [==============================] - 0s 1ms/step - loss: 1379.9231\n",
      "Epoch 120/300\n",
      "22/22 [==============================] - 0s 924us/step - loss: 1354.6287\n",
      "Epoch 121/300\n",
      "22/22 [==============================] - 0s 1ms/step - loss: 1332.3074\n",
      "Epoch 122/300\n",
      "22/22 [==============================] - 0s 969us/step - loss: 1310.0269\n",
      "Epoch 123/300\n",
      "22/22 [==============================] - 0s 964us/step - loss: 1285.5520\n",
      "Epoch 124/300\n",
      "22/22 [==============================] - 0s 1ms/step - loss: 1265.4498\n",
      "Epoch 125/300\n",
      "22/22 [==============================] - 0s 934us/step - loss: 1240.9095\n",
      "Epoch 126/300\n",
      "22/22 [==============================] - 0s 1ms/step - loss: 1218.8374\n",
      "Epoch 127/300\n",
      "22/22 [==============================] - 0s 989us/step - loss: 1193.9247\n",
      "Epoch 128/300\n",
      "22/22 [==============================] - 0s 994us/step - loss: 1169.4827\n",
      "Epoch 129/300\n",
      "22/22 [==============================] - 0s 1ms/step - loss: 1148.1875\n",
      "Epoch 130/300\n",
      "22/22 [==============================] - 0s 1ms/step - loss: 1124.7720\n",
      "Epoch 131/300\n",
      "22/22 [==============================] - 0s 992us/step - loss: 1101.7869\n",
      "Epoch 132/300\n",
      "22/22 [==============================] - 0s 1ms/step - loss: 1079.8864\n",
      "Epoch 133/300\n",
      "22/22 [==============================] - 0s 1ms/step - loss: 1057.5566\n",
      "Epoch 134/300\n",
      "22/22 [==============================] - 0s 1ms/step - loss: 1037.8593\n",
      "Epoch 135/300\n",
      "22/22 [==============================] - 0s 1ms/step - loss: 1013.6439\n",
      "Epoch 136/300\n",
      "22/22 [==============================] - 0s 1ms/step - loss: 992.5162\n",
      "Epoch 137/300\n",
      "22/22 [==============================] - 0s 1ms/step - loss: 971.4421\n",
      "Epoch 138/300\n",
      "22/22 [==============================] - 0s 979us/step - loss: 950.8683\n",
      "Epoch 139/300\n",
      "22/22 [==============================] - 0s 982us/step - loss: 931.4147\n",
      "Epoch 140/300\n",
      "22/22 [==============================] - 0s 1ms/step - loss: 909.7490\n",
      "Epoch 141/300\n",
      "22/22 [==============================] - 0s 946us/step - loss: 890.2755\n",
      "Epoch 142/300\n",
      "22/22 [==============================] - 0s 992us/step - loss: 870.0414\n",
      "Epoch 143/300\n",
      "22/22 [==============================] - 0s 973us/step - loss: 849.3563\n",
      "Epoch 144/300\n",
      "22/22 [==============================] - 0s 1ms/step - loss: 832.8497\n",
      "Epoch 145/300\n",
      "22/22 [==============================] - 0s 1ms/step - loss: 815.2385\n",
      "Epoch 146/300\n",
      "22/22 [==============================] - 0s 1ms/step - loss: 795.6617\n",
      "Epoch 147/300\n",
      "22/22 [==============================] - 0s 1ms/step - loss: 774.8088\n",
      "Epoch 148/300\n",
      "22/22 [==============================] - 0s 1ms/step - loss: 753.4352\n",
      "Epoch 149/300\n",
      "22/22 [==============================] - 0s 1ms/step - loss: 736.2604\n",
      "Epoch 150/300\n",
      "22/22 [==============================] - 0s 966us/step - loss: 716.8063\n",
      "Epoch 151/300\n",
      "22/22 [==============================] - 0s 986us/step - loss: 696.4926\n",
      "Epoch 152/300\n",
      "22/22 [==============================] - 0s 1ms/step - loss: 680.3910\n",
      "Epoch 153/300\n",
      "22/22 [==============================] - 0s 934us/step - loss: 662.6019\n",
      "Epoch 154/300\n",
      "22/22 [==============================] - 0s 1ms/step - loss: 644.8887\n",
      "Epoch 155/300\n",
      "22/22 [==============================] - 0s 1ms/step - loss: 626.8033\n",
      "Epoch 156/300\n",
      "22/22 [==============================] - 0s 948us/step - loss: 611.3445\n",
      "Epoch 157/300\n",
      "22/22 [==============================] - 0s 1ms/step - loss: 591.6490\n",
      "Epoch 158/300\n",
      "22/22 [==============================] - 0s 1ms/step - loss: 576.8053\n",
      "Epoch 159/300\n",
      "22/22 [==============================] - 0s 1ms/step - loss: 559.3661\n",
      "Epoch 160/300\n",
      "22/22 [==============================] - 0s 1ms/step - loss: 544.2064\n",
      "Epoch 161/300\n",
      "22/22 [==============================] - 0s 954us/step - loss: 526.1773\n",
      "Epoch 162/300\n",
      "22/22 [==============================] - 0s 939us/step - loss: 507.6313\n",
      "Epoch 163/300\n",
      "22/22 [==============================] - 0s 1ms/step - loss: 492.8047\n",
      "Epoch 164/300\n",
      "22/22 [==============================] - 0s 984us/step - loss: 478.2997\n",
      "Epoch 165/300\n",
      "22/22 [==============================] - 0s 993us/step - loss: 462.0207\n",
      "Epoch 166/300\n",
      "22/22 [==============================] - 0s 1ms/step - loss: 446.4243\n",
      "Epoch 167/300\n",
      "22/22 [==============================] - 0s 916us/step - loss: 430.8436\n",
      "Epoch 168/300\n",
      "22/22 [==============================] - 0s 960us/step - loss: 417.4870\n",
      "Epoch 169/300\n",
      "22/22 [==============================] - 0s 1ms/step - loss: 402.6379\n",
      "Epoch 170/300\n",
      "22/22 [==============================] - 0s 1ms/step - loss: 389.4477\n",
      "Epoch 171/300\n",
      "22/22 [==============================] - 0s 1ms/step - loss: 376.0144\n",
      "Epoch 172/300\n",
      "22/22 [==============================] - 0s 1ms/step - loss: 361.8864\n",
      "Epoch 173/300\n",
      "22/22 [==============================] - 0s 959us/step - loss: 349.7715\n",
      "Epoch 174/300\n",
      "22/22 [==============================] - 0s 997us/step - loss: 336.8681\n",
      "Epoch 175/300\n",
      "22/22 [==============================] - 0s 1ms/step - loss: 323.9319\n",
      "Epoch 176/300\n",
      "22/22 [==============================] - 0s 1ms/step - loss: 310.8987\n",
      "Epoch 177/300\n",
      "22/22 [==============================] - 0s 1ms/step - loss: 296.5584\n",
      "Epoch 178/300\n",
      "22/22 [==============================] - 0s 1ms/step - loss: 283.2123\n",
      "Epoch 179/300\n",
      "22/22 [==============================] - 0s 1ms/step - loss: 270.8480\n",
      "Epoch 180/300\n",
      "22/22 [==============================] - 0s 990us/step - loss: 258.6909\n",
      "Epoch 181/300\n",
      "22/22 [==============================] - 0s 1ms/step - loss: 248.2039\n",
      "Epoch 182/300\n",
      "22/22 [==============================] - 0s 1ms/step - loss: 236.7718\n",
      "Epoch 183/300\n",
      "22/22 [==============================] - 0s 1ms/step - loss: 226.8281\n",
      "Epoch 184/300\n",
      "22/22 [==============================] - 0s 1ms/step - loss: 216.2644\n",
      "Epoch 185/300\n",
      "22/22 [==============================] - 0s 1ms/step - loss: 207.4201\n",
      "Epoch 186/300\n",
      "22/22 [==============================] - 0s 945us/step - loss: 197.1566\n",
      "Epoch 187/300\n",
      "22/22 [==============================] - 0s 1ms/step - loss: 189.3661\n",
      "Epoch 188/300\n",
      "22/22 [==============================] - 0s 957us/step - loss: 179.9462\n",
      "Epoch 189/300\n",
      "22/22 [==============================] - 0s 998us/step - loss: 170.7100\n",
      "Epoch 190/300\n",
      "22/22 [==============================] - 0s 1ms/step - loss: 162.4541\n",
      "Epoch 191/300\n",
      "22/22 [==============================] - 0s 1ms/step - loss: 153.6321\n",
      "Epoch 192/300\n",
      "22/22 [==============================] - 0s 1ms/step - loss: 145.4734\n",
      "Epoch 193/300\n",
      "22/22 [==============================] - 0s 1ms/step - loss: 138.2624\n",
      "Epoch 194/300\n",
      "22/22 [==============================] - 0s 1ms/step - loss: 129.8533\n",
      "Epoch 195/300\n",
      "22/22 [==============================] - 0s 1ms/step - loss: 122.0483\n",
      "Epoch 196/300\n",
      "22/22 [==============================] - 0s 1ms/step - loss: 114.4558\n",
      "Epoch 197/300\n",
      "22/22 [==============================] - 0s 1ms/step - loss: 107.7581\n",
      "Epoch 198/300\n",
      "22/22 [==============================] - 0s 1ms/step - loss: 101.8681\n",
      "Epoch 199/300\n",
      "22/22 [==============================] - 0s 978us/step - loss: 95.9917\n",
      "Epoch 200/300\n",
      "22/22 [==============================] - 0s 984us/step - loss: 89.8543\n",
      "Epoch 201/300\n",
      "22/22 [==============================] - 0s 1ms/step - loss: 85.3955\n",
      "Epoch 202/300\n",
      "22/22 [==============================] - 0s 1ms/step - loss: 80.3782\n",
      "Epoch 203/300\n",
      "22/22 [==============================] - 0s 1ms/step - loss: 76.2419\n",
      "Epoch 204/300\n",
      "22/22 [==============================] - 0s 961us/step - loss: 71.2911\n",
      "Epoch 205/300\n",
      "22/22 [==============================] - 0s 1ms/step - loss: 66.6386\n",
      "Epoch 206/300\n",
      "22/22 [==============================] - 0s 1ms/step - loss: 62.9425\n",
      "Epoch 207/300\n",
      "22/22 [==============================] - 0s 1ms/step - loss: 59.1694\n",
      "Epoch 208/300\n",
      "22/22 [==============================] - 0s 1ms/step - loss: 55.6119\n",
      "Epoch 209/300\n",
      "22/22 [==============================] - 0s 1ms/step - loss: 52.7904\n",
      "Epoch 210/300\n",
      "22/22 [==============================] - 0s 969us/step - loss: 50.5618\n",
      "Epoch 211/300\n",
      "22/22 [==============================] - 0s 966us/step - loss: 47.5599\n",
      "Epoch 212/300\n",
      "22/22 [==============================] - 0s 985us/step - loss: 45.3915\n",
      "Epoch 213/300\n",
      "22/22 [==============================] - 0s 1ms/step - loss: 42.9434\n",
      "Epoch 214/300\n",
      "22/22 [==============================] - 0s 1ms/step - loss: 40.9381\n",
      "Epoch 215/300\n",
      "22/22 [==============================] - 0s 1ms/step - loss: 38.8598\n",
      "Epoch 216/300\n",
      "22/22 [==============================] - 0s 1ms/step - loss: 36.6709\n",
      "Epoch 217/300\n",
      "22/22 [==============================] - 0s 1ms/step - loss: 35.6180\n",
      "Epoch 218/300\n",
      "22/22 [==============================] - 0s 947us/step - loss: 33.7808\n",
      "Epoch 219/300\n",
      "22/22 [==============================] - 0s 1ms/step - loss: 32.5231\n",
      "Epoch 220/300\n",
      "22/22 [==============================] - 0s 1ms/step - loss: 31.4008\n",
      "Epoch 221/300\n",
      "22/22 [==============================] - 0s 1ms/step - loss: 30.4266\n",
      "Epoch 222/300\n",
      "22/22 [==============================] - 0s 957us/step - loss: 29.4878\n",
      "Epoch 223/300\n",
      "22/22 [==============================] - 0s 964us/step - loss: 28.7972\n",
      "Epoch 224/300\n",
      "22/22 [==============================] - 0s 1ms/step - loss: 27.8504\n",
      "Epoch 225/300\n",
      "22/22 [==============================] - 0s 1ms/step - loss: 27.4984\n",
      "Epoch 226/300\n",
      "22/22 [==============================] - 0s 973us/step - loss: 26.8191\n",
      "Epoch 227/300\n",
      "22/22 [==============================] - 0s 1ms/step - loss: 26.4302\n",
      "Epoch 228/300\n",
      "22/22 [==============================] - 0s 1ms/step - loss: 26.2748\n",
      "Epoch 229/300\n",
      "22/22 [==============================] - 0s 1ms/step - loss: 25.6485\n",
      "Epoch 230/300\n",
      "22/22 [==============================] - 0s 1ms/step - loss: 25.7135\n",
      "Epoch 231/300\n",
      "22/22 [==============================] - 0s 1ms/step - loss: 25.6133\n",
      "Epoch 232/300\n",
      "22/22 [==============================] - 0s 1ms/step - loss: 25.1504\n",
      "Epoch 233/300\n",
      "22/22 [==============================] - 0s 1ms/step - loss: 24.9882\n",
      "Epoch 234/300\n",
      "22/22 [==============================] - 0s 947us/step - loss: 25.1652\n",
      "Epoch 235/300\n",
      "22/22 [==============================] - 0s 1ms/step - loss: 24.9775\n",
      "Epoch 236/300\n",
      "22/22 [==============================] - 0s 1ms/step - loss: 24.7644\n",
      "Epoch 237/300\n",
      "22/22 [==============================] - 0s 1ms/step - loss: 24.7088\n",
      "Epoch 238/300\n",
      "22/22 [==============================] - 0s 955us/step - loss: 24.4791\n",
      "Epoch 239/300\n",
      "22/22 [==============================] - 0s 994us/step - loss: 24.6311\n",
      "Epoch 240/300\n",
      "22/22 [==============================] - 0s 952us/step - loss: 24.7185\n",
      "Epoch 241/300\n",
      "22/22 [==============================] - 0s 1ms/step - loss: 24.2548\n",
      "Epoch 242/300\n",
      "22/22 [==============================] - 0s 1ms/step - loss: 24.5276\n",
      "Epoch 243/300\n",
      "22/22 [==============================] - 0s 1ms/step - loss: 24.1344\n",
      "Epoch 244/300\n",
      "22/22 [==============================] - 0s 1ms/step - loss: 24.3261\n",
      "Epoch 245/300\n",
      "22/22 [==============================] - 0s 1ms/step - loss: 24.2060\n",
      "Epoch 246/300\n",
      "22/22 [==============================] - 0s 998us/step - loss: 24.2778\n",
      "Epoch 247/300\n",
      "22/22 [==============================] - 0s 974us/step - loss: 24.0312\n",
      "Epoch 248/300\n",
      "22/22 [==============================] - 0s 1ms/step - loss: 23.7227\n",
      "Epoch 249/300\n",
      "22/22 [==============================] - 0s 943us/step - loss: 24.2566\n",
      "Epoch 250/300\n",
      "22/22 [==============================] - 0s 971us/step - loss: 24.2814\n",
      "Epoch 251/300\n",
      "22/22 [==============================] - 0s 1ms/step - loss: 24.1649\n",
      "Epoch 252/300\n",
      "22/22 [==============================] - 0s 983us/step - loss: 24.1877\n",
      "Epoch 253/300\n",
      "22/22 [==============================] - 0s 1ms/step - loss: 24.0479\n",
      "Epoch 254/300\n",
      "22/22 [==============================] - 0s 959us/step - loss: 24.1197\n",
      "Epoch 255/300\n",
      "22/22 [==============================] - 0s 1ms/step - loss: 24.1171\n",
      "Epoch 256/300\n",
      "22/22 [==============================] - 0s 1ms/step - loss: 24.0685\n",
      "Epoch 257/300\n",
      "22/22 [==============================] - 0s 1ms/step - loss: 24.2988\n",
      "Epoch 258/300\n",
      "22/22 [==============================] - 0s 1ms/step - loss: 24.2965\n",
      "Epoch 259/300\n",
      "22/22 [==============================] - 0s 1ms/step - loss: 24.3921\n",
      "Epoch 260/300\n",
      "22/22 [==============================] - 0s 1ms/step - loss: 23.8944\n",
      "Epoch 261/300\n",
      "22/22 [==============================] - 0s 1ms/step - loss: 24.1219\n",
      "Epoch 262/300\n",
      "22/22 [==============================] - 0s 1ms/step - loss: 24.0941\n",
      "Epoch 263/300\n",
      "22/22 [==============================] - 0s 1ms/step - loss: 24.0837\n",
      "Epoch 264/300\n",
      "22/22 [==============================] - 0s 1ms/step - loss: 24.2867\n",
      "Epoch 265/300\n",
      "22/22 [==============================] - 0s 1ms/step - loss: 24.2149\n",
      "Epoch 266/300\n",
      "22/22 [==============================] - 0s 1ms/step - loss: 24.2545\n",
      "Epoch 267/300\n",
      "22/22 [==============================] - 0s 1ms/step - loss: 23.8158\n",
      "Epoch 268/300\n",
      "22/22 [==============================] - 0s 1ms/step - loss: 24.2807\n",
      "Epoch 269/300\n",
      "22/22 [==============================] - 0s 1ms/step - loss: 24.5228\n",
      "Epoch 270/300\n",
      "22/22 [==============================] - 0s 1ms/step - loss: 23.9345\n",
      "Epoch 271/300\n",
      "22/22 [==============================] - 0s 1ms/step - loss: 24.3375\n",
      "Epoch 272/300\n",
      "22/22 [==============================] - 0s 1ms/step - loss: 24.2442\n",
      "Epoch 273/300\n",
      "22/22 [==============================] - 0s 1ms/step - loss: 23.8030\n",
      "Epoch 274/300\n",
      "22/22 [==============================] - 0s 1ms/step - loss: 24.2600\n",
      "Epoch 275/300\n",
      "22/22 [==============================] - 0s 1ms/step - loss: 24.4551\n",
      "Epoch 276/300\n",
      "22/22 [==============================] - 0s 1ms/step - loss: 24.1355\n",
      "Epoch 277/300\n",
      "22/22 [==============================] - 0s 1ms/step - loss: 24.2573\n",
      "Epoch 278/300\n",
      "22/22 [==============================] - 0s 1ms/step - loss: 24.2648\n",
      "Epoch 279/300\n",
      "22/22 [==============================] - 0s 1ms/step - loss: 24.0498\n",
      "Epoch 280/300\n",
      "22/22 [==============================] - 0s 1ms/step - loss: 23.8697\n",
      "Epoch 281/300\n",
      "22/22 [==============================] - 0s 1ms/step - loss: 24.0534\n",
      "Epoch 282/300\n",
      "22/22 [==============================] - 0s 1ms/step - loss: 23.8651\n",
      "Epoch 283/300\n",
      "22/22 [==============================] - 0s 1ms/step - loss: 24.0372\n",
      "Epoch 284/300\n",
      "22/22 [==============================] - 0s 989us/step - loss: 24.2110\n",
      "Epoch 285/300\n",
      "22/22 [==============================] - 0s 1ms/step - loss: 24.2484\n",
      "Epoch 286/300\n",
      "22/22 [==============================] - 0s 1ms/step - loss: 23.9701\n",
      "Epoch 287/300\n",
      "22/22 [==============================] - 0s 1ms/step - loss: 23.7927\n",
      "Epoch 288/300\n",
      "22/22 [==============================] - 0s 1ms/step - loss: 24.5737\n",
      "Epoch 289/300\n",
      "22/22 [==============================] - 0s 1ms/step - loss: 24.1489\n",
      "Epoch 290/300\n",
      "22/22 [==============================] - 0s 1ms/step - loss: 24.3473\n",
      "Epoch 291/300\n",
      "22/22 [==============================] - 0s 1ms/step - loss: 24.2152\n",
      "Epoch 292/300\n",
      "22/22 [==============================] - 0s 1ms/step - loss: 24.6154\n",
      "Epoch 293/300\n",
      "22/22 [==============================] - 0s 1ms/step - loss: 24.0938\n",
      "Epoch 294/300\n",
      "22/22 [==============================] - 0s 1ms/step - loss: 24.1446\n",
      "Epoch 295/300\n",
      "22/22 [==============================] - 0s 1ms/step - loss: 24.0739\n",
      "Epoch 296/300\n",
      "22/22 [==============================] - 0s 1ms/step - loss: 24.4429\n",
      "Epoch 297/300\n",
      "22/22 [==============================] - 0s 1ms/step - loss: 24.1149\n",
      "Epoch 298/300\n",
      "22/22 [==============================] - 0s 1ms/step - loss: 24.1915\n",
      "Epoch 299/300\n",
      "22/22 [==============================] - 0s 1ms/step - loss: 24.2920\n",
      "Epoch 300/300\n",
      "22/22 [==============================] - 0s 1ms/step - loss: 24.1014\n"
     ]
    },
    {
     "data": {
      "text/plain": [
       "<tensorflow.python.keras.callbacks.History at 0x7fb0dc579310>"
      ]
     },
     "execution_count": 45,
     "metadata": {},
     "output_type": "execute_result"
    }
   ],
   "source": [
    "model.fit(x=X_deep_train, y=y_deep_train,epochs=300)"
   ]
  },
  {
   "cell_type": "code",
   "execution_count": 46,
   "metadata": {
    "execution": {
     "iopub.execute_input": "2020-12-19T14:34:56.911442Z",
     "iopub.status.busy": "2020-12-19T14:34:56.910378Z",
     "iopub.status.idle": "2020-12-19T14:34:56.916127Z",
     "shell.execute_reply": "2020-12-19T14:34:56.915463Z"
    },
    "papermill": {
     "duration": 0.302304,
     "end_time": "2020-12-19T14:34:56.916246",
     "exception": false,
     "start_time": "2020-12-19T14:34:56.613942",
     "status": "completed"
    },
    "tags": []
   },
   "outputs": [
    {
     "data": {
      "text/plain": [
       "{'loss': [254112.921875,\n",
       "  254053.6875,\n",
       "  253994.625,\n",
       "  253931.015625,\n",
       "  253862.125,\n",
       "  253787.265625,\n",
       "  253706.15625,\n",
       "  253617.96875,\n",
       "  253521.84375,\n",
       "  253417.21875,\n",
       "  253303.40625,\n",
       "  253179.609375,\n",
       "  253045.25,\n",
       "  252899.546875,\n",
       "  252741.46875,\n",
       "  252571.953125,\n",
       "  252388.453125,\n",
       "  252191.453125,\n",
       "  251978.46875,\n",
       "  251750.671875,\n",
       "  251506.359375,\n",
       "  251245.21875,\n",
       "  250965.171875,\n",
       "  250665.671875,\n",
       "  250347.703125,\n",
       "  250005.6875,\n",
       "  249643.265625,\n",
       "  249259.9375,\n",
       "  248850.921875,\n",
       "  248413.28125,\n",
       "  247939.8125,\n",
       "  247431.421875,\n",
       "  246883.640625,\n",
       "  246299.0625,\n",
       "  245671.359375,\n",
       "  244824.984375,\n",
       "  243849.171875,\n",
       "  242820.84375,\n",
       "  241711.390625,\n",
       "  240522.875,\n",
       "  239247.515625,\n",
       "  237889.421875,\n",
       "  236434.109375,\n",
       "  234895.046875,\n",
       "  233250.3125,\n",
       "  231505.046875,\n",
       "  229652.828125,\n",
       "  227698.65625,\n",
       "  225625.515625,\n",
       "  223446.0625,\n",
       "  221147.46875,\n",
       "  218729.515625,\n",
       "  216192.6875,\n",
       "  213541.21875,\n",
       "  210752.703125,\n",
       "  207846.125,\n",
       "  204796.578125,\n",
       "  201614.40625,\n",
       "  198306.265625,\n",
       "  194868.59375,\n",
       "  191282.96875,\n",
       "  187574.828125,\n",
       "  183707.8125,\n",
       "  179730.09375,\n",
       "  175609.515625,\n",
       "  171351.4375,\n",
       "  166978.1875,\n",
       "  162474.359375,\n",
       "  157835.546875,\n",
       "  153087.71875,\n",
       "  148225.6875,\n",
       "  143235.171875,\n",
       "  138118.96875,\n",
       "  132947.046875,\n",
       "  127667.578125,\n",
       "  122264.96875,\n",
       "  116750.3046875,\n",
       "  111238.1484375,\n",
       "  105655.453125,\n",
       "  100031.3515625,\n",
       "  94361.234375,\n",
       "  88694.4375,\n",
       "  82992.609375,\n",
       "  77278.328125,\n",
       "  71603.3046875,\n",
       "  65994.7109375,\n",
       "  60442.38671875,\n",
       "  55009.13671875,\n",
       "  49657.20703125,\n",
       "  44406.453125,\n",
       "  39374.6015625,\n",
       "  34512.0390625,\n",
       "  29844.572265625,\n",
       "  25425.884765625,\n",
       "  21297.123046875,\n",
       "  17459.681640625,\n",
       "  14021.7490234375,\n",
       "  10900.6416015625,\n",
       "  8212.0341796875,\n",
       "  5983.0234375,\n",
       "  4219.1083984375,\n",
       "  2936.207275390625,\n",
       "  2166.858154296875,\n",
       "  1810.533447265625,\n",
       "  1713.201416015625,\n",
       "  1696.5853271484375,\n",
       "  1670.9100341796875,\n",
       "  1648.0703125,\n",
       "  1621.7740478515625,\n",
       "  1591.6607666015625,\n",
       "  1576.5211181640625,\n",
       "  1549.4683837890625,\n",
       "  1524.696044921875,\n",
       "  1500.8262939453125,\n",
       "  1472.79833984375,\n",
       "  1450.5556640625,\n",
       "  1429.1944580078125,\n",
       "  1405.78857421875,\n",
       "  1379.923095703125,\n",
       "  1354.628662109375,\n",
       "  1332.307373046875,\n",
       "  1310.02685546875,\n",
       "  1285.552001953125,\n",
       "  1265.4498291015625,\n",
       "  1240.9095458984375,\n",
       "  1218.83740234375,\n",
       "  1193.9246826171875,\n",
       "  1169.482666015625,\n",
       "  1148.1875,\n",
       "  1124.77197265625,\n",
       "  1101.786865234375,\n",
       "  1079.8863525390625,\n",
       "  1057.556640625,\n",
       "  1037.8592529296875,\n",
       "  1013.6438598632812,\n",
       "  992.5162353515625,\n",
       "  971.442138671875,\n",
       "  950.8682861328125,\n",
       "  931.4146728515625,\n",
       "  909.7490234375,\n",
       "  890.2754516601562,\n",
       "  870.0414428710938,\n",
       "  849.3563232421875,\n",
       "  832.8496704101562,\n",
       "  815.2384643554688,\n",
       "  795.6616821289062,\n",
       "  774.808837890625,\n",
       "  753.4351806640625,\n",
       "  736.2604370117188,\n",
       "  716.8063354492188,\n",
       "  696.4926147460938,\n",
       "  680.3909912109375,\n",
       "  662.6018676757812,\n",
       "  644.8887329101562,\n",
       "  626.8033447265625,\n",
       "  611.344482421875,\n",
       "  591.6489868164062,\n",
       "  576.8052978515625,\n",
       "  559.3660888671875,\n",
       "  544.2063598632812,\n",
       "  526.1773071289062,\n",
       "  507.6312561035156,\n",
       "  492.8046569824219,\n",
       "  478.2996826171875,\n",
       "  462.0207214355469,\n",
       "  446.42431640625,\n",
       "  430.84356689453125,\n",
       "  417.4869689941406,\n",
       "  402.637939453125,\n",
       "  389.44769287109375,\n",
       "  376.0144348144531,\n",
       "  361.8863830566406,\n",
       "  349.771484375,\n",
       "  336.8680725097656,\n",
       "  323.931884765625,\n",
       "  310.8987121582031,\n",
       "  296.55841064453125,\n",
       "  283.21234130859375,\n",
       "  270.8480224609375,\n",
       "  258.6908874511719,\n",
       "  248.2039031982422,\n",
       "  236.7718048095703,\n",
       "  226.82814025878906,\n",
       "  216.264404296875,\n",
       "  207.4200897216797,\n",
       "  197.15664672851562,\n",
       "  189.3661346435547,\n",
       "  179.94622802734375,\n",
       "  170.7100067138672,\n",
       "  162.4541015625,\n",
       "  153.632080078125,\n",
       "  145.473388671875,\n",
       "  138.2623748779297,\n",
       "  129.85333251953125,\n",
       "  122.04829406738281,\n",
       "  114.45577239990234,\n",
       "  107.75814819335938,\n",
       "  101.86814880371094,\n",
       "  95.9916763305664,\n",
       "  89.85425567626953,\n",
       "  85.39545440673828,\n",
       "  80.378173828125,\n",
       "  76.24188232421875,\n",
       "  71.29109191894531,\n",
       "  66.63858032226562,\n",
       "  62.94247055053711,\n",
       "  59.16938781738281,\n",
       "  55.61188507080078,\n",
       "  52.79043960571289,\n",
       "  50.5617561340332,\n",
       "  47.55988311767578,\n",
       "  45.39146041870117,\n",
       "  42.94342803955078,\n",
       "  40.9381217956543,\n",
       "  38.85978698730469,\n",
       "  36.67094421386719,\n",
       "  35.6180419921875,\n",
       "  33.78083038330078,\n",
       "  32.523094177246094,\n",
       "  31.400787353515625,\n",
       "  30.426631927490234,\n",
       "  29.487831115722656,\n",
       "  28.79720687866211,\n",
       "  27.850433349609375,\n",
       "  27.498422622680664,\n",
       "  26.81907844543457,\n",
       "  26.43018913269043,\n",
       "  26.274824142456055,\n",
       "  25.648508071899414,\n",
       "  25.71347999572754,\n",
       "  25.613279342651367,\n",
       "  25.150421142578125,\n",
       "  24.988195419311523,\n",
       "  25.16519546508789,\n",
       "  24.97754669189453,\n",
       "  24.764432907104492,\n",
       "  24.708831787109375,\n",
       "  24.479084014892578,\n",
       "  24.63106346130371,\n",
       "  24.718473434448242,\n",
       "  24.25482177734375,\n",
       "  24.52758026123047,\n",
       "  24.134363174438477,\n",
       "  24.32611083984375,\n",
       "  24.205976486206055,\n",
       "  24.27777862548828,\n",
       "  24.03117561340332,\n",
       "  23.72269058227539,\n",
       "  24.256595611572266,\n",
       "  24.281442642211914,\n",
       "  24.164857864379883,\n",
       "  24.187694549560547,\n",
       "  24.047868728637695,\n",
       "  24.119659423828125,\n",
       "  24.117122650146484,\n",
       "  24.06850242614746,\n",
       "  24.298797607421875,\n",
       "  24.29648780822754,\n",
       "  24.392091751098633,\n",
       "  23.894367218017578,\n",
       "  24.121858596801758,\n",
       "  24.0941104888916,\n",
       "  24.08367156982422,\n",
       "  24.2867374420166,\n",
       "  24.21489143371582,\n",
       "  24.254520416259766,\n",
       "  23.815832138061523,\n",
       "  24.280744552612305,\n",
       "  24.522815704345703,\n",
       "  23.934511184692383,\n",
       "  24.33747673034668,\n",
       "  24.244224548339844,\n",
       "  23.803001403808594,\n",
       "  24.260038375854492,\n",
       "  24.455076217651367,\n",
       "  24.135454177856445,\n",
       "  24.257293701171875,\n",
       "  24.264799118041992,\n",
       "  24.049802780151367,\n",
       "  23.869712829589844,\n",
       "  24.053434371948242,\n",
       "  23.865089416503906,\n",
       "  24.0372257232666,\n",
       "  24.21104621887207,\n",
       "  24.248414993286133,\n",
       "  23.970144271850586,\n",
       "  23.79270362854004,\n",
       "  24.57367706298828,\n",
       "  24.14893913269043,\n",
       "  24.347299575805664,\n",
       "  24.215167999267578,\n",
       "  24.615379333496094,\n",
       "  24.093809127807617,\n",
       "  24.144561767578125,\n",
       "  24.073923110961914,\n",
       "  24.442859649658203,\n",
       "  24.114946365356445,\n",
       "  24.191518783569336,\n",
       "  24.291955947875977,\n",
       "  24.10139274597168]}"
      ]
     },
     "execution_count": 46,
     "metadata": {},
     "output_type": "execute_result"
    }
   ],
   "source": [
    "model.history.history \n",
    "#This function will show separately the history of the loss values"
   ]
  },
  {
   "cell_type": "code",
   "execution_count": 47,
   "metadata": {
    "execution": {
     "iopub.execute_input": "2020-12-19T14:34:57.500170Z",
     "iopub.status.busy": "2020-12-19T14:34:57.499475Z",
     "iopub.status.idle": "2020-12-19T14:34:57.504096Z",
     "shell.execute_reply": "2020-12-19T14:34:57.503140Z"
    },
    "papermill": {
     "duration": 0.300395,
     "end_time": "2020-12-19T14:34:57.504265",
     "exception": false,
     "start_time": "2020-12-19T14:34:57.203870",
     "status": "completed"
    },
    "tags": []
   },
   "outputs": [
    {
     "data": {
      "text/html": [
       "<div>\n",
       "<style scoped>\n",
       "    .dataframe tbody tr th:only-of-type {\n",
       "        vertical-align: middle;\n",
       "    }\n",
       "\n",
       "    .dataframe tbody tr th {\n",
       "        vertical-align: top;\n",
       "    }\n",
       "\n",
       "    .dataframe thead th {\n",
       "        text-align: right;\n",
       "    }\n",
       "</style>\n",
       "<table border=\"1\" class=\"dataframe\">\n",
       "  <thead>\n",
       "    <tr style=\"text-align: right;\">\n",
       "      <th></th>\n",
       "      <th>loss</th>\n",
       "    </tr>\n",
       "  </thead>\n",
       "  <tbody>\n",
       "    <tr>\n",
       "      <th>0</th>\n",
       "      <td>254112.921875</td>\n",
       "    </tr>\n",
       "    <tr>\n",
       "      <th>1</th>\n",
       "      <td>254053.687500</td>\n",
       "    </tr>\n",
       "    <tr>\n",
       "      <th>2</th>\n",
       "      <td>253994.625000</td>\n",
       "    </tr>\n",
       "    <tr>\n",
       "      <th>3</th>\n",
       "      <td>253931.015625</td>\n",
       "    </tr>\n",
       "    <tr>\n",
       "      <th>4</th>\n",
       "      <td>253862.125000</td>\n",
       "    </tr>\n",
       "  </tbody>\n",
       "</table>\n",
       "</div>"
      ],
      "text/plain": [
       "            loss\n",
       "0  254112.921875\n",
       "1  254053.687500\n",
       "2  253994.625000\n",
       "3  253931.015625\n",
       "4  253862.125000"
      ]
     },
     "execution_count": 47,
     "metadata": {},
     "output_type": "execute_result"
    }
   ],
   "source": [
    "loss_df=pd.DataFrame(model.history.history)\n",
    "loss_df.head() #we can create a pandas data frame in order to visualize the history of the loss function"
   ]
  },
  {
   "cell_type": "code",
   "execution_count": 48,
   "metadata": {
    "execution": {
     "iopub.execute_input": "2020-12-19T14:34:58.089954Z",
     "iopub.status.busy": "2020-12-19T14:34:58.089230Z",
     "iopub.status.idle": "2020-12-19T14:34:58.409650Z",
     "shell.execute_reply": "2020-12-19T14:34:58.408986Z"
    },
    "papermill": {
     "duration": 0.614594,
     "end_time": "2020-12-19T14:34:58.409784",
     "exception": false,
     "start_time": "2020-12-19T14:34:57.795190",
     "status": "completed"
    },
    "tags": []
   },
   "outputs": [
    {
     "data": {
      "text/plain": [
       "<matplotlib.axes._subplots.AxesSubplot at 0x7fb0dc4796d0>"
      ]
     },
     "execution_count": 48,
     "metadata": {},
     "output_type": "execute_result"
    },
    {
     "data": {
      "image/png": "[encoded data removed]",
      "text/plain": [
       "<Figure size 432x288 with 1 Axes>"
      ]
     },
     "metadata": {},
     "output_type": "display_data"
    }
   ],
   "source": [
    "loss_df.plot()"
   ]
  },
  {
   "cell_type": "markdown",
   "metadata": {
    "papermill": {
     "duration": 0.287157,
     "end_time": "2020-12-19T14:34:58.985023",
     "exception": false,
     "start_time": "2020-12-19T14:34:58.697866",
     "status": "completed"
    },
    "tags": []
   },
   "source": [
    "This plot helps to understand better how the values in the loss function go down"
   ]
  },
  {
   "cell_type": "code",
   "execution_count": 49,
   "metadata": {
    "execution": {
     "iopub.execute_input": "2020-12-19T14:34:59.570747Z",
     "iopub.status.busy": "2020-12-19T14:34:59.570074Z",
     "iopub.status.idle": "2020-12-19T14:35:06.729267Z",
     "shell.execute_reply": "2020-12-19T14:35:06.728624Z"
    },
    "papermill": {
     "duration": 7.455651,
     "end_time": "2020-12-19T14:35:06.729391",
     "exception": false,
     "start_time": "2020-12-19T14:34:59.273740",
     "status": "completed"
    },
    "tags": []
   },
   "outputs": [
    {
     "name": "stdout",
     "output_type": "stream",
     "text": [
      "Epoch 1/250\n",
      "22/22 [==============================] - 0s 950us/step - loss: 252036.9844\n",
      "Epoch 2/250\n",
      "22/22 [==============================] - 0s 1ms/step - loss: 251808.5469\n",
      "Epoch 3/250\n",
      "22/22 [==============================] - 0s 1ms/step - loss: 251587.2031\n",
      "Epoch 4/250\n",
      "22/22 [==============================] - 0s 1ms/step - loss: 251354.2188\n",
      "Epoch 5/250\n",
      "22/22 [==============================] - 0s 945us/step - loss: 251108.5000\n",
      "Epoch 6/250\n",
      "22/22 [==============================] - 0s 1ms/step - loss: 250849.3281\n",
      "Epoch 7/250\n",
      "22/22 [==============================] - 0s 1ms/step - loss: 250576.2344\n",
      "Epoch 8/250\n",
      "22/22 [==============================] - 0s 1ms/step - loss: 250286.8594\n",
      "Epoch 9/250\n",
      "22/22 [==============================] - 0s 1ms/step - loss: 249982.2812\n",
      "Epoch 10/250\n",
      "22/22 [==============================] - 0s 1ms/step - loss: 249659.8906\n",
      "Epoch 11/250\n",
      "22/22 [==============================] - 0s 1ms/step - loss: 249317.8281\n",
      "Epoch 12/250\n",
      "22/22 [==============================] - 0s 944us/step - loss: 248955.4219\n",
      "Epoch 13/250\n",
      "22/22 [==============================] - 0s 1ms/step - loss: 248571.6875\n",
      "Epoch 14/250\n",
      "22/22 [==============================] - 0s 977us/step - loss: 248165.4688\n",
      "Epoch 15/250\n",
      "22/22 [==============================] - 0s 994us/step - loss: 247736.4531\n",
      "Epoch 16/250\n",
      "22/22 [==============================] - 0s 1ms/step - loss: 247285.9844\n",
      "Epoch 17/250\n",
      "22/22 [==============================] - 0s 1ms/step - loss: 246811.5156\n",
      "Epoch 18/250\n",
      "22/22 [==============================] - 0s 955us/step - loss: 246312.5781\n",
      "Epoch 19/250\n",
      "22/22 [==============================] - 0s 963us/step - loss: 245787.7031\n",
      "Epoch 20/250\n",
      "22/22 [==============================] - 0s 997us/step - loss: 245240.2812\n",
      "Epoch 21/250\n",
      "22/22 [==============================] - 0s 974us/step - loss: 244668.1875\n",
      "Epoch 22/250\n",
      "22/22 [==============================] - 0s 1ms/step - loss: 244069.5781\n",
      "Epoch 23/250\n",
      "22/22 [==============================] - 0s 963us/step - loss: 243444.6094\n",
      "Epoch 24/250\n",
      "22/22 [==============================] - 0s 1ms/step - loss: 242795.7031\n",
      "Epoch 25/250\n",
      "22/22 [==============================] - 0s 1ms/step - loss: 242119.0625\n",
      "Epoch 26/250\n",
      "22/22 [==============================] - 0s 947us/step - loss: 241415.4062\n",
      "Epoch 27/250\n",
      "22/22 [==============================] - 0s 945us/step - loss: 240687.8594\n",
      "Epoch 28/250\n",
      "22/22 [==============================] - 0s 1ms/step - loss: 239933.4844\n",
      "Epoch 29/250\n",
      "22/22 [==============================] - 0s 951us/step - loss: 239159.1094\n",
      "Epoch 30/250\n",
      "22/22 [==============================] - 0s 961us/step - loss: 238354.0625\n",
      "Epoch 31/250\n",
      "22/22 [==============================] - 0s 963us/step - loss: 237522.0312\n",
      "Epoch 32/250\n",
      "22/22 [==============================] - 0s 1ms/step - loss: 236667.8594\n",
      "Epoch 33/250\n",
      "22/22 [==============================] - 0s 1ms/step - loss: 235789.5781\n",
      "Epoch 34/250\n",
      "22/22 [==============================] - 0s 1ms/step - loss: 234886.6562\n",
      "Epoch 35/250\n",
      "22/22 [==============================] - 0s 1ms/step - loss: 233965.4375\n",
      "Epoch 36/250\n",
      "22/22 [==============================] - 0s 1ms/step - loss: 233015.0156\n",
      "Epoch 37/250\n",
      "22/22 [==============================] - 0s 982us/step - loss: 232038.7812\n",
      "Epoch 38/250\n",
      "22/22 [==============================] - 0s 1ms/step - loss: 231041.4219\n",
      "Epoch 39/250\n",
      "22/22 [==============================] - 0s 1ms/step - loss: 230024.8281\n",
      "Epoch 40/250\n",
      "22/22 [==============================] - 0s 997us/step - loss: 228986.2812\n",
      "Epoch 41/250\n",
      "22/22 [==============================] - 0s 1ms/step - loss: 227923.8906\n",
      "Epoch 42/250\n",
      "22/22 [==============================] - 0s 1ms/step - loss: 226841.9844\n",
      "Epoch 43/250\n",
      "22/22 [==============================] - 0s 965us/step - loss: 225738.0781\n",
      "Epoch 44/250\n",
      "22/22 [==============================] - 0s 1ms/step - loss: 224609.3438\n",
      "Epoch 45/250\n",
      "22/22 [==============================] - 0s 1ms/step - loss: 223467.7031\n",
      "Epoch 46/250\n",
      "22/22 [==============================] - 0s 970us/step - loss: 222305.6250\n",
      "Epoch 47/250\n",
      "22/22 [==============================] - 0s 1ms/step - loss: 221123.3906\n",
      "Epoch 48/250\n",
      "22/22 [==============================] - 0s 1ms/step - loss: 219924.9531\n",
      "Epoch 49/250\n",
      "22/22 [==============================] - 0s 1ms/step - loss: 218704.9844\n",
      "Epoch 50/250\n",
      "22/22 [==============================] - 0s 1ms/step - loss: 217464.0000\n",
      "Epoch 51/250\n",
      "22/22 [==============================] - 0s 1ms/step - loss: 216208.2031\n",
      "Epoch 52/250\n",
      "22/22 [==============================] - 0s 957us/step - loss: 214940.3125\n",
      "Epoch 53/250\n",
      "22/22 [==============================] - 0s 1ms/step - loss: 213651.8125\n",
      "Epoch 54/250\n",
      "22/22 [==============================] - 0s 1ms/step - loss: 212345.2812\n",
      "Epoch 55/250\n",
      "22/22 [==============================] - 0s 1ms/step - loss: 211024.9375\n",
      "Epoch 56/250\n",
      "22/22 [==============================] - 0s 1ms/step - loss: 209689.1875\n",
      "Epoch 57/250\n",
      "22/22 [==============================] - 0s 2ms/step - loss: 208339.5156\n",
      "Epoch 58/250\n",
      "22/22 [==============================] - 0s 1ms/step - loss: 206978.1562\n",
      "Epoch 59/250\n",
      "22/22 [==============================] - 0s 1ms/step - loss: 205598.1719\n",
      "Epoch 60/250\n",
      "22/22 [==============================] - 0s 951us/step - loss: 204203.1250\n",
      "Epoch 61/250\n",
      "22/22 [==============================] - 0s 1ms/step - loss: 202798.2656\n",
      "Epoch 62/250\n",
      "22/22 [==============================] - 0s 975us/step - loss: 201375.8906\n",
      "Epoch 63/250\n",
      "22/22 [==============================] - 0s 1ms/step - loss: 199943.5938\n",
      "Epoch 64/250\n",
      "22/22 [==============================] - 0s 1ms/step - loss: 198501.8906\n",
      "Epoch 65/250\n",
      "22/22 [==============================] - 0s 1ms/step - loss: 197044.3906\n",
      "Epoch 66/250\n",
      "22/22 [==============================] - 0s 993us/step - loss: 195579.2031\n",
      "Epoch 67/250\n",
      "22/22 [==============================] - 0s 990us/step - loss: 194096.2500\n",
      "Epoch 68/250\n",
      "22/22 [==============================] - 0s 1ms/step - loss: 192603.8125\n",
      "Epoch 69/250\n",
      "22/22 [==============================] - 0s 985us/step - loss: 191103.5156\n",
      "Epoch 70/250\n",
      "22/22 [==============================] - 0s 933us/step - loss: 189586.2812\n",
      "Epoch 71/250\n",
      "22/22 [==============================] - 0s 1ms/step - loss: 188064.5469\n",
      "Epoch 72/250\n",
      "22/22 [==============================] - 0s 1ms/step - loss: 186532.3906\n",
      "Epoch 73/250\n",
      "22/22 [==============================] - 0s 984us/step - loss: 184981.0938\n",
      "Epoch 74/250\n",
      "22/22 [==============================] - 0s 1ms/step - loss: 183434.8750\n",
      "Epoch 75/250\n",
      "22/22 [==============================] - 0s 1ms/step - loss: 181870.7656\n",
      "Epoch 76/250\n",
      "22/22 [==============================] - 0s 1ms/step - loss: 180301.5000\n",
      "Epoch 77/250\n",
      "22/22 [==============================] - 0s 983us/step - loss: 178721.9062\n",
      "Epoch 78/250\n",
      "22/22 [==============================] - 0s 955us/step - loss: 177134.8281\n",
      "Epoch 79/250\n",
      "22/22 [==============================] - 0s 1ms/step - loss: 175538.0156\n",
      "Epoch 80/250\n",
      "22/22 [==============================] - 0s 971us/step - loss: 173932.9219\n",
      "Epoch 81/250\n",
      "22/22 [==============================] - 0s 944us/step - loss: 172326.1562\n",
      "Epoch 82/250\n",
      "22/22 [==============================] - 0s 1ms/step - loss: 170710.8750\n",
      "Epoch 83/250\n",
      "22/22 [==============================] - 0s 1ms/step - loss: 169084.5312\n",
      "Epoch 84/250\n",
      "22/22 [==============================] - 0s 1ms/step - loss: 167451.5781\n",
      "Epoch 85/250\n",
      "22/22 [==============================] - 0s 1ms/step - loss: 165807.9062\n",
      "Epoch 86/250\n",
      "22/22 [==============================] - 0s 1ms/step - loss: 164171.8438\n",
      "Epoch 87/250\n",
      "22/22 [==============================] - 0s 1ms/step - loss: 162526.2656\n",
      "Epoch 88/250\n",
      "22/22 [==============================] - 0s 974us/step - loss: 160864.7500\n",
      "Epoch 89/250\n",
      "22/22 [==============================] - 0s 996us/step - loss: 159205.7188\n",
      "Epoch 90/250\n",
      "22/22 [==============================] - 0s 1ms/step - loss: 157539.6875\n",
      "Epoch 91/250\n",
      "22/22 [==============================] - 0s 971us/step - loss: 155869.0469\n",
      "Epoch 92/250\n",
      "22/22 [==============================] - 0s 1ms/step - loss: 154198.7031\n",
      "Epoch 93/250\n",
      "22/22 [==============================] - 0s 1ms/step - loss: 152518.5781\n",
      "Epoch 94/250\n",
      "22/22 [==============================] - 0s 1ms/step - loss: 150830.6562\n",
      "Epoch 95/250\n",
      "22/22 [==============================] - 0s 1ms/step - loss: 149144.5938\n",
      "Epoch 96/250\n",
      "22/22 [==============================] - 0s 1ms/step - loss: 147457.5156\n",
      "Epoch 97/250\n",
      "22/22 [==============================] - 0s 2ms/step - loss: 145765.5469\n",
      "Epoch 98/250\n",
      "22/22 [==============================] - 0s 2ms/step - loss: 144064.8438\n",
      "Epoch 99/250\n",
      "22/22 [==============================] - 0s 1ms/step - loss: 142362.0000\n",
      "Epoch 100/250\n",
      "22/22 [==============================] - 0s 1ms/step - loss: 140662.2969\n",
      "Epoch 101/250\n",
      "22/22 [==============================] - 0s 1ms/step - loss: 138958.0625\n",
      "Epoch 102/250\n",
      "22/22 [==============================] - 0s 2ms/step - loss: 137257.2500\n",
      "Epoch 103/250\n",
      "22/22 [==============================] - 0s 953us/step - loss: 135550.2500\n",
      "Epoch 104/250\n",
      "22/22 [==============================] - 0s 1ms/step - loss: 133830.2031\n",
      "Epoch 105/250\n",
      "22/22 [==============================] - 0s 1ms/step - loss: 132119.6094\n",
      "Epoch 106/250\n",
      "22/22 [==============================] - 0s 1ms/step - loss: 130409.2344\n",
      "Epoch 107/250\n",
      "22/22 [==============================] - 0s 1ms/step - loss: 128698.2031\n",
      "Epoch 108/250\n",
      "22/22 [==============================] - 0s 1ms/step - loss: 126988.8125\n",
      "Epoch 109/250\n",
      "22/22 [==============================] - 0s 1ms/step - loss: 125277.1641\n",
      "Epoch 110/250\n",
      "22/22 [==============================] - 0s 1ms/step - loss: 123571.5000\n",
      "Epoch 111/250\n",
      "22/22 [==============================] - 0s 1ms/step - loss: 121856.9062\n",
      "Epoch 112/250\n",
      "22/22 [==============================] - 0s 1ms/step - loss: 120136.3203\n",
      "Epoch 113/250\n",
      "22/22 [==============================] - 0s 1ms/step - loss: 118434.6484\n",
      "Epoch 114/250\n",
      "22/22 [==============================] - 0s 973us/step - loss: 116723.6094\n",
      "Epoch 115/250\n",
      "22/22 [==============================] - 0s 1ms/step - loss: 115019.6250\n",
      "Epoch 116/250\n",
      "22/22 [==============================] - 0s 1ms/step - loss: 113304.7969\n",
      "Epoch 117/250\n",
      "22/22 [==============================] - 0s 1ms/step - loss: 111608.2422\n",
      "Epoch 118/250\n",
      "22/22 [==============================] - 0s 1ms/step - loss: 109910.2031\n",
      "Epoch 119/250\n",
      "22/22 [==============================] - 0s 949us/step - loss: 108213.6328\n",
      "Epoch 120/250\n",
      "22/22 [==============================] - 0s 991us/step - loss: 106518.7422\n",
      "Epoch 121/250\n",
      "22/22 [==============================] - 0s 1ms/step - loss: 104825.2422\n",
      "Epoch 122/250\n",
      "22/22 [==============================] - 0s 1ms/step - loss: 103132.1562\n",
      "Epoch 123/250\n",
      "22/22 [==============================] - 0s 1ms/step - loss: 101448.1406\n",
      "Epoch 124/250\n",
      "22/22 [==============================] - 0s 1ms/step - loss: 99779.7344\n",
      "Epoch 125/250\n",
      "22/22 [==============================] - 0s 1ms/step - loss: 98108.5000\n",
      "Epoch 126/250\n",
      "22/22 [==============================] - 0s 1ms/step - loss: 96428.5000\n",
      "Epoch 127/250\n",
      "22/22 [==============================] - 0s 986us/step - loss: 94757.7344\n",
      "Epoch 128/250\n",
      "22/22 [==============================] - 0s 967us/step - loss: 93102.7266\n",
      "Epoch 129/250\n",
      "22/22 [==============================] - 0s 1ms/step - loss: 91451.0391\n",
      "Epoch 130/250\n",
      "22/22 [==============================] - 0s 992us/step - loss: 89796.0625\n",
      "Epoch 131/250\n",
      "22/22 [==============================] - 0s 975us/step - loss: 88150.0625\n",
      "Epoch 132/250\n",
      "22/22 [==============================] - 0s 967us/step - loss: 86528.6562\n",
      "Epoch 133/250\n",
      "22/22 [==============================] - 0s 1ms/step - loss: 84897.5234\n",
      "Epoch 134/250\n",
      "22/22 [==============================] - 0s 940us/step - loss: 83273.6484\n",
      "Epoch 135/250\n",
      "22/22 [==============================] - 0s 923us/step - loss: 81666.7578\n",
      "Epoch 136/250\n",
      "22/22 [==============================] - 0s 1ms/step - loss: 80057.8203\n",
      "Epoch 137/250\n",
      "22/22 [==============================] - 0s 1ms/step - loss: 78452.5859\n",
      "Epoch 138/250\n",
      "22/22 [==============================] - 0s 984us/step - loss: 76866.0078\n",
      "Epoch 139/250\n",
      "22/22 [==============================] - 0s 928us/step - loss: 75285.8828\n",
      "Epoch 140/250\n",
      "22/22 [==============================] - 0s 957us/step - loss: 73712.3750\n",
      "Epoch 141/250\n",
      "22/22 [==============================] - 0s 902us/step - loss: 72155.7969\n",
      "Epoch 142/250\n",
      "22/22 [==============================] - 0s 989us/step - loss: 70605.2891\n",
      "Epoch 143/250\n",
      "22/22 [==============================] - 0s 979us/step - loss: 69062.0781\n",
      "Epoch 144/250\n",
      "22/22 [==============================] - 0s 1ms/step - loss: 67534.8750\n",
      "Epoch 145/250\n",
      "22/22 [==============================] - 0s 963us/step - loss: 66013.3203\n",
      "Epoch 146/250\n",
      "22/22 [==============================] - 0s 1ms/step - loss: 64512.9648\n",
      "Epoch 147/250\n",
      "22/22 [==============================] - 0s 1ms/step - loss: 63017.8672\n",
      "Epoch 148/250\n",
      "22/22 [==============================] - 0s 1ms/step - loss: 61533.9023\n",
      "Epoch 149/250\n",
      "22/22 [==============================] - 0s 1ms/step - loss: 60060.4609\n",
      "Epoch 150/250\n",
      "22/22 [==============================] - 0s 990us/step - loss: 58603.6211\n",
      "Epoch 151/250\n",
      "22/22 [==============================] - 0s 1ms/step - loss: 57164.0234\n",
      "Epoch 152/250\n",
      "22/22 [==============================] - 0s 969us/step - loss: 55732.8398\n",
      "Epoch 153/250\n",
      "22/22 [==============================] - 0s 1ms/step - loss: 54310.9023\n",
      "Epoch 154/250\n",
      "22/22 [==============================] - 0s 1ms/step - loss: 52903.3125\n",
      "Epoch 155/250\n",
      "22/22 [==============================] - 0s 1ms/step - loss: 51518.6797\n",
      "Epoch 156/250\n",
      "22/22 [==============================] - 0s 1ms/step - loss: 50137.9883\n",
      "Epoch 157/250\n",
      "22/22 [==============================] - 0s 974us/step - loss: 48778.8516\n",
      "Epoch 158/250\n",
      "22/22 [==============================] - 0s 974us/step - loss: 47429.1758\n",
      "Epoch 159/250\n",
      "22/22 [==============================] - 0s 974us/step - loss: 46110.1289\n",
      "Epoch 160/250\n",
      "22/22 [==============================] - 0s 959us/step - loss: 44803.2305\n",
      "Epoch 161/250\n",
      "22/22 [==============================] - 0s 987us/step - loss: 43507.4727\n",
      "Epoch 162/250\n",
      "22/22 [==============================] - 0s 1ms/step - loss: 42230.1953\n",
      "Epoch 163/250\n",
      "22/22 [==============================] - 0s 1ms/step - loss: 40970.1484\n",
      "Epoch 164/250\n",
      "22/22 [==============================] - 0s 1ms/step - loss: 39738.6562\n",
      "Epoch 165/250\n",
      "22/22 [==============================] - 0s 956us/step - loss: 38521.8203\n",
      "Epoch 166/250\n",
      "22/22 [==============================] - 0s 1ms/step - loss: 37318.2227\n",
      "Epoch 167/250\n",
      "22/22 [==============================] - 0s 980us/step - loss: 36132.2773\n",
      "Epoch 168/250\n",
      "22/22 [==============================] - 0s 924us/step - loss: 34965.8125\n",
      "Epoch 169/250\n",
      "22/22 [==============================] - 0s 945us/step - loss: 33818.6367\n",
      "Epoch 170/250\n",
      "22/22 [==============================] - 0s 1ms/step - loss: 32699.0996\n",
      "Epoch 171/250\n",
      "22/22 [==============================] - 0s 1ms/step - loss: 31605.1797\n",
      "Epoch 172/250\n",
      "22/22 [==============================] - 0s 1ms/step - loss: 30517.6855\n",
      "Epoch 173/250\n",
      "22/22 [==============================] - 0s 1ms/step - loss: 29454.5293\n",
      "Epoch 174/250\n",
      "22/22 [==============================] - 0s 942us/step - loss: 28420.4980\n",
      "Epoch 175/250\n",
      "22/22 [==============================] - 0s 1ms/step - loss: 27414.4570\n",
      "Epoch 176/250\n",
      "22/22 [==============================] - 0s 923us/step - loss: 26422.7520\n",
      "Epoch 177/250\n",
      "22/22 [==============================] - 0s 1ms/step - loss: 25443.6777\n",
      "Epoch 178/250\n",
      "22/22 [==============================] - 0s 1ms/step - loss: 24502.2266\n",
      "Epoch 179/250\n",
      "22/22 [==============================] - 0s 991us/step - loss: 23577.3750\n",
      "Epoch 180/250\n",
      "22/22 [==============================] - 0s 991us/step - loss: 22687.4961\n",
      "Epoch 181/250\n",
      "22/22 [==============================] - 0s 1ms/step - loss: 21811.7852\n",
      "Epoch 182/250\n",
      "22/22 [==============================] - 0s 994us/step - loss: 20963.8125\n",
      "Epoch 183/250\n",
      "22/22 [==============================] - 0s 972us/step - loss: 20150.3379\n",
      "Epoch 184/250\n",
      "22/22 [==============================] - 0s 942us/step - loss: 19345.6445\n",
      "Epoch 185/250\n",
      "22/22 [==============================] - 0s 1ms/step - loss: 18571.2559\n",
      "Epoch 186/250\n",
      "22/22 [==============================] - 0s 1ms/step - loss: 17835.7500\n",
      "Epoch 187/250\n",
      "22/22 [==============================] - 0s 939us/step - loss: 17131.0195\n",
      "Epoch 188/250\n",
      "22/22 [==============================] - 0s 1ms/step - loss: 16430.6309\n",
      "Epoch 189/250\n",
      "22/22 [==============================] - 0s 1ms/step - loss: 15780.2344\n",
      "Epoch 190/250\n",
      "22/22 [==============================] - 0s 996us/step - loss: 15153.3027\n",
      "Epoch 191/250\n",
      "22/22 [==============================] - 0s 1ms/step - loss: 14547.5840\n",
      "Epoch 192/250\n",
      "22/22 [==============================] - 0s 969us/step - loss: 13971.0869\n",
      "Epoch 193/250\n",
      "22/22 [==============================] - 0s 961us/step - loss: 13442.9189\n",
      "Epoch 194/250\n",
      "22/22 [==============================] - 0s 1ms/step - loss: 12927.1426\n",
      "Epoch 195/250\n",
      "22/22 [==============================] - 0s 1ms/step - loss: 12455.2168\n",
      "Epoch 196/250\n",
      "22/22 [==============================] - 0s 948us/step - loss: 12013.6084\n",
      "Epoch 197/250\n",
      "22/22 [==============================] - 0s 945us/step - loss: 11587.8369\n",
      "Epoch 198/250\n",
      "22/22 [==============================] - 0s 991us/step - loss: 11194.1504\n",
      "Epoch 199/250\n",
      "22/22 [==============================] - 0s 983us/step - loss: 10842.6348\n",
      "Epoch 200/250\n",
      "22/22 [==============================] - 0s 1ms/step - loss: 10518.4814\n",
      "Epoch 201/250\n",
      "22/22 [==============================] - 0s 1000us/step - loss: 10229.7744\n",
      "Epoch 202/250\n",
      "22/22 [==============================] - 0s 1ms/step - loss: 9972.8809\n",
      "Epoch 203/250\n",
      "22/22 [==============================] - 0s 1ms/step - loss: 9747.2646\n",
      "Epoch 204/250\n",
      "22/22 [==============================] - 0s 950us/step - loss: 9539.7061\n",
      "Epoch 205/250\n",
      "22/22 [==============================] - 0s 1ms/step - loss: 9369.1133\n",
      "Epoch 206/250\n",
      "22/22 [==============================] - 0s 1ms/step - loss: 9224.1240\n",
      "Epoch 207/250\n",
      "22/22 [==============================] - 0s 1ms/step - loss: 9114.9766\n",
      "Epoch 208/250\n",
      "22/22 [==============================] - 0s 1ms/step - loss: 9025.4424\n",
      "Epoch 209/250\n",
      "22/22 [==============================] - 0s 1ms/step - loss: 8965.8311\n",
      "Epoch 210/250\n",
      "22/22 [==============================] - 0s 1ms/step - loss: 8920.4346\n",
      "Epoch 211/250\n",
      "22/22 [==============================] - 0s 1ms/step - loss: 8887.7822\n",
      "Epoch 212/250\n",
      "22/22 [==============================] - 0s 966us/step - loss: 8866.4033\n",
      "Epoch 213/250\n",
      "22/22 [==============================] - 0s 1ms/step - loss: 8851.8320\n",
      "Epoch 214/250\n",
      "22/22 [==============================] - 0s 1ms/step - loss: 8840.9512\n",
      "Epoch 215/250\n",
      "22/22 [==============================] - 0s 993us/step - loss: 8832.7061\n",
      "Epoch 216/250\n",
      "22/22 [==============================] - 0s 997us/step - loss: 8830.3115\n",
      "Epoch 217/250\n",
      "22/22 [==============================] - 0s 974us/step - loss: 8824.8213\n",
      "Epoch 218/250\n",
      "22/22 [==============================] - 0s 967us/step - loss: 8821.0918\n",
      "Epoch 219/250\n",
      "22/22 [==============================] - 0s 1ms/step - loss: 8818.0225\n",
      "Epoch 220/250\n",
      "22/22 [==============================] - 0s 1ms/step - loss: 8815.1475\n",
      "Epoch 221/250\n",
      "22/22 [==============================] - 0s 938us/step - loss: 8814.1133\n",
      "Epoch 222/250\n",
      "22/22 [==============================] - 0s 989us/step - loss: 8811.4756\n",
      "Epoch 223/250\n",
      "22/22 [==============================] - 0s 975us/step - loss: 8806.9375\n",
      "Epoch 224/250\n",
      "22/22 [==============================] - 0s 1ms/step - loss: 8806.0195\n",
      "Epoch 225/250\n",
      "22/22 [==============================] - 0s 1ms/step - loss: 8801.7363\n",
      "Epoch 226/250\n",
      "22/22 [==============================] - 0s 989us/step - loss: 8799.5645\n",
      "Epoch 227/250\n",
      "22/22 [==============================] - 0s 1ms/step - loss: 8797.4531\n",
      "Epoch 228/250\n",
      "22/22 [==============================] - 0s 1ms/step - loss: 8793.9004\n",
      "Epoch 229/250\n",
      "22/22 [==============================] - 0s 1ms/step - loss: 8790.8232\n",
      "Epoch 230/250\n",
      "22/22 [==============================] - 0s 1ms/step - loss: 8787.8340\n",
      "Epoch 231/250\n",
      "22/22 [==============================] - 0s 907us/step - loss: 8786.4277\n",
      "Epoch 232/250\n",
      "22/22 [==============================] - 0s 1ms/step - loss: 8780.8516\n",
      "Epoch 233/250\n",
      "22/22 [==============================] - 0s 1ms/step - loss: 8779.9482\n",
      "Epoch 234/250\n",
      "22/22 [==============================] - 0s 995us/step - loss: 8775.9580\n",
      "Epoch 235/250\n",
      "22/22 [==============================] - 0s 1ms/step - loss: 8771.5781\n",
      "Epoch 236/250\n",
      "22/22 [==============================] - 0s 1ms/step - loss: 8767.7783\n",
      "Epoch 237/250\n",
      "22/22 [==============================] - 0s 1ms/step - loss: 8765.3896\n",
      "Epoch 238/250\n",
      "22/22 [==============================] - 0s 1ms/step - loss: 8760.4268\n",
      "Epoch 239/250\n",
      "22/22 [==============================] - 0s 1ms/step - loss: 8757.6504\n",
      "Epoch 240/250\n",
      "22/22 [==============================] - 0s 1ms/step - loss: 8753.1240\n",
      "Epoch 241/250\n",
      "22/22 [==============================] - 0s 1ms/step - loss: 8748.5078\n",
      "Epoch 242/250\n",
      "22/22 [==============================] - 0s 1ms/step - loss: 8745.2725\n",
      "Epoch 243/250\n",
      "22/22 [==============================] - 0s 1000us/step - loss: 8740.0352\n",
      "Epoch 244/250\n",
      "22/22 [==============================] - 0s 999us/step - loss: 8735.7334\n",
      "Epoch 245/250\n",
      "22/22 [==============================] - 0s 1ms/step - loss: 8731.5625\n",
      "Epoch 246/250\n",
      "22/22 [==============================] - 0s 1ms/step - loss: 8725.5303\n",
      "Epoch 247/250\n",
      "22/22 [==============================] - 0s 1ms/step - loss: 8722.1357\n",
      "Epoch 248/250\n",
      "22/22 [==============================] - 0s 1ms/step - loss: 8715.6123\n",
      "Epoch 249/250\n",
      "22/22 [==============================] - 0s 1ms/step - loss: 8711.1660\n",
      "Epoch 250/250\n",
      "22/22 [==============================] - 0s 902us/step - loss: 8706.0068\n"
     ]
    },
    {
     "data": {
      "text/plain": [
       "<tensorflow.python.keras.callbacks.History at 0x7fb0d44ff750>"
      ]
     },
     "execution_count": 49,
     "metadata": {},
     "output_type": "execute_result"
    }
   ],
   "source": [
    "model2.fit(x=X_deep_train, y=y_deep_train, epochs=250)"
   ]
  },
  {
   "cell_type": "code",
   "execution_count": 50,
   "metadata": {
    "execution": {
     "iopub.execute_input": "2020-12-19T14:35:07.720460Z",
     "iopub.status.busy": "2020-12-19T14:35:07.719463Z",
     "iopub.status.idle": "2020-12-19T14:35:07.724625Z",
     "shell.execute_reply": "2020-12-19T14:35:07.724095Z"
    },
    "papermill": {
     "duration": 0.533452,
     "end_time": "2020-12-19T14:35:07.724766",
     "exception": false,
     "start_time": "2020-12-19T14:35:07.191314",
     "status": "completed"
    },
    "tags": []
   },
   "outputs": [
    {
     "data": {
      "text/plain": [
       "{'loss': [252036.984375,\n",
       "  251808.546875,\n",
       "  251587.203125,\n",
       "  251354.21875,\n",
       "  251108.5,\n",
       "  250849.328125,\n",
       "  250576.234375,\n",
       "  250286.859375,\n",
       "  249982.28125,\n",
       "  249659.890625,\n",
       "  249317.828125,\n",
       "  248955.421875,\n",
       "  248571.6875,\n",
       "  248165.46875,\n",
       "  247736.453125,\n",
       "  247285.984375,\n",
       "  246811.515625,\n",
       "  246312.578125,\n",
       "  245787.703125,\n",
       "  245240.28125,\n",
       "  244668.1875,\n",
       "  244069.578125,\n",
       "  243444.609375,\n",
       "  242795.703125,\n",
       "  242119.0625,\n",
       "  241415.40625,\n",
       "  240687.859375,\n",
       "  239933.484375,\n",
       "  239159.109375,\n",
       "  238354.0625,\n",
       "  237522.03125,\n",
       "  236667.859375,\n",
       "  235789.578125,\n",
       "  234886.65625,\n",
       "  233965.4375,\n",
       "  233015.015625,\n",
       "  232038.78125,\n",
       "  231041.421875,\n",
       "  230024.828125,\n",
       "  228986.28125,\n",
       "  227923.890625,\n",
       "  226841.984375,\n",
       "  225738.078125,\n",
       "  224609.34375,\n",
       "  223467.703125,\n",
       "  222305.625,\n",
       "  221123.390625,\n",
       "  219924.953125,\n",
       "  218704.984375,\n",
       "  217464.0,\n",
       "  216208.203125,\n",
       "  214940.3125,\n",
       "  213651.8125,\n",
       "  212345.28125,\n",
       "  211024.9375,\n",
       "  209689.1875,\n",
       "  208339.515625,\n",
       "  206978.15625,\n",
       "  205598.171875,\n",
       "  204203.125,\n",
       "  202798.265625,\n",
       "  201375.890625,\n",
       "  199943.59375,\n",
       "  198501.890625,\n",
       "  197044.390625,\n",
       "  195579.203125,\n",
       "  194096.25,\n",
       "  192603.8125,\n",
       "  191103.515625,\n",
       "  189586.28125,\n",
       "  188064.546875,\n",
       "  186532.390625,\n",
       "  184981.09375,\n",
       "  183434.875,\n",
       "  181870.765625,\n",
       "  180301.5,\n",
       "  178721.90625,\n",
       "  177134.828125,\n",
       "  175538.015625,\n",
       "  173932.921875,\n",
       "  172326.15625,\n",
       "  170710.875,\n",
       "  169084.53125,\n",
       "  167451.578125,\n",
       "  165807.90625,\n",
       "  164171.84375,\n",
       "  162526.265625,\n",
       "  160864.75,\n",
       "  159205.71875,\n",
       "  157539.6875,\n",
       "  155869.046875,\n",
       "  154198.703125,\n",
       "  152518.578125,\n",
       "  150830.65625,\n",
       "  149144.59375,\n",
       "  147457.515625,\n",
       "  145765.546875,\n",
       "  144064.84375,\n",
       "  142362.0,\n",
       "  140662.296875,\n",
       "  138958.0625,\n",
       "  137257.25,\n",
       "  135550.25,\n",
       "  133830.203125,\n",
       "  132119.609375,\n",
       "  130409.234375,\n",
       "  128698.203125,\n",
       "  126988.8125,\n",
       "  125277.1640625,\n",
       "  123571.5,\n",
       "  121856.90625,\n",
       "  120136.3203125,\n",
       "  118434.6484375,\n",
       "  116723.609375,\n",
       "  115019.625,\n",
       "  113304.796875,\n",
       "  111608.2421875,\n",
       "  109910.203125,\n",
       "  108213.6328125,\n",
       "  106518.7421875,\n",
       "  104825.2421875,\n",
       "  103132.15625,\n",
       "  101448.140625,\n",
       "  99779.734375,\n",
       "  98108.5,\n",
       "  96428.5,\n",
       "  94757.734375,\n",
       "  93102.7265625,\n",
       "  91451.0390625,\n",
       "  89796.0625,\n",
       "  88150.0625,\n",
       "  86528.65625,\n",
       "  84897.5234375,\n",
       "  83273.6484375,\n",
       "  81666.7578125,\n",
       "  80057.8203125,\n",
       "  78452.5859375,\n",
       "  76866.0078125,\n",
       "  75285.8828125,\n",
       "  73712.375,\n",
       "  72155.796875,\n",
       "  70605.2890625,\n",
       "  69062.078125,\n",
       "  67534.875,\n",
       "  66013.3203125,\n",
       "  64512.96484375,\n",
       "  63017.8671875,\n",
       "  61533.90234375,\n",
       "  60060.4609375,\n",
       "  58603.62109375,\n",
       "  57164.0234375,\n",
       "  55732.83984375,\n",
       "  54310.90234375,\n",
       "  52903.3125,\n",
       "  51518.6796875,\n",
       "  50137.98828125,\n",
       "  48778.8515625,\n",
       "  47429.17578125,\n",
       "  46110.12890625,\n",
       "  44803.23046875,\n",
       "  43507.47265625,\n",
       "  42230.1953125,\n",
       "  40970.1484375,\n",
       "  39738.65625,\n",
       "  38521.8203125,\n",
       "  37318.22265625,\n",
       "  36132.27734375,\n",
       "  34965.8125,\n",
       "  33818.63671875,\n",
       "  32699.099609375,\n",
       "  31605.1796875,\n",
       "  30517.685546875,\n",
       "  29454.529296875,\n",
       "  28420.498046875,\n",
       "  27414.45703125,\n",
       "  26422.751953125,\n",
       "  25443.677734375,\n",
       "  24502.2265625,\n",
       "  23577.375,\n",
       "  22687.49609375,\n",
       "  21811.78515625,\n",
       "  20963.8125,\n",
       "  20150.337890625,\n",
       "  19345.64453125,\n",
       "  18571.255859375,\n",
       "  17835.75,\n",
       "  17131.01953125,\n",
       "  16430.630859375,\n",
       "  15780.234375,\n",
       "  15153.302734375,\n",
       "  14547.583984375,\n",
       "  13971.0869140625,\n",
       "  13442.9189453125,\n",
       "  12927.142578125,\n",
       "  12455.216796875,\n",
       "  12013.6083984375,\n",
       "  11587.8369140625,\n",
       "  11194.150390625,\n",
       "  10842.634765625,\n",
       "  10518.4814453125,\n",
       "  10229.7744140625,\n",
       "  9972.880859375,\n",
       "  9747.2646484375,\n",
       "  9539.7060546875,\n",
       "  9369.11328125,\n",
       "  9224.1240234375,\n",
       "  9114.9765625,\n",
       "  9025.4423828125,\n",
       "  8965.8310546875,\n",
       "  8920.4345703125,\n",
       "  8887.7822265625,\n",
       "  8866.4033203125,\n",
       "  8851.83203125,\n",
       "  8840.951171875,\n",
       "  8832.7060546875,\n",
       "  8830.3115234375,\n",
       "  8824.8212890625,\n",
       "  8821.091796875,\n",
       "  8818.0224609375,\n",
       "  8815.1474609375,\n",
       "  8814.11328125,\n",
       "  8811.4755859375,\n",
       "  8806.9375,\n",
       "  8806.01953125,\n",
       "  8801.736328125,\n",
       "  8799.564453125,\n",
       "  8797.453125,\n",
       "  8793.900390625,\n",
       "  8790.8232421875,\n",
       "  8787.833984375,\n",
       "  8786.427734375,\n",
       "  8780.8515625,\n",
       "  8779.9482421875,\n",
       "  8775.9580078125,\n",
       "  8771.578125,\n",
       "  8767.7783203125,\n",
       "  8765.3896484375,\n",
       "  8760.4267578125,\n",
       "  8757.650390625,\n",
       "  8753.1240234375,\n",
       "  8748.5078125,\n",
       "  8745.2724609375,\n",
       "  8740.03515625,\n",
       "  8735.7333984375,\n",
       "  8731.5625,\n",
       "  8725.5302734375,\n",
       "  8722.1357421875,\n",
       "  8715.6123046875,\n",
       "  8711.166015625,\n",
       "  8706.0068359375]}"
      ]
     },
     "execution_count": 50,
     "metadata": {},
     "output_type": "execute_result"
    }
   ],
   "source": [
    "model2.history.history"
   ]
  },
  {
   "cell_type": "code",
   "execution_count": 51,
   "metadata": {
    "execution": {
     "iopub.execute_input": "2020-12-19T14:35:08.667363Z",
     "iopub.status.busy": "2020-12-19T14:35:08.666547Z",
     "iopub.status.idle": "2020-12-19T14:35:08.676578Z",
     "shell.execute_reply": "2020-12-19T14:35:08.675915Z"
    },
    "papermill": {
     "duration": 0.485907,
     "end_time": "2020-12-19T14:35:08.676701",
     "exception": false,
     "start_time": "2020-12-19T14:35:08.190794",
     "status": "completed"
    },
    "tags": []
   },
   "outputs": [
    {
     "data": {
      "text/html": [
       "<div>\n",
       "<style scoped>\n",
       "    .dataframe tbody tr th:only-of-type {\n",
       "        vertical-align: middle;\n",
       "    }\n",
       "\n",
       "    .dataframe tbody tr th {\n",
       "        vertical-align: top;\n",
       "    }\n",
       "\n",
       "    .dataframe thead th {\n",
       "        text-align: right;\n",
       "    }\n",
       "</style>\n",
       "<table border=\"1\" class=\"dataframe\">\n",
       "  <thead>\n",
       "    <tr style=\"text-align: right;\">\n",
       "      <th></th>\n",
       "      <th>loss</th>\n",
       "    </tr>\n",
       "  </thead>\n",
       "  <tbody>\n",
       "    <tr>\n",
       "      <th>0</th>\n",
       "      <td>252036.984375</td>\n",
       "    </tr>\n",
       "    <tr>\n",
       "      <th>1</th>\n",
       "      <td>251808.546875</td>\n",
       "    </tr>\n",
       "    <tr>\n",
       "      <th>2</th>\n",
       "      <td>251587.203125</td>\n",
       "    </tr>\n",
       "    <tr>\n",
       "      <th>3</th>\n",
       "      <td>251354.218750</td>\n",
       "    </tr>\n",
       "    <tr>\n",
       "      <th>4</th>\n",
       "      <td>251108.500000</td>\n",
       "    </tr>\n",
       "  </tbody>\n",
       "</table>\n",
       "</div>"
      ],
      "text/plain": [
       "            loss\n",
       "0  252036.984375\n",
       "1  251808.546875\n",
       "2  251587.203125\n",
       "3  251354.218750\n",
       "4  251108.500000"
      ]
     },
     "execution_count": 51,
     "metadata": {},
     "output_type": "execute_result"
    }
   ],
   "source": [
    "loss_df2=pd.DataFrame(model2.history.history)\n",
    "loss_df2.head()"
   ]
  },
  {
   "cell_type": "code",
   "execution_count": 52,
   "metadata": {
    "execution": {
     "iopub.execute_input": "2020-12-19T14:35:09.610032Z",
     "iopub.status.busy": "2020-12-19T14:35:09.609290Z",
     "iopub.status.idle": "2020-12-19T14:35:10.098070Z",
     "shell.execute_reply": "2020-12-19T14:35:10.098587Z"
    },
    "papermill": {
     "duration": 0.960157,
     "end_time": "2020-12-19T14:35:10.098742",
     "exception": false,
     "start_time": "2020-12-19T14:35:09.138585",
     "status": "completed"
    },
    "tags": []
   },
   "outputs": [
    {
     "data": {
      "text/plain": [
       "<matplotlib.axes._subplots.AxesSubplot at 0x7fb0dc572c50>"
      ]
     },
     "execution_count": 52,
     "metadata": {},
     "output_type": "execute_result"
    },
    {
     "data": {
      "image/png": "[encoded data removed]",
      "text/plain": [
       "<Figure size 432x288 with 1 Axes>"
      ]
     },
     "metadata": {},
     "output_type": "display_data"
    }
   ],
   "source": [
    "loss_df2.plot()"
   ]
  },
  {
   "cell_type": "markdown",
   "metadata": {
    "papermill": {
     "duration": 0.467019,
     "end_time": "2020-12-19T14:35:11.029693",
     "exception": false,
     "start_time": "2020-12-19T14:35:10.562674",
     "status": "completed"
    },
    "tags": []
   },
   "source": [
    "# 4. Evaluation of Our Model:"
   ]
  },
  {
   "cell_type": "markdown",
   "metadata": {
    "papermill": {
     "duration": 0.46721,
     "end_time": "2020-12-19T14:35:11.963765",
     "exception": false,
     "start_time": "2020-12-19T14:35:11.496555",
     "status": "completed"
    },
    "tags": []
   },
   "source": [
    "evaluate(x=None, y=None, batch_size=None, verbose=1, sample_weight=None, steps=None, callbacks=None, max_queue_size=10, workers=1, use_multiprocessing=False, return_dict=False) method of tensorflow.python.keras.engine.sequential.Sequential instance\n",
    "    Returns the loss value & metrics values for the model in test mode."
   ]
  },
  {
   "cell_type": "code",
   "execution_count": 53,
   "metadata": {
    "execution": {
     "iopub.execute_input": "2020-12-19T14:35:12.926868Z",
     "iopub.status.busy": "2020-12-19T14:35:12.926120Z",
     "iopub.status.idle": "2020-12-19T14:35:13.096677Z",
     "shell.execute_reply": "2020-12-19T14:35:13.095973Z"
    },
    "papermill": {
     "duration": 0.665963,
     "end_time": "2020-12-19T14:35:13.096844",
     "exception": false,
     "start_time": "2020-12-19T14:35:12.430881",
     "status": "completed"
    },
    "tags": []
   },
   "outputs": [
    {
     "name": "stdout",
     "output_type": "stream",
     "text": [
      "22/22 [==============================] - 0s 821us/step - loss: 23.8700\n"
     ]
    },
    {
     "data": {
      "text/plain": [
       "23.869997024536133"
      ]
     },
     "execution_count": 53,
     "metadata": {},
     "output_type": "execute_result"
    }
   ],
   "source": [
    "model.evaluate(X_deep_train, y_deep_train)"
   ]
  },
  {
   "cell_type": "code",
   "execution_count": 54,
   "metadata": {
    "execution": {
     "iopub.execute_input": "2020-12-19T14:35:14.038111Z",
     "iopub.status.busy": "2020-12-19T14:35:14.037353Z",
     "iopub.status.idle": "2020-12-19T14:35:14.093963Z",
     "shell.execute_reply": "2020-12-19T14:35:14.092974Z"
    },
    "papermill": {
     "duration": 0.529854,
     "end_time": "2020-12-19T14:35:14.094090",
     "exception": false,
     "start_time": "2020-12-19T14:35:13.564236",
     "status": "completed"
    },
    "tags": []
   },
   "outputs": [
    {
     "name": "stdout",
     "output_type": "stream",
     "text": [
      "10/10 [==============================] - 0s 906us/step - loss: 25.9694\n"
     ]
    },
    {
     "data": {
      "text/plain": [
       "25.9693660736084"
      ]
     },
     "execution_count": 54,
     "metadata": {},
     "output_type": "execute_result"
    }
   ],
   "source": [
    "model.evaluate(X_deep_test, y_deep_test)"
   ]
  },
  {
   "cell_type": "markdown",
   "metadata": {
    "papermill": {
     "duration": 0.465755,
     "end_time": "2020-12-19T14:35:15.025230",
     "exception": false,
     "start_time": "2020-12-19T14:35:14.559475",
     "status": "completed"
    },
    "tags": []
   },
   "source": [
    "This means that our model have mean squared error as 26.748348236083984"
   ]
  },
  {
   "cell_type": "code",
   "execution_count": 55,
   "metadata": {
    "execution": {
     "iopub.execute_input": "2020-12-19T14:35:15.973834Z",
     "iopub.status.busy": "2020-12-19T14:35:15.973074Z",
     "iopub.status.idle": "2020-12-19T14:35:16.107283Z",
     "shell.execute_reply": "2020-12-19T14:35:16.106693Z"
    },
    "papermill": {
     "duration": 0.607548,
     "end_time": "2020-12-19T14:35:16.107399",
     "exception": false,
     "start_time": "2020-12-19T14:35:15.499851",
     "status": "completed"
    },
    "tags": []
   },
   "outputs": [
    {
     "name": "stdout",
     "output_type": "stream",
     "text": [
      "22/22 [==============================] - 0s 855us/step - loss: 8699.6367\n"
     ]
    },
    {
     "data": {
      "text/plain": [
       "8699.63671875"
      ]
     },
     "execution_count": 55,
     "metadata": {},
     "output_type": "execute_result"
    }
   ],
   "source": [
    "model2.evaluate(X_deep_train, y_deep_train)"
   ]
  },
  {
   "cell_type": "code",
   "execution_count": 56,
   "metadata": {
    "execution": {
     "iopub.execute_input": "2020-12-19T14:35:17.065354Z",
     "iopub.status.busy": "2020-12-19T14:35:17.062868Z",
     "iopub.status.idle": "2020-12-19T14:35:17.123327Z",
     "shell.execute_reply": "2020-12-19T14:35:17.122712Z"
    },
    "papermill": {
     "duration": 0.540399,
     "end_time": "2020-12-19T14:35:17.123445",
     "exception": false,
     "start_time": "2020-12-19T14:35:16.583046",
     "status": "completed"
    },
    "tags": []
   },
   "outputs": [
    {
     "name": "stdout",
     "output_type": "stream",
     "text": [
      "10/10 [==============================] - 0s 887us/step - loss: 8422.8896\n"
     ]
    },
    {
     "data": {
      "text/plain": [
       "8422.8896484375"
      ]
     },
     "execution_count": 56,
     "metadata": {},
     "output_type": "execute_result"
    }
   ],
   "source": [
    "model2.evaluate(X_deep_test, y_deep_test)"
   ]
  },
  {
   "cell_type": "markdown",
   "metadata": {
    "papermill": {
     "duration": 0.473999,
     "end_time": "2020-12-19T14:35:18.073376",
     "exception": false,
     "start_time": "2020-12-19T14:35:17.599377",
     "status": "completed"
    },
    "tags": []
   },
   "source": [
    "Now we will predict the y_test and compare them with the real values"
   ]
  },
  {
   "cell_type": "code",
   "execution_count": 57,
   "metadata": {
    "execution": {
     "iopub.execute_input": "2020-12-19T14:35:19.017255Z",
     "iopub.status.busy": "2020-12-19T14:35:19.016166Z",
     "iopub.status.idle": "2020-12-19T14:35:19.169936Z",
     "shell.execute_reply": "2020-12-19T14:35:19.169281Z"
    },
    "papermill": {
     "duration": 0.628522,
     "end_time": "2020-12-19T14:35:19.170065",
     "exception": false,
     "start_time": "2020-12-19T14:35:18.541543",
     "status": "completed"
    },
    "tags": []
   },
   "outputs": [
    {
     "data": {
      "text/plain": [
       "array([[562.8618 ],\n",
       "       [480.0755 ],\n",
       "       [395.84042],\n",
       "       [356.79276],\n",
       "       [610.5214 ],\n",
       "       [624.7703 ],\n",
       "       [405.37778],\n",
       "       [546.6192 ],\n",
       "       [577.10614],\n",
       "       [452.01025],\n",
       "       [423.1718 ],\n",
       "       [437.47205],\n",
       "       [502.59137],\n",
       "       [566.091  ],\n",
       "       [471.70618],\n",
       "       [647.81464],\n",
       "       [549.4591 ],\n",
       "       [471.31027],\n",
       "       [634.5357 ],\n",
       "       [645.2316 ],\n",
       "       [555.59827],\n",
       "       [589.0778 ],\n",
       "       [401.92   ],\n",
       "       [681.16125],\n",
       "       [444.29205],\n",
       "       [528.53864],\n",
       "       [349.7066 ],\n",
       "       [629.81866],\n",
       "       [438.7387 ],\n",
       "       [481.02237],\n",
       "       [502.3639 ],\n",
       "       [512.1663 ],\n",
       "       [517.0192 ],\n",
       "       [524.85345],\n",
       "       [387.9076 ],\n",
       "       [677.0422 ],\n",
       "       [459.7814 ],\n",
       "       [551.58984],\n",
       "       [424.9416 ],\n",
       "       [431.84   ],\n",
       "       [445.6091 ],\n",
       "       [475.34512],\n",
       "       [343.13724],\n",
       "       [439.1688 ],\n",
       "       [534.91455],\n",
       "       [597.77075],\n",
       "       [640.9687 ],\n",
       "       [584.81665],\n",
       "       [598.5627 ],\n",
       "       [604.6746 ],\n",
       "       [486.04022],\n",
       "       [488.97382],\n",
       "       [491.65997],\n",
       "       [459.40735],\n",
       "       [501.63956],\n",
       "       [532.67865],\n",
       "       [422.7049 ],\n",
       "       [564.7232 ],\n",
       "       [581.96783],\n",
       "       [390.76224],\n",
       "       [539.75146],\n",
       "       [605.94073],\n",
       "       [562.37573],\n",
       "       [523.687  ],\n",
       "       [659.2208 ],\n",
       "       [413.8139 ],\n",
       "       [463.19412],\n",
       "       [457.53943],\n",
       "       [604.43964],\n",
       "       [572.9788 ],\n",
       "       [548.5928 ],\n",
       "       [415.99564],\n",
       "       [508.12695],\n",
       "       [548.0784 ],\n",
       "       [368.848  ],\n",
       "       [604.9898 ],\n",
       "       [469.46643],\n",
       "       [529.8417 ],\n",
       "       [357.0967 ],\n",
       "       [510.17606],\n",
       "       [431.1181 ],\n",
       "       [346.49548],\n",
       "       [553.77313],\n",
       "       [645.37195],\n",
       "       [626.68   ],\n",
       "       [643.45654],\n",
       "       [524.7703 ],\n",
       "       [486.13425],\n",
       "       [550.4192 ],\n",
       "       [403.0641 ],\n",
       "       [408.45688],\n",
       "       [522.27844],\n",
       "       [419.21548],\n",
       "       [450.0048 ],\n",
       "       [420.58826],\n",
       "       [585.57385],\n",
       "       [503.67554],\n",
       "       [606.6683 ],\n",
       "       [381.94263],\n",
       "       [512.74115],\n",
       "       [615.89935],\n",
       "       [435.96097],\n",
       "       [478.33173],\n",
       "       [630.80945],\n",
       "       [381.5719 ],\n",
       "       [670.61005],\n",
       "       [447.89334],\n",
       "       [554.10443],\n",
       "       [440.888  ],\n",
       "       [501.89545],\n",
       "       [394.6113 ],\n",
       "       [560.08044],\n",
       "       [303.23663],\n",
       "       [741.5416 ],\n",
       "       [607.967  ],\n",
       "       [604.08057],\n",
       "       [417.62396],\n",
       "       [440.92667],\n",
       "       [770.1592 ],\n",
       "       [593.0379 ],\n",
       "       [637.48846],\n",
       "       [609.1191 ],\n",
       "       [422.35974],\n",
       "       [499.3278 ],\n",
       "       [546.5829 ],\n",
       "       [506.26245],\n",
       "       [579.3847 ],\n",
       "       [365.19675],\n",
       "       [673.8302 ],\n",
       "       [478.53848],\n",
       "       [299.14713],\n",
       "       [412.0971 ],\n",
       "       [490.22464],\n",
       "       [547.68024],\n",
       "       [624.9144 ],\n",
       "       [419.90543],\n",
       "       [590.9331 ],\n",
       "       [585.7406 ],\n",
       "       [593.96747],\n",
       "       [613.8245 ],\n",
       "       [321.41617],\n",
       "       [379.7851 ],\n",
       "       [602.3178 ],\n",
       "       [473.81796],\n",
       "       [465.78894],\n",
       "       [516.84705],\n",
       "       [403.7587 ],\n",
       "       [414.32993],\n",
       "       [461.15054],\n",
       "       [589.3772 ],\n",
       "       [483.34482],\n",
       "       [485.45996],\n",
       "       [407.72647],\n",
       "       [620.82605],\n",
       "       [419.24045],\n",
       "       [548.9939 ],\n",
       "       [482.1634 ],\n",
       "       [528.4279 ],\n",
       "       [446.7246 ],\n",
       "       [591.6341 ],\n",
       "       [549.33435],\n",
       "       [360.9863 ],\n",
       "       [562.9914 ],\n",
       "       [363.54803],\n",
       "       [558.15607],\n",
       "       [516.2244 ],\n",
       "       [587.1661 ],\n",
       "       [381.22647],\n",
       "       [371.8206 ],\n",
       "       [511.17413],\n",
       "       [518.4135 ],\n",
       "       [530.00824],\n",
       "       [418.76877],\n",
       "       [449.02118],\n",
       "       [395.19122],\n",
       "       [470.8294 ],\n",
       "       [476.85382],\n",
       "       [377.09396],\n",
       "       [340.88242],\n",
       "       [416.04437],\n",
       "       [402.85693],\n",
       "       [602.19183],\n",
       "       [334.69235],\n",
       "       [250.716  ],\n",
       "       [555.0212 ],\n",
       "       [333.94272],\n",
       "       [428.0479 ],\n",
       "       [462.83618],\n",
       "       [458.33167],\n",
       "       [488.71445],\n",
       "       [374.93777],\n",
       "       [691.1247 ],\n",
       "       [449.17026],\n",
       "       [364.68665],\n",
       "       [619.2505 ],\n",
       "       [528.34985],\n",
       "       [440.9534 ],\n",
       "       [532.4278 ],\n",
       "       [533.60474],\n",
       "       [465.5149 ],\n",
       "       [540.54535],\n",
       "       [414.55206],\n",
       "       [552.2429 ],\n",
       "       [642.40857],\n",
       "       [501.6967 ],\n",
       "       [394.9467 ],\n",
       "       [502.05008],\n",
       "       [571.75824],\n",
       "       [486.5438 ],\n",
       "       [419.8935 ],\n",
       "       [468.5276 ],\n",
       "       [588.7543 ],\n",
       "       [604.76056],\n",
       "       [573.1965 ],\n",
       "       [666.71497],\n",
       "       [550.29846],\n",
       "       [425.43378],\n",
       "       [637.7464 ],\n",
       "       [678.88995],\n",
       "       [321.2566 ],\n",
       "       [535.9141 ],\n",
       "       [522.0509 ],\n",
       "       [537.8137 ],\n",
       "       [339.92307],\n",
       "       [414.17038],\n",
       "       [336.99307],\n",
       "       [576.66583],\n",
       "       [420.37546],\n",
       "       [510.8187 ],\n",
       "       [627.0451 ],\n",
       "       [618.06165],\n",
       "       [489.24554],\n",
       "       [637.52423],\n",
       "       [470.09778],\n",
       "       [533.98975],\n",
       "       [448.0969 ],\n",
       "       [524.11487],\n",
       "       [666.43005],\n",
       "       [446.4666 ],\n",
       "       [489.29846],\n",
       "       [550.27094],\n",
       "       [521.95984],\n",
       "       [399.5225 ],\n",
       "       [514.4981 ],\n",
       "       [565.0921 ],\n",
       "       [622.9767 ],\n",
       "       [585.44965],\n",
       "       [594.84753],\n",
       "       [569.3674 ],\n",
       "       [560.3269 ],\n",
       "       [523.40784],\n",
       "       [591.791  ],\n",
       "       [449.10028],\n",
       "       [518.78125],\n",
       "       [502.81183],\n",
       "       [529.3694 ],\n",
       "       [568.9086 ],\n",
       "       [422.66397],\n",
       "       [371.00888],\n",
       "       [422.636  ],\n",
       "       [365.03745],\n",
       "       [560.97864],\n",
       "       [530.782  ],\n",
       "       [347.8936 ],\n",
       "       [409.6739 ],\n",
       "       [517.681  ],\n",
       "       [492.80878],\n",
       "       [540.7563 ],\n",
       "       [293.2783 ],\n",
       "       [455.47626],\n",
       "       [636.3647 ],\n",
       "       [606.0866 ],\n",
       "       [523.9142 ],\n",
       "       [391.67792],\n",
       "       [531.7154 ],\n",
       "       [431.32712],\n",
       "       [577.54974],\n",
       "       [580.56757],\n",
       "       [703.7222 ],\n",
       "       [449.65707],\n",
       "       [464.48376],\n",
       "       [507.6941 ],\n",
       "       [603.6288 ],\n",
       "       [508.29465],\n",
       "       [457.83884],\n",
       "       [514.85266],\n",
       "       [526.405  ],\n",
       "       [560.3756 ],\n",
       "       [608.53516],\n",
       "       [563.9377 ],\n",
       "       [481.2441 ],\n",
       "       [509.21027],\n",
       "       [459.13086],\n",
       "       [428.04004],\n",
       "       [649.0563 ],\n",
       "       [614.5903 ],\n",
       "       [472.30405],\n",
       "       [541.5414 ],\n",
       "       [545.09515],\n",
       "       [526.56573]], dtype=float32)"
      ]
     },
     "execution_count": 57,
     "metadata": {},
     "output_type": "execute_result"
    }
   ],
   "source": [
    "predictions_deep1=model.predict(X_deep_test)\n",
    "predictions_deep1"
   ]
  },
  {
   "cell_type": "code",
   "execution_count": 58,
   "metadata": {
    "execution": {
     "iopub.execute_input": "2020-12-19T14:35:20.120847Z",
     "iopub.status.busy": "2020-12-19T14:35:20.120048Z",
     "iopub.status.idle": "2020-12-19T14:35:20.124917Z",
     "shell.execute_reply": "2020-12-19T14:35:20.124364Z"
    },
    "papermill": {
     "duration": 0.488137,
     "end_time": "2020-12-19T14:35:20.125031",
     "exception": false,
     "start_time": "2020-12-19T14:35:19.636894",
     "status": "completed"
    },
    "tags": []
   },
   "outputs": [
    {
     "data": {
      "text/html": [
       "<div>\n",
       "<style scoped>\n",
       "    .dataframe tbody tr th:only-of-type {\n",
       "        vertical-align: middle;\n",
       "    }\n",
       "\n",
       "    .dataframe tbody tr th {\n",
       "        vertical-align: top;\n",
       "    }\n",
       "\n",
       "    .dataframe thead th {\n",
       "        text-align: right;\n",
       "    }\n",
       "</style>\n",
       "<table border=\"1\" class=\"dataframe\">\n",
       "  <thead>\n",
       "    <tr style=\"text-align: right;\">\n",
       "      <th></th>\n",
       "      <th>Model Predictiions</th>\n",
       "    </tr>\n",
       "  </thead>\n",
       "  <tbody>\n",
       "    <tr>\n",
       "      <th>0</th>\n",
       "      <td>562.861816</td>\n",
       "    </tr>\n",
       "    <tr>\n",
       "      <th>1</th>\n",
       "      <td>480.075500</td>\n",
       "    </tr>\n",
       "    <tr>\n",
       "      <th>2</th>\n",
       "      <td>395.840424</td>\n",
       "    </tr>\n",
       "    <tr>\n",
       "      <th>3</th>\n",
       "      <td>356.792755</td>\n",
       "    </tr>\n",
       "    <tr>\n",
       "      <th>4</th>\n",
       "      <td>610.521423</td>\n",
       "    </tr>\n",
       "  </tbody>\n",
       "</table>\n",
       "</div>"
      ],
      "text/plain": [
       "   Model Predictiions\n",
       "0          562.861816\n",
       "1          480.075500\n",
       "2          395.840424\n",
       "3          356.792755\n",
       "4          610.521423"
      ]
     },
     "execution_count": 58,
     "metadata": {},
     "output_type": "execute_result"
    }
   ],
   "source": [
    "predictions_deep1_df=pd.DataFrame(predictions_deep1, columns=[\"Model Predictiions\"])\n",
    "predictions_deep1_df.head()"
   ]
  },
  {
   "cell_type": "code",
   "execution_count": 59,
   "metadata": {
    "execution": {
     "iopub.execute_input": "2020-12-19T14:35:21.070898Z",
     "iopub.status.busy": "2020-12-19T14:35:21.070185Z",
     "iopub.status.idle": "2020-12-19T14:35:21.081317Z",
     "shell.execute_reply": "2020-12-19T14:35:21.080548Z"
    },
    "papermill": {
     "duration": 0.484518,
     "end_time": "2020-12-19T14:35:21.081456",
     "exception": false,
     "start_time": "2020-12-19T14:35:20.596938",
     "status": "completed"
    },
    "tags": []
   },
   "outputs": [
    {
     "data": {
      "text/html": [
       "<div>\n",
       "<style scoped>\n",
       "    .dataframe tbody tr th:only-of-type {\n",
       "        vertical-align: middle;\n",
       "    }\n",
       "\n",
       "    .dataframe tbody tr th {\n",
       "        vertical-align: top;\n",
       "    }\n",
       "\n",
       "    .dataframe thead th {\n",
       "        text-align: right;\n",
       "    }\n",
       "</style>\n",
       "<table border=\"1\" class=\"dataframe\">\n",
       "  <thead>\n",
       "    <tr style=\"text-align: right;\">\n",
       "      <th></th>\n",
       "      <th>Real Prices</th>\n",
       "    </tr>\n",
       "  </thead>\n",
       "  <tbody>\n",
       "    <tr>\n",
       "      <th>0</th>\n",
       "      <td>553.324198</td>\n",
       "    </tr>\n",
       "    <tr>\n",
       "      <th>1</th>\n",
       "      <td>475.946996</td>\n",
       "    </tr>\n",
       "    <tr>\n",
       "      <th>2</th>\n",
       "      <td>399.746909</td>\n",
       "    </tr>\n",
       "    <tr>\n",
       "      <th>3</th>\n",
       "      <td>357.295914</td>\n",
       "    </tr>\n",
       "    <tr>\n",
       "      <th>4</th>\n",
       "      <td>613.426629</td>\n",
       "    </tr>\n",
       "  </tbody>\n",
       "</table>\n",
       "</div>"
      ],
      "text/plain": [
       "   Real Prices\n",
       "0   553.324198\n",
       "1   475.946996\n",
       "2   399.746909\n",
       "3   357.295914\n",
       "4   613.426629"
      ]
     },
     "execution_count": 59,
     "metadata": {},
     "output_type": "execute_result"
    }
   ],
   "source": [
    "y_test_df=pd.DataFrame(y_deep_test, columns=[\"Real Prices\"])\n",
    "y_test_df.head()"
   ]
  },
  {
   "cell_type": "code",
   "execution_count": 60,
   "metadata": {
    "execution": {
     "iopub.execute_input": "2020-12-19T14:35:22.029260Z",
     "iopub.status.busy": "2020-12-19T14:35:22.028550Z",
     "iopub.status.idle": "2020-12-19T14:35:22.040901Z",
     "shell.execute_reply": "2020-12-19T14:35:22.040311Z"
    },
    "papermill": {
     "duration": 0.486977,
     "end_time": "2020-12-19T14:35:22.041020",
     "exception": false,
     "start_time": "2020-12-19T14:35:21.554043",
     "status": "completed"
    },
    "tags": []
   },
   "outputs": [
    {
     "data": {
      "text/html": [
       "<div>\n",
       "<style scoped>\n",
       "    .dataframe tbody tr th:only-of-type {\n",
       "        vertical-align: middle;\n",
       "    }\n",
       "\n",
       "    .dataframe tbody tr th {\n",
       "        vertical-align: top;\n",
       "    }\n",
       "\n",
       "    .dataframe thead th {\n",
       "        text-align: right;\n",
       "    }\n",
       "</style>\n",
       "<table border=\"1\" class=\"dataframe\">\n",
       "  <thead>\n",
       "    <tr style=\"text-align: right;\">\n",
       "      <th></th>\n",
       "      <th>Model Predictiions</th>\n",
       "      <th>Real Prices</th>\n",
       "    </tr>\n",
       "  </thead>\n",
       "  <tbody>\n",
       "    <tr>\n",
       "      <th>0</th>\n",
       "      <td>562.861816</td>\n",
       "      <td>553.324198</td>\n",
       "    </tr>\n",
       "    <tr>\n",
       "      <th>1</th>\n",
       "      <td>480.075500</td>\n",
       "      <td>475.946996</td>\n",
       "    </tr>\n",
       "    <tr>\n",
       "      <th>2</th>\n",
       "      <td>395.840424</td>\n",
       "      <td>399.746909</td>\n",
       "    </tr>\n",
       "    <tr>\n",
       "      <th>3</th>\n",
       "      <td>356.792755</td>\n",
       "      <td>357.295914</td>\n",
       "    </tr>\n",
       "    <tr>\n",
       "      <th>4</th>\n",
       "      <td>610.521423</td>\n",
       "      <td>613.426629</td>\n",
       "    </tr>\n",
       "  </tbody>\n",
       "</table>\n",
       "</div>"
      ],
      "text/plain": [
       "   Model Predictiions  Real Prices\n",
       "0          562.861816   553.324198\n",
       "1          480.075500   475.946996\n",
       "2          395.840424   399.746909\n",
       "3          356.792755   357.295914\n",
       "4          610.521423   613.426629"
      ]
     },
     "execution_count": 60,
     "metadata": {},
     "output_type": "execute_result"
    }
   ],
   "source": [
    "comparison_df=pd.concat([predictions_deep1_df, y_test_df], axis=1)\n",
    "comparison_df.head()\n"
   ]
  },
  {
   "cell_type": "markdown",
   "metadata": {
    "papermill": {
     "duration": 0.467589,
     "end_time": "2020-12-19T14:35:22.981494",
     "exception": false,
     "start_time": "2020-12-19T14:35:22.513905",
     "status": "completed"
    },
    "tags": []
   },
   "source": [
    "Above we can see the compared results of our model's predictions and real prices "
   ]
  },
  {
   "cell_type": "code",
   "execution_count": 61,
   "metadata": {
    "execution": {
     "iopub.execute_input": "2020-12-19T14:35:24.009248Z",
     "iopub.status.busy": "2020-12-19T14:35:24.008460Z",
     "iopub.status.idle": "2020-12-19T14:35:24.013085Z",
     "shell.execute_reply": "2020-12-19T14:35:24.014044Z"
    },
    "papermill": {
     "duration": 0.499661,
     "end_time": "2020-12-19T14:35:24.014254",
     "exception": false,
     "start_time": "2020-12-19T14:35:23.514593",
     "status": "completed"
    },
    "tags": []
   },
   "outputs": [
    {
     "name": "stdout",
     "output_type": "stream",
     "text": [
      "Predictions of Decision Tree Regression: 8.99344094651434\n",
      "Predictions of Linear Regression: 3.990615316182315\n",
      "Predictions of Deep Learning Model: 4.073785172593295\n"
     ]
    }
   ],
   "source": [
    "print(\"Predictions of Decision Tree Regression:\",metrics.mean_absolute_error(y_test,predictions2))\n",
    "\n",
    "print(\"Predictions of Linear Regression:\",metrics.mean_absolute_error(y_test,predictions1))\n",
    "print(\"Predictions of Deep Learning Model:\",metrics.mean_absolute_error(y_deep_test,predictions_deep1))\n"
   ]
  },
  {
   "cell_type": "markdown",
   "metadata": {
    "papermill": {
     "duration": 0.472672,
     "end_time": "2020-12-19T14:35:24.959101",
     "exception": false,
     "start_time": "2020-12-19T14:35:24.486429",
     "status": "completed"
    },
    "tags": []
   },
   "source": [
    "The error above show that deep learning model has a error value around 4 dolars from the real prices like Linear regression, but when it comes to Decision tree model it is about 9.5 dolar off from the real prices. The mean of the prices is 498 and our model's prediction is less then %1 and it predicts very good."
   ]
  },
  {
   "cell_type": "code",
   "execution_count": 62,
   "metadata": {
    "execution": {
     "iopub.execute_input": "2020-12-19T14:35:25.923040Z",
     "iopub.status.busy": "2020-12-19T14:35:25.922288Z",
     "iopub.status.idle": "2020-12-19T14:35:25.944649Z",
     "shell.execute_reply": "2020-12-19T14:35:25.943978Z"
    },
    "papermill": {
     "duration": 0.506685,
     "end_time": "2020-12-19T14:35:25.944793",
     "exception": false,
     "start_time": "2020-12-19T14:35:25.438108",
     "status": "completed"
    },
    "tags": []
   },
   "outputs": [
    {
     "data": {
      "text/html": [
       "<div>\n",
       "<style scoped>\n",
       "    .dataframe tbody tr th:only-of-type {\n",
       "        vertical-align: middle;\n",
       "    }\n",
       "\n",
       "    .dataframe tbody tr th {\n",
       "        vertical-align: top;\n",
       "    }\n",
       "\n",
       "    .dataframe thead th {\n",
       "        text-align: right;\n",
       "    }\n",
       "</style>\n",
       "<table border=\"1\" class=\"dataframe\">\n",
       "  <thead>\n",
       "    <tr style=\"text-align: right;\">\n",
       "      <th></th>\n",
       "      <th>price</th>\n",
       "      <th>feature1</th>\n",
       "      <th>feature2</th>\n",
       "    </tr>\n",
       "  </thead>\n",
       "  <tbody>\n",
       "    <tr>\n",
       "      <th>count</th>\n",
       "      <td>1000.000000</td>\n",
       "      <td>1000.000000</td>\n",
       "      <td>1000.000000</td>\n",
       "    </tr>\n",
       "    <tr>\n",
       "      <th>mean</th>\n",
       "      <td>498.673029</td>\n",
       "      <td>1000.014171</td>\n",
       "      <td>999.979847</td>\n",
       "    </tr>\n",
       "    <tr>\n",
       "      <th>std</th>\n",
       "      <td>93.785431</td>\n",
       "      <td>0.974018</td>\n",
       "      <td>0.948330</td>\n",
       "    </tr>\n",
       "    <tr>\n",
       "      <th>min</th>\n",
       "      <td>223.346793</td>\n",
       "      <td>997.058347</td>\n",
       "      <td>996.995651</td>\n",
       "    </tr>\n",
       "    <tr>\n",
       "      <th>25%</th>\n",
       "      <td>433.025732</td>\n",
       "      <td>999.332068</td>\n",
       "      <td>999.316106</td>\n",
       "    </tr>\n",
       "    <tr>\n",
       "      <th>50%</th>\n",
       "      <td>502.382117</td>\n",
       "      <td>1000.009915</td>\n",
       "      <td>1000.002243</td>\n",
       "    </tr>\n",
       "    <tr>\n",
       "      <th>75%</th>\n",
       "      <td>564.921588</td>\n",
       "      <td>1000.637580</td>\n",
       "      <td>1000.645380</td>\n",
       "    </tr>\n",
       "    <tr>\n",
       "      <th>max</th>\n",
       "      <td>774.407854</td>\n",
       "      <td>1003.207934</td>\n",
       "      <td>1002.666308</td>\n",
       "    </tr>\n",
       "  </tbody>\n",
       "</table>\n",
       "</div>"
      ],
      "text/plain": [
       "             price     feature1     feature2\n",
       "count  1000.000000  1000.000000  1000.000000\n",
       "mean    498.673029  1000.014171   999.979847\n",
       "std      93.785431     0.974018     0.948330\n",
       "min     223.346793   997.058347   996.995651\n",
       "25%     433.025732   999.332068   999.316106\n",
       "50%     502.382117  1000.009915  1000.002243\n",
       "75%     564.921588  1000.637580  1000.645380\n",
       "max     774.407854  1003.207934  1002.666308"
      ]
     },
     "execution_count": 62,
     "metadata": {},
     "output_type": "execute_result"
    }
   ],
   "source": [
    "df.describe()"
   ]
  },
  {
   "cell_type": "code",
   "execution_count": 63,
   "metadata": {
    "execution": {
     "iopub.execute_input": "2020-12-19T14:35:26.897170Z",
     "iopub.status.busy": "2020-12-19T14:35:26.895637Z",
     "iopub.status.idle": "2020-12-19T14:35:26.966132Z",
     "shell.execute_reply": "2020-12-19T14:35:26.966806Z"
    },
    "papermill": {
     "duration": 0.553598,
     "end_time": "2020-12-19T14:35:26.967017",
     "exception": false,
     "start_time": "2020-12-19T14:35:26.413419",
     "status": "completed"
    },
    "tags": []
   },
   "outputs": [
    {
     "name": "stdout",
     "output_type": "stream",
     "text": [
      "Predictions of Decision Tree Regression: 149.27975438781561\n",
      "Predictions of Linear Regression: 24.51243920706268\n",
      "Predictions of Deep Learning Model: 25.969355584608675\n",
      "10/10 [==============================] - 0s 1ms/step - loss: 25.9694\n",
      "The Evaluation Mean Squared Error of Our Deep Learning Model : 25.9693660736084\n"
     ]
    }
   ],
   "source": [
    "print(\"Predictions of Decision Tree Regression:\",metrics.mean_squared_error(y_test,predictions2))\n",
    "\n",
    "print(\"Predictions of Linear Regression:\",metrics.mean_squared_error(y_test,predictions1))\n",
    "print(\"Predictions of Deep Learning Model:\",metrics.mean_squared_error(y_deep_test,predictions_deep1))\n",
    "print(\"The Evaluation Mean Squared Error of Our Deep Learning Model :\",model.evaluate(X_deep_test, y_deep_test))"
   ]
  },
  {
   "cell_type": "code",
   "execution_count": 64,
   "metadata": {
    "execution": {
     "iopub.execute_input": "2020-12-19T14:35:27.931031Z",
     "iopub.status.busy": "2020-12-19T14:35:27.929761Z",
     "iopub.status.idle": "2020-12-19T14:35:27.934527Z",
     "shell.execute_reply": "2020-12-19T14:35:27.934022Z"
    },
    "papermill": {
     "duration": 0.49026,
     "end_time": "2020-12-19T14:35:27.934645",
     "exception": false,
     "start_time": "2020-12-19T14:35:27.444385",
     "status": "completed"
    },
    "tags": []
   },
   "outputs": [
    {
     "data": {
      "text/plain": [
       "(300,)"
      ]
     },
     "execution_count": 64,
     "metadata": {},
     "output_type": "execute_result"
    }
   ],
   "source": [
    "predictions_deep_1_dimesional=predictions_deep1.reshape(300,)\n",
    "predictions_deep_1_dimesional.shape"
   ]
  },
  {
   "cell_type": "code",
   "execution_count": 65,
   "metadata": {
    "execution": {
     "iopub.execute_input": "2020-12-19T14:35:28.957147Z",
     "iopub.status.busy": "2020-12-19T14:35:28.956079Z",
     "iopub.status.idle": "2020-12-19T14:35:29.254089Z",
     "shell.execute_reply": "2020-12-19T14:35:29.254650Z"
    },
    "papermill": {
     "duration": 0.792479,
     "end_time": "2020-12-19T14:35:29.254820",
     "exception": false,
     "start_time": "2020-12-19T14:35:28.462341",
     "status": "completed"
    },
    "tags": []
   },
   "outputs": [
    {
     "data": {
      "text/plain": [
       "<matplotlib.axes._subplots.AxesSubplot at 0x7fb0dc56cf50>"
      ]
     },
     "execution_count": 65,
     "metadata": {},
     "output_type": "execute_result"
    },
    {
     "data": {
      "image/png": "[encoded data removed]",
      "text/plain": [
       "<Figure size 432x288 with 1 Axes>"
      ]
     },
     "metadata": {},
     "output_type": "display_data"
    }
   ],
   "source": [
    "sns.scatterplot(y_test,predictions1, legend=\"full\")\n",
    "sns.scatterplot(y_deep_test,predictions_deep_1_dimesional, legend=\"full\")\n",
    "#Here is the comparison of the predictions of Linear regression and Deep Learning Model, \n",
    "#it is very similar but deep learning performs better with larger datasets"
   ]
  },
  {
   "cell_type": "markdown",
   "metadata": {
    "papermill": {
     "duration": 0.47923,
     "end_time": "2020-12-19T14:35:30.222713",
     "exception": false,
     "start_time": "2020-12-19T14:35:29.743483",
     "status": "completed"
    },
    "tags": []
   },
   "source": [
    "When we have new data and try to find which we should determine for these data, we can use model.predict() method for new prices as follows:"
   ]
  },
  {
   "cell_type": "code",
   "execution_count": 66,
   "metadata": {
    "execution": {
     "iopub.execute_input": "2020-12-19T14:35:31.189654Z",
     "iopub.status.busy": "2020-12-19T14:35:31.188623Z",
     "iopub.status.idle": "2020-12-19T14:35:31.192751Z",
     "shell.execute_reply": "2020-12-19T14:35:31.193292Z"
    },
    "papermill": {
     "duration": 0.490783,
     "end_time": "2020-12-19T14:35:31.193442",
     "exception": false,
     "start_time": "2020-12-19T14:35:30.702659",
     "status": "completed"
    },
    "tags": []
   },
   "outputs": [
    {
     "data": {
      "text/plain": [
       "array([[0.15312457, 0.53968792]])"
      ]
     },
     "execution_count": 66,
     "metadata": {},
     "output_type": "execute_result"
    }
   ],
   "source": [
    "new_features=[[998,1000]]\n",
    "new_features=scaler.transform(new_features)#we have to tranform it because our model used scaled data\n",
    "new_features\n"
   ]
  },
  {
   "cell_type": "code",
   "execution_count": 67,
   "metadata": {
    "execution": {
     "iopub.execute_input": "2020-12-19T14:35:32.164554Z",
     "iopub.status.busy": "2020-12-19T14:35:32.163581Z",
     "iopub.status.idle": "2020-12-19T14:35:32.208233Z",
     "shell.execute_reply": "2020-12-19T14:35:32.208709Z"
    },
    "papermill": {
     "duration": 0.531035,
     "end_time": "2020-12-19T14:35:32.208884",
     "exception": false,
     "start_time": "2020-12-19T14:35:31.677849",
     "status": "completed"
    },
    "tags": []
   },
   "outputs": [
    {
     "data": {
      "text/plain": [
       "array([[419.24976]], dtype=float32)"
      ]
     },
     "execution_count": 67,
     "metadata": {},
     "output_type": "execute_result"
    }
   ],
   "source": [
    "model.predict(new_features)\n",
    "#Accoding to these feature, the prices should be 420.54 according to our model"
   ]
  },
  {
   "cell_type": "code",
   "execution_count": 68,
   "metadata": {
    "execution": {
     "iopub.execute_input": "2020-12-19T14:35:33.164811Z",
     "iopub.status.busy": "2020-12-19T14:35:33.163806Z",
     "iopub.status.idle": "2020-12-19T14:35:33.209656Z",
     "shell.execute_reply": "2020-12-19T14:35:33.208866Z"
    },
    "papermill": {
     "duration": 0.527277,
     "end_time": "2020-12-19T14:35:33.209797",
     "exception": false,
     "start_time": "2020-12-19T14:35:32.682520",
     "status": "completed"
    },
    "tags": []
   },
   "outputs": [
    {
     "data": {
      "text/plain": [
       "array([[322.44614]], dtype=float32)"
      ]
     },
     "execution_count": 68,
     "metadata": {},
     "output_type": "execute_result"
    }
   ],
   "source": [
    "new_features2=[[1000,998]]\n",
    "new_features2=scaler.transform(new_features2)\n",
    "model.predict(new_features2)"
   ]
  },
  {
   "cell_type": "markdown",
   "metadata": {
    "papermill": {
     "duration": 0.488502,
     "end_time": "2020-12-19T14:35:34.197681",
     "exception": false,
     "start_time": "2020-12-19T14:35:33.709179",
     "status": "completed"
    },
    "tags": []
   },
   "source": [
    "#Accoding to these feature, the prices should be 323.56 according to our model\n",
    "\n",
    "We understand that feature 2 affect much more than feature 1 because I got lower price when exchanged the same values in the first new data."
   ]
  },
  {
   "cell_type": "markdown",
   "metadata": {
    "papermill": {
     "duration": 0.497304,
     "end_time": "2020-12-19T14:35:35.206930",
     "exception": false,
     "start_time": "2020-12-19T14:35:34.709626",
     "status": "completed"
    },
    "tags": []
   },
   "source": [
    "# 5. Saving Our Model for Future Use"
   ]
  },
  {
   "cell_type": "markdown",
   "metadata": {
    "papermill": {
     "duration": 0.477064,
     "end_time": "2020-12-19T14:35:36.196712",
     "exception": false,
     "start_time": "2020-12-19T14:35:35.719648",
     "status": "completed"
    },
    "tags": []
   },
   "source": [
    "we can save our model and download it later if we aim to use it in the future"
   ]
  },
  {
   "cell_type": "code",
   "execution_count": 69,
   "metadata": {
    "execution": {
     "iopub.execute_input": "2020-12-19T14:35:37.151707Z",
     "iopub.status.busy": "2020-12-19T14:35:37.150977Z",
     "iopub.status.idle": "2020-12-19T14:35:37.154090Z",
     "shell.execute_reply": "2020-12-19T14:35:37.153557Z"
    },
    "papermill": {
     "duration": 0.481562,
     "end_time": "2020-12-19T14:35:37.154211",
     "exception": false,
     "start_time": "2020-12-19T14:35:36.672649",
     "status": "completed"
    },
    "tags": []
   },
   "outputs": [],
   "source": [
    "from tensorflow.keras.models import load_model"
   ]
  },
  {
   "cell_type": "markdown",
   "metadata": {
    "papermill": {
     "duration": 0.476397,
     "end_time": "2020-12-19T14:35:38.118344",
     "exception": false,
     "start_time": "2020-12-19T14:35:37.641947",
     "status": "completed"
    },
    "tags": []
   },
   "source": [
    "save(filepath, overwrite=True, include_optimizer=True, save_format=None, signatures=None, options=None) method of tensorflow.python.keras.engine.sequential.Sequential instance\n",
    "    Saves the model to Tensorflow SavedModel or a single HDF5 file.\n",
    "    \n",
    "    The savefile includes:\n",
    "    \n",
    "    - The model architecture, allowing to re-instantiate the model.\n",
    "    - The model weights.\n",
    "    - The state of the optimizer, allowing to resume training\n",
    "        exactly where you left off.\n",
    "    \n",
    "    This allows you to save the entirety of the state of a model\n",
    "    in a single file."
   ]
  },
  {
   "cell_type": "code",
   "execution_count": 70,
   "metadata": {
    "execution": {
     "iopub.execute_input": "2020-12-19T14:35:39.096220Z",
     "iopub.status.busy": "2020-12-19T14:35:39.095124Z",
     "iopub.status.idle": "2020-12-19T14:35:39.115890Z",
     "shell.execute_reply": "2020-12-19T14:35:39.116429Z"
    },
    "papermill": {
     "duration": 0.513794,
     "end_time": "2020-12-19T14:35:39.116679",
     "exception": false,
     "start_time": "2020-12-19T14:35:38.602885",
     "status": "completed"
    },
    "tags": []
   },
   "outputs": [],
   "source": [
    "model.save(\"my_price_pridecition_model.h5\")"
   ]
  },
  {
   "cell_type": "code",
   "execution_count": 71,
   "metadata": {
    "execution": {
     "iopub.execute_input": "2020-12-19T14:35:40.079801Z",
     "iopub.status.busy": "2020-12-19T14:35:40.079092Z",
     "iopub.status.idle": "2020-12-19T14:35:40.146838Z",
     "shell.execute_reply": "2020-12-19T14:35:40.147460Z"
    },
    "papermill": {
     "duration": 0.557613,
     "end_time": "2020-12-19T14:35:40.147627",
     "exception": false,
     "start_time": "2020-12-19T14:35:39.590014",
     "status": "completed"
    },
    "tags": []
   },
   "outputs": [],
   "source": [
    "my_model_back=load_model(\"my_price_pridecition_model.h5\")"
   ]
  },
  {
   "cell_type": "markdown",
   "metadata": {
    "papermill": {
     "duration": 0.480683,
     "end_time": "2020-12-19T14:35:41.106014",
     "exception": false,
     "start_time": "2020-12-19T14:35:40.625331",
     "status": "completed"
    },
    "tags": []
   },
   "source": [
    "Here we load our saved model and reuse it"
   ]
  },
  {
   "cell_type": "code",
   "execution_count": 72,
   "metadata": {
    "execution": {
     "iopub.execute_input": "2020-12-19T14:35:42.079129Z",
     "iopub.status.busy": "2020-12-19T14:35:42.074084Z",
     "iopub.status.idle": "2020-12-19T14:35:42.153071Z",
     "shell.execute_reply": "2020-12-19T14:35:42.153608Z"
    },
    "papermill": {
     "duration": 0.571322,
     "end_time": "2020-12-19T14:35:42.153778",
     "exception": false,
     "start_time": "2020-12-19T14:35:41.582456",
     "status": "completed"
    },
    "tags": []
   },
   "outputs": [
    {
     "data": {
      "text/plain": [
       "array([[419.24976]], dtype=float32)"
      ]
     },
     "execution_count": 72,
     "metadata": {},
     "output_type": "execute_result"
    }
   ],
   "source": [
    "my_model_back.predict(new_features)"
   ]
  },
  {
   "cell_type": "markdown",
   "metadata": {
    "papermill": {
     "duration": 0.477511,
     "end_time": "2020-12-19T14:35:43.108524",
     "exception": false,
     "start_time": "2020-12-19T14:35:42.631013",
     "status": "completed"
    },
    "tags": []
   },
   "source": [
    "Here I reuse my model and get actual the same prediction for new features"
   ]
  }
 ],
 "metadata": {
  "kernelspec": {
   "display_name": "Python 3",
   "language": "python",
   "name": "python3"
  },
  "language_info": {
   "codemirror_mode": {
    "name": "ipython",
    "version": 3
   },
   "file_extension": ".py",
   "mimetype": "text/x-python",
   "name": "python",
   "nbconvert_exporter": "python",
   "pygments_lexer": "ipython3",
   "version": "3.7.6"
  },
  "papermill": {
   "duration": 83.906898,
   "end_time": "2020-12-19T14:35:43.753826",
   "environment_variables": {},
   "exception": null,
   "input_path": "__notebook__.ipynb",
   "output_path": "__notebook__.ipynb",
   "parameters": {},
   "start_time": "2020-12-19T14:34:19.846928",
   "version": "2.1.0"
  }
 },
 "nbformat": 4,
 "nbformat_minor": 4
}
